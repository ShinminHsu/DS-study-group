{
 "cells": [
  {
   "cell_type": "markdown",
   "metadata": {},
   "source": [
    "# 01. Conversion Rate"
   ]
  },
  {
   "cell_type": "markdown",
   "metadata": {},
   "source": [
    "### Conversion Rate\n",
    "We have data about users who hit our site: whether they converted or not as well as some of their characteristics such as their country, the marketing channel, their age, whether they are repeat users and the number of pages visited during that session (as a proxy for site activity/time spent on site). Your project is to: \n",
    "- Predict conversion rate \n",
    "- Come up with recommendations for the product team and the marketing team to improve conversion rate"
   ]
  },
  {
   "cell_type": "code",
   "execution_count": 1,
   "metadata": {},
   "outputs": [],
   "source": [
    "import warnings\n",
    "warnings.filterwarnings(\"ignore\")\n",
    "import pandas as pd\n",
    "import numpy as np\n",
    "import matplotlib.pyplot as plt"
   ]
  },
  {
   "cell_type": "code",
   "execution_count": 2,
   "metadata": {},
   "outputs": [
    {
     "data": {
      "text/html": [
       "<div>\n",
       "<style scoped>\n",
       "    .dataframe tbody tr th:only-of-type {\n",
       "        vertical-align: middle;\n",
       "    }\n",
       "\n",
       "    .dataframe tbody tr th {\n",
       "        vertical-align: top;\n",
       "    }\n",
       "\n",
       "    .dataframe thead th {\n",
       "        text-align: right;\n",
       "    }\n",
       "</style>\n",
       "<table border=\"1\" class=\"dataframe\">\n",
       "  <thead>\n",
       "    <tr style=\"text-align: right;\">\n",
       "      <th></th>\n",
       "      <th>country</th>\n",
       "      <th>age</th>\n",
       "      <th>new_user</th>\n",
       "      <th>source</th>\n",
       "      <th>total_pages_visited</th>\n",
       "      <th>converted</th>\n",
       "    </tr>\n",
       "  </thead>\n",
       "  <tbody>\n",
       "    <tr>\n",
       "      <th>0</th>\n",
       "      <td>UK</td>\n",
       "      <td>25</td>\n",
       "      <td>1</td>\n",
       "      <td>Ads</td>\n",
       "      <td>1</td>\n",
       "      <td>0</td>\n",
       "    </tr>\n",
       "    <tr>\n",
       "      <th>1</th>\n",
       "      <td>US</td>\n",
       "      <td>23</td>\n",
       "      <td>1</td>\n",
       "      <td>Seo</td>\n",
       "      <td>5</td>\n",
       "      <td>0</td>\n",
       "    </tr>\n",
       "    <tr>\n",
       "      <th>2</th>\n",
       "      <td>US</td>\n",
       "      <td>28</td>\n",
       "      <td>1</td>\n",
       "      <td>Seo</td>\n",
       "      <td>4</td>\n",
       "      <td>0</td>\n",
       "    </tr>\n",
       "    <tr>\n",
       "      <th>3</th>\n",
       "      <td>China</td>\n",
       "      <td>39</td>\n",
       "      <td>1</td>\n",
       "      <td>Seo</td>\n",
       "      <td>5</td>\n",
       "      <td>0</td>\n",
       "    </tr>\n",
       "    <tr>\n",
       "      <th>4</th>\n",
       "      <td>US</td>\n",
       "      <td>30</td>\n",
       "      <td>1</td>\n",
       "      <td>Seo</td>\n",
       "      <td>6</td>\n",
       "      <td>0</td>\n",
       "    </tr>\n",
       "  </tbody>\n",
       "</table>\n",
       "</div>"
      ],
      "text/plain": [
       "  country  age  new_user source  total_pages_visited  converted\n",
       "0      UK   25         1    Ads                    1          0\n",
       "1      US   23         1    Seo                    5          0\n",
       "2      US   28         1    Seo                    4          0\n",
       "3   China   39         1    Seo                    5          0\n",
       "4      US   30         1    Seo                    6          0"
      ]
     },
     "execution_count": 2,
     "metadata": {},
     "output_type": "execute_result"
    }
   ],
   "source": [
    "df = pd.read_csv(\"./data/conversion_data.csv\")\n",
    "df.head()"
   ]
  },
  {
   "cell_type": "markdown",
   "metadata": {},
   "source": [
    "## 1. EDA"
   ]
  },
  {
   "cell_type": "code",
   "execution_count": 3,
   "metadata": {},
   "outputs": [
    {
     "name": "stdout",
     "output_type": "stream",
     "text": [
      "ndata: 316200\n"
     ]
    }
   ],
   "source": [
    "print(f\"ndata: {df.shape[0]}\")"
   ]
  },
  {
   "cell_type": "code",
   "execution_count": 4,
   "metadata": {},
   "outputs": [
    {
     "name": "stdout",
     "output_type": "stream",
     "text": [
      "There is no missing value\n"
     ]
    },
    {
     "data": {
      "text/plain": [
       "country                0\n",
       "age                    0\n",
       "new_user               0\n",
       "source                 0\n",
       "total_pages_visited    0\n",
       "converted              0\n",
       "dtype: int64"
      ]
     },
     "execution_count": 4,
     "metadata": {},
     "output_type": "execute_result"
    }
   ],
   "source": [
    "print(\"There is no missing value\")\n",
    "df.isna().sum()"
   ]
  },
  {
   "cell_type": "markdown",
   "metadata": {},
   "source": [
    "### 1-1. Country\n",
    "Users come from: \n",
    "1. US (56.3%) \n",
    "2. China (24.2%). \n",
    "3. UK (15.3%) \n",
    "4. Germany (4.1%)"
   ]
  },
  {
   "cell_type": "code",
   "execution_count": 5,
   "metadata": {},
   "outputs": [
    {
     "data": {
      "image/png": "[encoded data removed]",
      "text/plain": [
       "<Figure size 432x288 with 1 Axes>"
      ]
     },
     "metadata": {},
     "output_type": "display_data"
    }
   ],
   "source": [
    "fig1, ax1 = plt.subplots()\n",
    "data = df[\"country\"].value_counts()\n",
    "\n",
    "ax1.pie(data, labels=data.index, autopct='%1.1f%%', \n",
    "        counterclock=False, startangle=90,  textprops={'color':\"black\"})\n",
    "ax1.axis() \n",
    "plt.show()"
   ]
  },
  {
   "cell_type": "markdown",
   "metadata": {},
   "source": [
    "### 1-2. Age\n",
    "- Most of users age are 20~40\n",
    "- There are 2 outliers (>100y/o) we need to deal with."
   ]
  },
  {
   "cell_type": "code",
   "execution_count": 6,
   "metadata": {},
   "outputs": [
    {
     "name": "stdout",
     "output_type": "stream",
     "text": [
      "min 17 max: 123\n"
     ]
    },
    {
     "data": {
      "image/png": "[encoded data removed]",
      "text/plain": [
       "<Figure size 432x288 with 1 Axes>"
      ]
     },
     "metadata": {
      "needs_background": "light"
     },
     "output_type": "display_data"
    }
   ],
   "source": [
    "df.boxplot([\"age\"])\n",
    "print(\"min\", df[\"age\"].min(), \"max:\", df[\"age\"].max())"
   ]
  },
  {
   "cell_type": "code",
   "execution_count": 7,
   "metadata": {},
   "outputs": [
    {
     "data": {
      "text/plain": [
       "<matplotlib.axes._subplots.AxesSubplot at 0x7fb02d0b18d0>"
      ]
     },
     "execution_count": 7,
     "metadata": {},
     "output_type": "execute_result"
    },
    {
     "data": {
      "image/png": "[encoded data removed]",
      "text/plain": [
       "<Figure size 432x288 with 1 Axes>"
      ]
     },
     "metadata": {
      "needs_background": "light"
     },
     "output_type": "display_data"
    }
   ],
   "source": [
    "df[\"age\"].plot.hist(bins=np.arange(0,130,5))"
   ]
  },
  {
   "cell_type": "markdown",
   "metadata": {},
   "source": [
    "### 1-3. Users\n",
    "- New user (68.5%) vs. Old user (31.5%)"
   ]
  },
  {
   "cell_type": "code",
   "execution_count": 8,
   "metadata": {},
   "outputs": [
    {
     "data": {
      "image/png": "[encoded data removed]",
      "text/plain": [
       "<Figure size 432x288 with 1 Axes>"
      ]
     },
     "metadata": {},
     "output_type": "display_data"
    }
   ],
   "source": [
    "fig1, ax1 = plt.subplots()\n",
    "data = df[\"new_user\"].value_counts()\n",
    "ax1.pie(data, labels=data.index, autopct='%1.1f%%', \n",
    "        counterclock=False, startangle=90,  textprops={'color':\"black\"})\n",
    "ax1.axis() \n",
    "plt.show()"
   ]
  },
  {
   "cell_type": "markdown",
   "metadata": {},
   "source": [
    "### 1-4. Source\n",
    "- top1 one source is SEO, almost half of user (49.0%) come from this source. The top2 source is Ads (28.1%). Top3 is Direct (22.9)%%."
   ]
  },
  {
   "cell_type": "code",
   "execution_count": 9,
   "metadata": {},
   "outputs": [
    {
     "data": {
      "image/png": "[encoded data removed]",
      "text/plain": [
       "<Figure size 432x288 with 1 Axes>"
      ]
     },
     "metadata": {},
     "output_type": "display_data"
    }
   ],
   "source": [
    "fig1, ax1 = plt.subplots()\n",
    "data = df[\"source\"].value_counts()\n",
    "ax1.pie(data, labels=data.index, autopct='%1.1f%%', \n",
    "        counterclock=False, startangle=90,  textprops={'color':\"black\"})\n",
    "ax1.axis() \n",
    "plt.show()"
   ]
  },
  {
   "cell_type": "markdown",
   "metadata": {},
   "source": [
    "### 1-5. Total Pages Visited\n",
    "- The dist. of total_pages_visited is positive skewed distribution."
   ]
  },
  {
   "cell_type": "code",
   "execution_count": 10,
   "metadata": {},
   "outputs": [
    {
     "data": {
      "text/plain": [
       "<matplotlib.axes._subplots.AxesSubplot at 0x7fb02c0b31d0>"
      ]
     },
     "execution_count": 10,
     "metadata": {},
     "output_type": "execute_result"
    },
    {
     "data": {
      "image/png": "[encoded data removed]",
      "text/plain": [
       "<Figure size 432x288 with 1 Axes>"
      ]
     },
     "metadata": {
      "needs_background": "light"
     },
     "output_type": "display_data"
    }
   ],
   "source": [
    "df[\"total_pages_visited\"].plot.hist(bins=np.arange(1,max(df[\"total_pages_visited\"])+2,1))"
   ]
  },
  {
   "cell_type": "markdown",
   "metadata": {},
   "source": [
    "### 1-6. Converted\n",
    "- Conversion rate is 3.2%. Our dataset is **extremely imbalanced dataset**."
   ]
  },
  {
   "cell_type": "code",
   "execution_count": 11,
   "metadata": {},
   "outputs": [
    {
     "data": {
      "image/png": "[encoded data removed]",
      "text/plain": [
       "<Figure size 432x288 with 1 Axes>"
      ]
     },
     "metadata": {},
     "output_type": "display_data"
    }
   ],
   "source": [
    "fig1, ax1 = plt.subplots()\n",
    "data = df[\"converted\"].value_counts()\n",
    "ax1.pie(data, labels=data.index, autopct='%1.1f%%', \n",
    "        counterclock=False, startangle=90,  textprops={'color':\"black\"})\n",
    "ax1.axis() \n",
    "plt.show()"
   ]
  },
  {
   "cell_type": "markdown",
   "metadata": {},
   "source": [
    "## 2. Predict Conversion Rate"
   ]
  },
  {
   "cell_type": "code",
   "execution_count": 12,
   "metadata": {},
   "outputs": [],
   "source": [
    "from sklearn.model_selection import train_test_split\n",
    "from sklearn.metrics import accuracy_score\n",
    "from sklearn.metrics import precision_score\n",
    "from sklearn.metrics import recall_score\n",
    "from sklearn.metrics import classification_report\n",
    "from sklearn.metrics import confusion_matrix\n",
    "from sklearn.metrics import precision_recall_curve"
   ]
  },
  {
   "cell_type": "code",
   "execution_count": 13,
   "metadata": {},
   "outputs": [
    {
     "data": {
      "text/html": [
       "<div>\n",
       "<style scoped>\n",
       "    .dataframe tbody tr th:only-of-type {\n",
       "        vertical-align: middle;\n",
       "    }\n",
       "\n",
       "    .dataframe tbody tr th {\n",
       "        vertical-align: top;\n",
       "    }\n",
       "\n",
       "    .dataframe thead th {\n",
       "        text-align: right;\n",
       "    }\n",
       "</style>\n",
       "<table border=\"1\" class=\"dataframe\">\n",
       "  <thead>\n",
       "    <tr style=\"text-align: right;\">\n",
       "      <th></th>\n",
       "      <th>age</th>\n",
       "      <th>new_user</th>\n",
       "      <th>total_pages_visited</th>\n",
       "      <th>converted</th>\n",
       "      <th>country_China</th>\n",
       "      <th>country_Germany</th>\n",
       "      <th>country_UK</th>\n",
       "      <th>country_US</th>\n",
       "      <th>source_Ads</th>\n",
       "      <th>source_Direct</th>\n",
       "      <th>source_Seo</th>\n",
       "    </tr>\n",
       "  </thead>\n",
       "  <tbody>\n",
       "    <tr>\n",
       "      <th>0</th>\n",
       "      <td>25</td>\n",
       "      <td>1</td>\n",
       "      <td>1</td>\n",
       "      <td>0</td>\n",
       "      <td>0</td>\n",
       "      <td>0</td>\n",
       "      <td>1</td>\n",
       "      <td>0</td>\n",
       "      <td>1</td>\n",
       "      <td>0</td>\n",
       "      <td>0</td>\n",
       "    </tr>\n",
       "    <tr>\n",
       "      <th>1</th>\n",
       "      <td>23</td>\n",
       "      <td>1</td>\n",
       "      <td>5</td>\n",
       "      <td>0</td>\n",
       "      <td>0</td>\n",
       "      <td>0</td>\n",
       "      <td>0</td>\n",
       "      <td>1</td>\n",
       "      <td>0</td>\n",
       "      <td>0</td>\n",
       "      <td>1</td>\n",
       "    </tr>\n",
       "    <tr>\n",
       "      <th>2</th>\n",
       "      <td>28</td>\n",
       "      <td>1</td>\n",
       "      <td>4</td>\n",
       "      <td>0</td>\n",
       "      <td>0</td>\n",
       "      <td>0</td>\n",
       "      <td>0</td>\n",
       "      <td>1</td>\n",
       "      <td>0</td>\n",
       "      <td>0</td>\n",
       "      <td>1</td>\n",
       "    </tr>\n",
       "    <tr>\n",
       "      <th>3</th>\n",
       "      <td>39</td>\n",
       "      <td>1</td>\n",
       "      <td>5</td>\n",
       "      <td>0</td>\n",
       "      <td>1</td>\n",
       "      <td>0</td>\n",
       "      <td>0</td>\n",
       "      <td>0</td>\n",
       "      <td>0</td>\n",
       "      <td>0</td>\n",
       "      <td>1</td>\n",
       "    </tr>\n",
       "    <tr>\n",
       "      <th>4</th>\n",
       "      <td>30</td>\n",
       "      <td>1</td>\n",
       "      <td>6</td>\n",
       "      <td>0</td>\n",
       "      <td>0</td>\n",
       "      <td>0</td>\n",
       "      <td>0</td>\n",
       "      <td>1</td>\n",
       "      <td>0</td>\n",
       "      <td>0</td>\n",
       "      <td>1</td>\n",
       "    </tr>\n",
       "  </tbody>\n",
       "</table>\n",
       "</div>"
      ],
      "text/plain": [
       "   age  new_user  total_pages_visited  converted  country_China  \\\n",
       "0   25         1                    1          0              0   \n",
       "1   23         1                    5          0              0   \n",
       "2   28         1                    4          0              0   \n",
       "3   39         1                    5          0              1   \n",
       "4   30         1                    6          0              0   \n",
       "\n",
       "   country_Germany  country_UK  country_US  source_Ads  source_Direct  \\\n",
       "0                0           1           0           1              0   \n",
       "1                0           0           1           0              0   \n",
       "2                0           0           1           0              0   \n",
       "3                0           0           0           0              0   \n",
       "4                0           0           1           0              0   \n",
       "\n",
       "   source_Seo  \n",
       "0           0  \n",
       "1           1  \n",
       "2           1  \n",
       "3           1  \n",
       "4           1  "
      ]
     },
     "execution_count": 13,
     "metadata": {},
     "output_type": "execute_result"
    }
   ],
   "source": [
    "one_hot_col = [\"country\", \"source\"]\n",
    "clean_df = df.loc[df[\"age\"]<100]\n",
    "one_hot = pd.get_dummies(clean_df[one_hot_col])\n",
    "data_df = clean_df.drop(one_hot_col, axis=1)\n",
    "data_df = data_df.join(one_hot)\n",
    "data_df.head()"
   ]
  },
  {
   "cell_type": "code",
   "execution_count": 14,
   "metadata": {},
   "outputs": [],
   "source": [
    "X=data_df.drop([\"converted\"], axis=1)\n",
    "y=data_df[\"converted\"]\n",
    "X_train, X_test, y_train, y_test = train_test_split(X, y, test_size=0.2)"
   ]
  },
  {
   "cell_type": "markdown",
   "metadata": {},
   "source": [
    "### 2-1 Built Xgboost Model"
   ]
  },
  {
   "cell_type": "code",
   "execution_count": 15,
   "metadata": {},
   "outputs": [],
   "source": [
    "import xgboost\n",
    "import shap"
   ]
  },
  {
   "cell_type": "code",
   "execution_count": 16,
   "metadata": {},
   "outputs": [
    {
     "data": {
      "text/plain": [
       "XGBClassifier(base_score=0.5, booster='gbtree', colsample_bylevel=1,\n",
       "              colsample_bynode=1, colsample_bytree=1, gamma=0, gpu_id=-1,\n",
       "              importance_type='gain', interaction_constraints='',\n",
       "              learning_rate=0.300000012, max_delta_step=0, max_depth=6,\n",
       "              min_child_weight=1, missing=nan, monotone_constraints='()',\n",
       "              n_estimators=100, n_jobs=0, num_parallel_tree=1,\n",
       "              objective='binary:logistic', random_state=100, reg_alpha=0,\n",
       "              reg_lambda=1, scale_pos_weight=1, seed=100, subsample=1,\n",
       "              tree_method='exact', validate_parameters=1, verbosity=None)"
      ]
     },
     "execution_count": 16,
     "metadata": {},
     "output_type": "execute_result"
    }
   ],
   "source": [
    "xgb = xgboost.XGBClassifier(seed=100)\n",
    "xgb.fit(X_train, y_train)"
   ]
  },
  {
   "cell_type": "markdown",
   "metadata": {},
   "source": [
    "### 2-2 Model Performance\n",
    "- **Model is not overfitting.** Tree-based models tend to overfit data. Our model is not overfitting by comparing training dataset and testing dataset,.\n",
    "- **Model perform quit well!** Because our data is imbalanced, we evaluate model performance based on **precision (84%), recall (69%), and pr_auc (83%)**"
   ]
  },
  {
   "cell_type": "code",
   "execution_count": 17,
   "metadata": {},
   "outputs": [
    {
     "name": "stdout",
     "output_type": "stream",
     "text": [
      "train acc: 0.99 precision:0.86 recall: 0.70\n",
      "test acc: 0.99 precision:0.84 recall: 0.69\n"
     ]
    }
   ],
   "source": [
    "y_pred = xgb.predict(X_train)\n",
    "acc = accuracy_score(y_train, y_pred)\n",
    "precision = precision_score(y_train, y_pred)\n",
    "recall = recall_score(y_train, y_pred)\n",
    "print(f\"train acc: {acc:.2f} precision:{precision:.2f} recall: {recall:.2f}\")\n",
    "y_pred = xgb.predict(X_test)\n",
    "acc = accuracy_score(y_test, y_pred)\n",
    "precision = precision_score(y_test, y_pred)\n",
    "recall = recall_score(y_test, y_pred)\n",
    "print(f\"test acc: {acc:.2f} precision:{precision:.2f} recall: {recall:.2f}\")"
   ]
  },
  {
   "cell_type": "code",
   "execution_count": 18,
   "metadata": {},
   "outputs": [],
   "source": [
    "y_prob = xgb.predict_proba(X_test)[:, 1]\n",
    "precision, recall, thresholds = precision_recall_curve(y_test, y_prob)"
   ]
  },
  {
   "cell_type": "code",
   "execution_count": 19,
   "metadata": {},
   "outputs": [
    {
     "name": "stdout",
     "output_type": "stream",
     "text": [
      "pr_auc: 0.83\n"
     ]
    }
   ],
   "source": [
    "from sklearn.metrics import auc\n",
    "auc_precision_recall = auc(recall, precision)\n",
    "print(f\"pr_auc: {auc_precision_recall:.2f}\")"
   ]
  },
  {
   "cell_type": "markdown",
   "metadata": {},
   "source": [
    "## 3. Explain the model (shapley value)"
   ]
  },
  {
   "cell_type": "code",
   "execution_count": 20,
   "metadata": {},
   "outputs": [
    {
     "name": "stderr",
     "output_type": "stream",
     "text": [
      "100%|===================| 252788/252958 [09:40<00:00]       "
     ]
    }
   ],
   "source": [
    "explainer = shap.TreeExplainer(xgb, X_train)\n",
    "shap_values = explainer(X_train)"
   ]
  },
  {
   "cell_type": "markdown",
   "metadata": {},
   "source": [
    "### 3-1 Generally, the most influential features are:\n",
    "\n",
    "- total_pages_visited: total_pages_visited ↑, converted ↑\n",
    "- country_China: if user is from China, converted ↓ \n",
    "- age: age ↓, converted ↑\n",
    "- new_user: if user is new, converted ↓"
   ]
  },
  {
   "cell_type": "code",
   "execution_count": 21,
   "metadata": {},
   "outputs": [
    {
     "data": {
      "image/png": "[encoded data removed]",
      "text/plain": [
       "<Figure size 576x468 with 1 Axes>"
      ]
     },
     "metadata": {},
     "output_type": "display_data"
    }
   ],
   "source": [
    "shap.plots.bar(shap_values)"
   ]
  },
  {
   "cell_type": "code",
   "execution_count": 22,
   "metadata": {},
   "outputs": [
    {
     "data": {
      "image/png": "[encoded data removed]",
      "text/plain": [
       "<Figure size 576x396 with 2 Axes>"
      ]
     },
     "metadata": {
      "needs_background": "light"
     },
     "output_type": "display_data"
    }
   ],
   "source": [
    "shap.plots.beeswarm(shap_values)"
   ]
  },
  {
   "cell_type": "markdown",
   "metadata": {},
   "source": [
    "### 3-2 Let’s dive into each feature!"
   ]
  },
  {
   "cell_type": "markdown",
   "metadata": {},
   "source": [
    "### Top1: total pages visited\n",
    "- When total_pages_visited <= 4, users tend to not purchase. The relationship between total_pages_visited and conversion is linear. Conversion increase when total_pages_visited increase.\n",
    "- **There is a data leaky problem**."
   ]
  },
  {
   "cell_type": "code",
   "execution_count": 23,
   "metadata": {},
   "outputs": [
    {
     "data": {
      "image/png": "[encoded data removed]",
      "text/plain": [
       "<Figure size 432x360 with 2 Axes>"
      ]
     },
     "metadata": {
      "needs_background": "light"
     },
     "output_type": "display_data"
    }
   ],
   "source": [
    "shap.plots.scatter(shap_values[:,\"total_pages_visited\"])"
   ]
  },
  {
   "cell_type": "markdown",
   "metadata": {},
   "source": [
    "### Top2: country China\n",
    "- Conversion from China user are very low.\n",
    "- Conversion rate are significantly different among all coutries."
   ]
  },
  {
   "cell_type": "code",
   "execution_count": 24,
   "metadata": {},
   "outputs": [
    {
     "data": {
      "image/png": "[encoded data removed]",
      "text/plain": [
       "<Figure size 432x360 with 2 Axes>"
      ]
     },
     "metadata": {
      "needs_background": "light"
     },
     "output_type": "display_data"
    }
   ],
   "source": [
    "shap.plots.scatter(shap_values[:,\"country_China\"])"
   ]
  },
  {
   "cell_type": "code",
   "execution_count": 25,
   "metadata": {},
   "outputs": [
    {
     "name": "stdout",
     "output_type": "stream",
     "text": [
      "【avg. conversion rate】\n",
      "0.03\n",
      "------------------\n",
      "【train data】\n",
      "               converted\n",
      "country_China           \n",
      "0               0.042132\n",
      "1               0.001408\n",
      "------------------\n",
      "【all data】\n",
      "               converted\n",
      "country_China           \n",
      "0               0.042138\n",
      "1               0.001332\n"
     ]
    }
   ],
   "source": [
    "print(f\"【avg. conversion rate】\")\n",
    "print(f\"{y_train.mean():.2f}\")\n",
    "print(\"------------------\")\n",
    "print(\"【train data】\")\n",
    "print(X_train.join(y_train)[[\"country_China\", \"converted\"]].groupby(\"country_China\").mean())\n",
    "print(\"------------------\")\n",
    "print(\"【all data】\")\n",
    "print(data_df[[\"country_China\", \"converted\"]].groupby(\"country_China\").mean())"
   ]
  },
  {
   "cell_type": "code",
   "execution_count": 26,
   "metadata": {},
   "outputs": [],
   "source": [
    "from scipy.stats import chi2_contingency\n",
    "from itertools import combinations"
   ]
  },
  {
   "cell_type": "code",
   "execution_count": 27,
   "metadata": {},
   "outputs": [],
   "source": [
    "# transform to contingency table\n",
    "country_contingency = pd.crosstab(index=clean_df[\"country\"],columns=clean_df[\"converted\"])"
   ]
  },
  {
   "cell_type": "code",
   "execution_count": 28,
   "metadata": {},
   "outputs": [
    {
     "name": "stdout",
     "output_type": "stream",
     "text": [
      "Omnibus test (p-value): 0.0000\n",
      "Significance results:\n",
      "Chi2 result for pair ('China', 'Germany') p-value: 0.0*\n",
      "Chi2 result for pair ('China', 'UK') p-value: 0.0*\n",
      "Chi2 result for pair ('China', 'US') p-value: 0.0*\n",
      "Chi2 result for pair ('Germany', 'UK') p-value: 1.1986730098115515e-05*\n",
      "Chi2 result for pair ('Germany', 'US') p-value: 3.2658374732742763e-44*\n",
      "Chi2 result for pair ('UK', 'US') p-value: 3.6065477977271655e-48*\n"
     ]
    }
   ],
   "source": [
    "chi2, p, dof, ex = chi2_contingency(country_contingency, correction=True)\n",
    "print(f\"Omnibus test (p-value): {p:.4f}\")\n",
    "all_combinations = list(combinations(country_contingency.index, 2))\n",
    "print(\"Significance results:\")\n",
    "for comb in all_combinations:    \n",
    "    # subset df into a dataframe containing only the pair \"comb\"    \n",
    "    new_df = country_contingency[(country_contingency.index == comb[0]) | (country_contingency.index == comb[1])]    \n",
    "    # running chi2 test    \n",
    "    chi2, p, dof, ex = chi2_contingency(new_df, correction=False)    \n",
    "    if p<0.05/len(country_contingency.index): #Bonferroni correction        \n",
    "        sig=\"*\"    \n",
    "    else:        \n",
    "        sig=\"\"    \n",
    "    print(f\"Chi2 result for pair {comb} p-value: {p}{sig}\")"
   ]
  },
  {
   "cell_type": "code",
   "execution_count": 29,
   "metadata": {},
   "outputs": [
    {
     "data": {
      "text/plain": [
       "country\n",
       "Germany    0.062428\n",
       "UK         0.052612\n",
       "US         0.037801\n",
       "China      0.001332\n",
       "Name: conversion_rate, dtype: float64"
      ]
     },
     "execution_count": 29,
     "metadata": {},
     "output_type": "execute_result"
    }
   ],
   "source": [
    "country_contingency[\"conversion_rate\"]=country_contingency[1]/(country_contingency[0]+country_contingency[1])\n",
    "country_contingency[\"conversion_rate\"].sort_values(ascending=False)"
   ]
  },
  {
   "cell_type": "markdown",
   "metadata": {},
   "source": [
    "### Top3: Age\n",
    "- The relationship b/w Age and conversion is a U-shaped. Users under 25y/o have the highest conversion. The is a huge drop in 50~60y/o, people who are 50~60y/o tend to drop out without purchasing. Then, people who older then 60 seem like to buy things."
   ]
  },
  {
   "cell_type": "code",
   "execution_count": 30,
   "metadata": {},
   "outputs": [
    {
     "data": {
      "image/png": "[encoded data removed]",
      "text/plain": [
       "<Figure size 432x360 with 2 Axes>"
      ]
     },
     "metadata": {
      "needs_background": "light"
     },
     "output_type": "display_data"
    }
   ],
   "source": [
    "shap.plots.scatter(shap_values[:,\"age\"])"
   ]
  },
  {
   "cell_type": "markdown",
   "metadata": {},
   "source": [
    "### Top4: new user\n",
    "- old users have higher conversion then new user"
   ]
  },
  {
   "cell_type": "code",
   "execution_count": 31,
   "metadata": {},
   "outputs": [
    {
     "data": {
      "image/png": "[encoded data removed]",
      "text/plain": [
       "<Figure size 432x360 with 2 Axes>"
      ]
     },
     "metadata": {
      "needs_background": "light"
     },
     "output_type": "display_data"
    }
   ],
   "source": [
    "shap.plots.scatter(shap_values[:,\"new_user\"])"
   ]
  },
  {
   "cell_type": "code",
   "execution_count": 32,
   "metadata": {},
   "outputs": [
    {
     "name": "stdout",
     "output_type": "stream",
     "text": [
      "【avg. conversion rate】\n",
      "0.03\n",
      "------------------\n",
      "【train data】\n",
      "          converted\n",
      "new_user           \n",
      "0          0.072219\n",
      "1          0.014013\n",
      "------------------\n",
      "【all data】\n",
      "          converted\n",
      "new_user           \n",
      "0          0.071983\n",
      "1          0.014021\n"
     ]
    }
   ],
   "source": [
    "print(f\"【avg. conversion rate】\")\n",
    "print(f\"{y_train.mean():.2f}\")\n",
    "print(\"------------------\")\n",
    "print(\"【train data】\")\n",
    "print(X_train.join(y_train)[[\"new_user\", \"converted\"]].groupby(\"new_user\").mean())\n",
    "print(\"------------------\")\n",
    "print(\"【all data】\")\n",
    "print(data_df[[\"new_user\", \"converted\"]].groupby(\"new_user\").mean())"
   ]
  },
  {
   "cell_type": "markdown",
   "metadata": {},
   "source": [
    "### Other: Source Analysis\n",
    "- **Conversion rate: Ads ≈ Seo > Direct** according to Chi-sqaure test"
   ]
  },
  {
   "cell_type": "code",
   "execution_count": 33,
   "metadata": {},
   "outputs": [],
   "source": [
    "# transform to contingency table\n",
    "source_contingency = pd.crosstab(index=clean_df[\"source\"],columns=clean_df[\"converted\"])"
   ]
  },
  {
   "cell_type": "code",
   "execution_count": 34,
   "metadata": {},
   "outputs": [
    {
     "name": "stdout",
     "output_type": "stream",
     "text": [
      "Omnibus test (p-value): 0.0000\n",
      "Significance results:\n",
      "Chi2 result for pair ('Ads', 'Direct'): p-value: 6.452039996688699e-13*\n",
      "Chi2 result for pair ('Ads', 'Seo'): p-value: 0.03648148340406828\n",
      "Chi2 result for pair ('Direct', 'Seo'): p-value: 1.8120435281147074e-09*\n"
     ]
    }
   ],
   "source": [
    "chi2, p, dof, ex = chi2_contingency(source_contingency, correction=True)\n",
    "print(f\"Omnibus test (p-value): {p:.4f}\")\n",
    "\n",
    "all_combinations = list(combinations(source_contingency.index, 2))\n",
    "print(\"Significance results:\")\n",
    "for comb in all_combinations:\n",
    "    # subset df into a dataframe containing only the pair \"comb\"\n",
    "    new_df = source_contingency[(source_contingency.index == comb[0]) | (source_contingency.index == comb[1])]\n",
    "    # running chi2 test\n",
    "    chi2, p, dof, ex = chi2_contingency(new_df, correction=False)\n",
    "    if p<0.05/len(source_contingency.index):\n",
    "        sig=\"*\"\n",
    "    else:\n",
    "        sig=\"\"\n",
    "    print(f\"Chi2 result for pair {comb}: p-value: {p}{sig}\")"
   ]
  },
  {
   "cell_type": "code",
   "execution_count": 37,
   "metadata": {},
   "outputs": [
    {
     "data": {
      "text/plain": [
       "source\n",
       "Ads       0.034472\n",
       "Seo       0.032888\n",
       "Direct    0.028169\n",
       "Name: conversion_rate, dtype: float64"
      ]
     },
     "execution_count": 37,
     "metadata": {},
     "output_type": "execute_result"
    }
   ],
   "source": [
    "source_contingency[\"conversion_rate\"]=source_contingency[1]/(source_contingency[0]+source_contingency[1])\n",
    "source_contingency[\"conversion_rate\"].sort_values(ascending=False)"
   ]
  },
  {
   "cell_type": "markdown",
   "metadata": {},
   "source": [
    "### 3-2 What did we find and What’s our recommendation?\n",
    "\n",
    "1. total_pages_visited\n",
    "    - total_pages_visited ≤ 4 has low conversion rate: \n",
    "    \n",
    "    → This might because users can’t find the item they’re interested. It might because our **item recommendation system performance is not good enough** or our **UI design might not friendly enough**.  \n",
    "    \n",
    "    → **Action**: To find the root cause, we could **calculate ads CTR** to evaluate our item recommendation system. or evaluate user journey by **tracking the pages they visited** and **page view time**.\n",
    "    - total_pages_visited ↑, converted ↑: Assume the engagement (# of total_pages_visited) could increase conversion, product team should make user to engege the app/website. (e.g: notification)\n",
    "\n",
    "\n",
    "2. User from China\n",
    "    - Chinese user is the secound largest segment but they have the lowest conversion rate (China: 0.001, overall avg. is 0.03). To increase the conversion rate of this segment could largely benefit our business.\n",
    "    - We strongly suggest product team to **check if there is any problem of the product in China**. e.g: poor translation of app/website, or payment method, or unique e-commerce policy in China etc. To find the root cause, we need more data to support our hypothesis. For example, drop rate in each page (do the funnel analysis).\n",
    "    - We also strongly suggest marketing team **do more research on China’s market and users**. e.g: competitive product analysis (淘寶), the preference of Chinese users.\n",
    "\n",
    "\n",
    "3. Age:\n",
    "    - For marketing team, **we need to approach more users who under 25y/o**. This segment has higher conversion rate. Increase the under 25y/o users will increase our overall conversion rate and revenue.\n",
    "    - We need to **do some research on why 50~60y/o** are not interested in our items. (or They might don’t know how to use e-commerce system?)\n",
    "    \n",
    "4. New user\n",
    "    - New users have lower conversion rate. **We should remarkting/retargeting the new users**."
   ]
  }
 ],
 "metadata": {
  "kernelspec": {
   "display_name": "Python 3",
   "language": "python",
   "name": "python3"
  },
  "language_info": {
   "codemirror_mode": {
    "name": "ipython",
    "version": 3
   },
   "file_extension": ".py",
   "mimetype": "text/x-python",
   "name": "python",
   "nbconvert_exporter": "python",
   "pygments_lexer": "ipython3",
   "version": "3.7.3"
  }
 },
 "nbformat": 4,
 "nbformat_minor": 2
}
