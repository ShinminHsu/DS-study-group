{
 "cells": [
  {
   "cell_type": "markdown",
   "id": "d938b78c",
   "metadata": {},
   "source": [
    "# 02 Spanish Translation A/B Test\n",
    "1. Confirm that the test is actually negative. That is, it appears that the old version of the site with just one translation cross Spain and LatAm performs better. \n",
    "\n",
    "2. Explain why that might be happening. Are the localized translations really worse?\n",
    "\n",
    "3. If you identified what was wrong, design an algorithm that would return FALSE if the same problem is happening in the future and TRUE if everything is good and the results .can be trusted"
   ]
  },
  {
   "cell_type": "code",
   "execution_count": 1,
   "id": "1afd8231",
   "metadata": {},
   "outputs": [],
   "source": [
    "import numpy as np\n",
    "import pandas as pd\n",
    "from pandas_profiling import ProfileReport\n",
    "import os\n",
    "import matplotlib.pyplot as plt\n",
    "os.chdir(r\"C:\\Users\\m3406\\OneDrive\\桌面\\DS_Study\\02 AB_Test\")"
   ]
  },
  {
   "cell_type": "code",
   "execution_count": 2,
   "id": "d71267f8",
   "metadata": {},
   "outputs": [],
   "source": [
    "# Get Data\n",
    "url = \"https://github.com/githubjasmine/DS-A_Collection_of_Take_Home_Challenges/raw/master/AB%20TESTING%20Spanish%20Translation%20with%20solution/test_table.csv\"\n",
    "df_test = pd.read_csv(url, parse_dates=[0])\n",
    "\n",
    "url = \"https://github.com/githubjasmine/DS-A_Collection_of_Take_Home_Challenges/raw/master/AB%20TESTING%20Spanish%20Translation%20with%20solution/user_table.csv\"\n",
    "df_user = pd.read_csv(url, parse_dates=[0])"
   ]
  },
  {
   "cell_type": "code",
   "execution_count": 3,
   "id": "c01513e8",
   "metadata": {},
   "outputs": [
    {
     "data": {
      "text/plain": [
       "'\\nreport = ProfileReport(df_user.drop(\"user_id\", axis = 1))\\nreport.to_file(\"df_user.html\")\\n\\nreport = ProfileReport(df_test.drop(\"user_id\", axis = 1))\\nreport.to_file(\"df_test.html\")\\n'"
      ]
     },
     "execution_count": 3,
     "metadata": {},
     "output_type": "execute_result"
    }
   ],
   "source": [
    "# Generate Report\n",
    "\"\"\"\n",
    "report = ProfileReport(df_user.drop(\"user_id\", axis = 1))\n",
    "report.to_file(\"df_user.html\")\n",
    "\n",
    "report = ProfileReport(df_test.drop(\"user_id\", axis = 1))\n",
    "report.to_file(\"df_test.html\")\n",
    "\"\"\""
   ]
  },
  {
   "cell_type": "code",
   "execution_count": 4,
   "id": "37700ed5",
   "metadata": {},
   "outputs": [
    {
     "name": "stdout",
     "output_type": "stream",
     "text": [
      "User age < 20 : \n",
      "11.62%\n",
      "User age <= 20 : \n",
      "17.59%\n"
     ]
    }
   ],
   "source": [
    "# % of Users \n",
    "print(\"User age < 20 : \")\n",
    "print(f\"{100*len(df_user[df_user['age']<20])/len(df_user):.2f}%\")\n",
    "print(\"User age <= 20 : \")\n",
    "print(f\"{100*len(df_user[df_user['age']<=20])/len(df_user):.2f}%\")"
   ]
  },
  {
   "cell_type": "markdown",
   "id": "bfdf282a",
   "metadata": {},
   "source": [
    "# EDA"
   ]
  },
  {
   "cell_type": "code",
   "execution_count": 5,
   "id": "a39f6047",
   "metadata": {},
   "outputs": [
    {
     "data": {
      "text/plain": [
       "-454"
      ]
     },
     "execution_count": 5,
     "metadata": {},
     "output_type": "execute_result"
    }
   ],
   "source": [
    "# Check ids in two tables\n",
    "len(df_user[\"user_id\"].unique()) - len(df_test[\"user_id\"].unique())"
   ]
  },
  {
   "cell_type": "code",
   "execution_count": 6,
   "id": "5cf778f1",
   "metadata": {},
   "outputs": [
    {
     "data": {
      "text/plain": [
       "0"
      ]
     },
     "execution_count": 6,
     "metadata": {},
     "output_type": "execute_result"
    }
   ],
   "source": [
    "len(df_user[\"user_id\"].unique()) - len(df_user)"
   ]
  },
  {
   "cell_type": "code",
   "execution_count": 7,
   "id": "2d74381c",
   "metadata": {},
   "outputs": [
    {
     "data": {
      "text/plain": [
       "0"
      ]
     },
     "execution_count": 7,
     "metadata": {},
     "output_type": "execute_result"
    }
   ],
   "source": [
    "len(df_test[\"user_id\"].unique()) - len(df_test)"
   ]
  },
  {
   "cell_type": "markdown",
   "id": "93672f81",
   "metadata": {},
   "source": [
    "### note :\n",
    "1. The Experiment only Tests 5 Days. \n",
    "2. Above 80% user set their browser language as ES. \n",
    "3. Overall Conversion rat is about 5.0%. (Imbalance)"
   ]
  },
  {
   "cell_type": "code",
   "execution_count": 8,
   "id": "62cae7a6",
   "metadata": {},
   "outputs": [
    {
     "name": "stdout",
     "output_type": "stream",
     "text": [
      "Source If Ads_channel is Null. \n",
      "['Direct' 'SEO']\n",
      "--------------------\n",
      "Source If Ads_channel is not Null. \n",
      "['Ads']\n"
     ]
    }
   ],
   "source": [
    "# Check the cause of nan  \n",
    "print(\"Source If Ads_channel is Null. \")\n",
    "print(df_test.loc[df_test[\"ads_channel\"].isnull(), \"source\"].unique())\n",
    "print(\"-\"*20)\n",
    "print(\"Source If Ads_channel is not Null. \")\n",
    "print(df_test.loc[~df_test[\"ads_channel\"].isnull(), \"source\"].unique())\n"
   ]
  },
  {
   "cell_type": "code",
   "execution_count": 9,
   "id": "80ad4ab6",
   "metadata": {},
   "outputs": [
    {
     "name": "stdout",
     "output_type": "stream",
     "text": [
      "Web Browser Type : ['IE' 'Chrome' 'FireFox' 'Safari' 'Opera']\n",
      "Mobile Browser Type : ['Android_App' 'Iphone_App']\n"
     ]
    }
   ],
   "source": [
    "# Check Device & Browser Type\n",
    "print(f'Web Browser Type : {df_test[df_test[\"device\"] == \"Web\"][\"browser\"].unique()}')\n",
    "print(f'Mobile Browser Type : {df_test[df_test[\"device\"] == \"Mobile\"][\"browser\"].unique()}')"
   ]
  },
  {
   "cell_type": "code",
   "execution_count": 10,
   "id": "1d30e6bd",
   "metadata": {},
   "outputs": [
    {
     "data": {
      "text/plain": [
       "'\\nreport = ProfileReport(df_all.drop(\"user_id\", axis = 1))\\nreport.to_file(\"df_all.html\")\\n'"
      ]
     },
     "execution_count": 10,
     "metadata": {},
     "output_type": "execute_result"
    }
   ],
   "source": [
    "# Adj na values in ad_column\n",
    "df_test.loc[df_test[\"ads_channel\"].isnull(), \"ads_channel\"] = \"-\"\n",
    "\n",
    "df_all = pd.merge(df_test, df_user, how = \"outer\", on = \"user_id\")\n",
    "\"\"\"\n",
    "report = ProfileReport(df_all.drop(\"user_id\", axis = 1))\n",
    "report.to_file(\"df_all.html\")\n",
    "\"\"\""
   ]
  },
  {
   "cell_type": "markdown",
   "id": "c327dcde",
   "metadata": {},
   "source": [
    "# Situation "
   ]
  },
  {
   "cell_type": "code",
   "execution_count": 11,
   "id": "b263f17b",
   "metadata": {},
   "outputs": [
    {
     "data": {
      "text/plain": [
       "<AxesSubplot:xlabel='country'>"
      ]
     },
     "execution_count": 11,
     "metadata": {},
     "output_type": "execute_result"
    },
    {
     "data": {
      "image/png": "[encoded data removed]",
      "text/plain": [
       "<Figure size 640x480 with 1 Axes>"
      ]
     },
     "metadata": {},
     "output_type": "display_data"
    }
   ],
   "source": [
    "# Check conversion tate amoung countries\n",
    "df_all.groupby(\"country\")[\"conversion\"].mean().plot.bar()"
   ]
  },
  {
   "cell_type": "code",
   "execution_count": 12,
   "id": "e7a948d1",
   "metadata": {},
   "outputs": [
    {
     "data": {
      "text/plain": [
       "Ttest_indResult(statistic=7.422512095954769, pvalue=1.15144687852198e-13)"
      ]
     },
     "execution_count": 12,
     "metadata": {},
     "output_type": "execute_result"
    }
   ],
   "source": [
    "import scipy\n",
    "df_dropSpan = df_all[df_all[\"country\"] != \"Spain\"]\n",
    "scipy.stats.ttest_ind(df_dropSpan[df_dropSpan[\"test\"] == 0][\"conversion\"], df_dropSpan[df_dropSpan[\"test\"] == 1][\"conversion\"])"
   ]
  },
  {
   "cell_type": "markdown",
   "id": "979c10ec",
   "metadata": {},
   "source": [
    "### note : \n",
    " 1. Situation seems valid. Howevwe, the experimental design should be check. \n",
    " 2. Conversion Rate in Argentina & Uruguary .\n",
    " "
   ]
  },
  {
   "cell_type": "markdown",
   "id": "ab3932ee",
   "metadata": {},
   "source": [
    "#  Experimental Design"
   ]
  },
  {
   "cell_type": "code",
   "execution_count": 13,
   "id": "24892f6b",
   "metadata": {},
   "outputs": [
    {
     "data": {
      "text/plain": [
       "401539"
      ]
     },
     "execution_count": 13,
     "metadata": {},
     "output_type": "execute_result"
    }
   ],
   "source": [
    "len(df_dropSpan)"
   ]
  },
  {
   "cell_type": "code",
   "execution_count": 14,
   "id": "b7e68fd8",
   "metadata": {},
   "outputs": [
    {
     "data": {
      "text/plain": [
       "401539"
      ]
     },
     "execution_count": 14,
     "metadata": {},
     "output_type": "execute_result"
    }
   ],
   "source": [
    "len(df_dropSpan[\"user_id\"].unique())"
   ]
  },
  {
   "cell_type": "code",
   "execution_count": 15,
   "id": "c2b87569",
   "metadata": {},
   "outputs": [],
   "source": [
    "from sklearn.preprocessing import LabelEncoder\n",
    "labelencoder = LabelEncoder()"
   ]
  },
  {
   "cell_type": "code",
   "execution_count": 16,
   "id": "27ba5757",
   "metadata": {},
   "outputs": [
    {
     "data": {
      "text/plain": [
       "'\\ncolumns2dummy = [\"sex\"]\\ncolumns2onehot = [\"source\", \"country\", \"ads_channel\", \"browser\"]\\ncolumns2label = [\"date\"]\\n\\nx = df_dropSpan.copy().dropna().reset_index(drop = True)\\ny = x[\"test\"]\\nx = x.drop([\"test\", \"user_id\", \"device\"], axis = 1)\\n\\nfor i in x.columns:\\n    # To Dummy\\n    if i in columns2dummy:\\n        x = pd.concat([x, pd.get_dummies(x[i]).iloc[:,0]], axis = 1)\\n        x = x.drop(i, axis = 1)\\n    # One-hot\\n    elif i in columns2onehot:\\n        x = pd.concat([x, pd.get_dummies(x[i])], axis = 1)\\n        x = x.drop(i, axis = 1)\\n    # Label\\n    elif i in columns2label:\\n        x[i] = labelencoder.fit_transform(x[i])\\n        print(f\"{i} -> {labelencoder.classes_}\")\\n    else:\\n        continue\\n# Drop Ads\\nx = x.drop(\"Ads\", axis = 1)\\n# Create ES Dummy\\nx = pd.concat([x,pd.get_dummies(x[\"browser_language\"])[\"ES\"]], axis = 1)\\nx = x.drop(\"browser_language\", axis = 1)    \\n'"
      ]
     },
     "execution_count": 16,
     "metadata": {},
     "output_type": "execute_result"
    }
   ],
   "source": [
    "# Full Variables\n",
    "\"\"\"\n",
    "columns2dummy = [\"sex\"]\n",
    "columns2onehot = [\"source\", \"country\", \"ads_channel\", \"browser\"]\n",
    "columns2label = [\"date\"]\n",
    "\n",
    "x = df_dropSpan.copy().dropna().reset_index(drop = True)\n",
    "y = x[\"test\"]\n",
    "x = x.drop([\"test\", \"user_id\", \"device\"], axis = 1)\n",
    "\n",
    "for i in x.columns:\n",
    "    # To Dummy\n",
    "    if i in columns2dummy:\n",
    "        x = pd.concat([x, pd.get_dummies(x[i]).iloc[:,0]], axis = 1)\n",
    "        x = x.drop(i, axis = 1)\n",
    "    # One-hot\n",
    "    elif i in columns2onehot:\n",
    "        x = pd.concat([x, pd.get_dummies(x[i])], axis = 1)\n",
    "        x = x.drop(i, axis = 1)\n",
    "    # Label\n",
    "    elif i in columns2label:\n",
    "        x[i] = labelencoder.fit_transform(x[i])\n",
    "        print(f\"{i} -> {labelencoder.classes_}\")\n",
    "    else:\n",
    "        continue\n",
    "# Drop Ads\n",
    "x = x.drop(\"Ads\", axis = 1)\n",
    "# Create ES Dummy\n",
    "x = pd.concat([x,pd.get_dummies(x[\"browser_language\"])[\"ES\"]], axis = 1)\n",
    "x = x.drop(\"browser_language\", axis = 1)    \n",
    "\"\"\""
   ]
  },
  {
   "cell_type": "code",
   "execution_count": 17,
   "id": "19ff324a",
   "metadata": {},
   "outputs": [
    {
     "name": "stdout",
     "output_type": "stream",
     "text": [
      "date -> ['2015-11-30' '2015-12-01' '2015-12-02' '2015-12-03' '2015-12-04']\n"
     ]
    }
   ],
   "source": [
    "columns2dummy = [\"device\",\"sex\"]\n",
    "columns2onehot = [\"source\", \"country\"]\n",
    "columns2label = [\"date\"]\n",
    "\n",
    "x = df_dropSpan.copy().dropna().reset_index(drop = True)\n",
    "y = x[\"test\"]\n",
    "x = x.drop([\"test\", \"user_id\", \"ads_channel\", \"browser\"], axis = 1)\n",
    "\n",
    "for i in x.columns:\n",
    "    # To Dummy\n",
    "    if i in columns2dummy:\n",
    "        x = pd.concat([x, pd.get_dummies(x[i]).iloc[:,0]], axis = 1)\n",
    "        x = x.drop(i, axis = 1)\n",
    "    # One-hot\n",
    "    elif i in columns2onehot:\n",
    "        x = pd.concat([x, pd.get_dummies(x[i])], axis = 1)\n",
    "        x = x.drop(i, axis = 1)\n",
    "    # Label\n",
    "    elif i in columns2label:\n",
    "        x[i] = labelencoder.fit_transform(x[i])\n",
    "        print(f\"{i} -> {labelencoder.classes_}\")\n",
    "    else:\n",
    "        continue\n",
    "\n",
    "# Create ES Dummy\n",
    "x = pd.concat([x,pd.get_dummies(x[\"browser_language\"])[\"ES\"]], axis = 1)\n",
    "x = x.drop(\"browser_language\", axis = 1)    "
   ]
  },
  {
   "cell_type": "code",
   "execution_count": 18,
   "id": "6d007b7b",
   "metadata": {},
   "outputs": [
    {
     "data": {
      "text/html": [
       "<div>\n",
       "<style scoped>\n",
       "    .dataframe tbody tr th:only-of-type {\n",
       "        vertical-align: middle;\n",
       "    }\n",
       "\n",
       "    .dataframe tbody tr th {\n",
       "        vertical-align: top;\n",
       "    }\n",
       "\n",
       "    .dataframe thead th {\n",
       "        text-align: right;\n",
       "    }\n",
       "</style>\n",
       "<table border=\"1\" class=\"dataframe\">\n",
       "  <thead>\n",
       "    <tr style=\"text-align: right;\">\n",
       "      <th></th>\n",
       "      <th>date</th>\n",
       "      <th>conversion</th>\n",
       "      <th>age</th>\n",
       "      <th>Ads</th>\n",
       "      <th>Direct</th>\n",
       "      <th>SEO</th>\n",
       "      <th>Mobile</th>\n",
       "      <th>F</th>\n",
       "      <th>Argentina</th>\n",
       "      <th>Bolivia</th>\n",
       "      <th>...</th>\n",
       "      <th>Guatemala</th>\n",
       "      <th>Honduras</th>\n",
       "      <th>Mexico</th>\n",
       "      <th>Nicaragua</th>\n",
       "      <th>Panama</th>\n",
       "      <th>Paraguay</th>\n",
       "      <th>Peru</th>\n",
       "      <th>Uruguay</th>\n",
       "      <th>Venezuela</th>\n",
       "      <th>ES</th>\n",
       "    </tr>\n",
       "  </thead>\n",
       "  <tbody>\n",
       "    <tr>\n",
       "      <th>0</th>\n",
       "      <td>4</td>\n",
       "      <td>0</td>\n",
       "      <td>21.0</td>\n",
       "      <td>1</td>\n",
       "      <td>0</td>\n",
       "      <td>0</td>\n",
       "      <td>0</td>\n",
       "      <td>0</td>\n",
       "      <td>0</td>\n",
       "      <td>0</td>\n",
       "      <td>...</td>\n",
       "      <td>0</td>\n",
       "      <td>0</td>\n",
       "      <td>1</td>\n",
       "      <td>0</td>\n",
       "      <td>0</td>\n",
       "      <td>0</td>\n",
       "      <td>0</td>\n",
       "      <td>0</td>\n",
       "      <td>0</td>\n",
       "      <td>1</td>\n",
       "    </tr>\n",
       "    <tr>\n",
       "      <th>1</th>\n",
       "      <td>3</td>\n",
       "      <td>0</td>\n",
       "      <td>22.0</td>\n",
       "      <td>1</td>\n",
       "      <td>0</td>\n",
       "      <td>0</td>\n",
       "      <td>1</td>\n",
       "      <td>1</td>\n",
       "      <td>0</td>\n",
       "      <td>0</td>\n",
       "      <td>...</td>\n",
       "      <td>0</td>\n",
       "      <td>0</td>\n",
       "      <td>1</td>\n",
       "      <td>0</td>\n",
       "      <td>0</td>\n",
       "      <td>0</td>\n",
       "      <td>0</td>\n",
       "      <td>0</td>\n",
       "      <td>0</td>\n",
       "      <td>0</td>\n",
       "    </tr>\n",
       "    <tr>\n",
       "      <th>2</th>\n",
       "      <td>0</td>\n",
       "      <td>0</td>\n",
       "      <td>19.0</td>\n",
       "      <td>1</td>\n",
       "      <td>0</td>\n",
       "      <td>0</td>\n",
       "      <td>0</td>\n",
       "      <td>0</td>\n",
       "      <td>0</td>\n",
       "      <td>0</td>\n",
       "      <td>...</td>\n",
       "      <td>0</td>\n",
       "      <td>0</td>\n",
       "      <td>1</td>\n",
       "      <td>0</td>\n",
       "      <td>0</td>\n",
       "      <td>0</td>\n",
       "      <td>0</td>\n",
       "      <td>0</td>\n",
       "      <td>0</td>\n",
       "      <td>1</td>\n",
       "    </tr>\n",
       "    <tr>\n",
       "      <th>3</th>\n",
       "      <td>3</td>\n",
       "      <td>0</td>\n",
       "      <td>22.0</td>\n",
       "      <td>0</td>\n",
       "      <td>1</td>\n",
       "      <td>0</td>\n",
       "      <td>1</td>\n",
       "      <td>1</td>\n",
       "      <td>0</td>\n",
       "      <td>0</td>\n",
       "      <td>...</td>\n",
       "      <td>0</td>\n",
       "      <td>0</td>\n",
       "      <td>0</td>\n",
       "      <td>0</td>\n",
       "      <td>0</td>\n",
       "      <td>0</td>\n",
       "      <td>0</td>\n",
       "      <td>0</td>\n",
       "      <td>1</td>\n",
       "      <td>1</td>\n",
       "    </tr>\n",
       "    <tr>\n",
       "      <th>4</th>\n",
       "      <td>4</td>\n",
       "      <td>0</td>\n",
       "      <td>35.0</td>\n",
       "      <td>0</td>\n",
       "      <td>0</td>\n",
       "      <td>1</td>\n",
       "      <td>1</td>\n",
       "      <td>0</td>\n",
       "      <td>0</td>\n",
       "      <td>0</td>\n",
       "      <td>...</td>\n",
       "      <td>0</td>\n",
       "      <td>0</td>\n",
       "      <td>1</td>\n",
       "      <td>0</td>\n",
       "      <td>0</td>\n",
       "      <td>0</td>\n",
       "      <td>0</td>\n",
       "      <td>0</td>\n",
       "      <td>0</td>\n",
       "      <td>0</td>\n",
       "    </tr>\n",
       "    <tr>\n",
       "      <th>...</th>\n",
       "      <td>...</td>\n",
       "      <td>...</td>\n",
       "      <td>...</td>\n",
       "      <td>...</td>\n",
       "      <td>...</td>\n",
       "      <td>...</td>\n",
       "      <td>...</td>\n",
       "      <td>...</td>\n",
       "      <td>...</td>\n",
       "      <td>...</td>\n",
       "      <td>...</td>\n",
       "      <td>...</td>\n",
       "      <td>...</td>\n",
       "      <td>...</td>\n",
       "      <td>...</td>\n",
       "      <td>...</td>\n",
       "      <td>...</td>\n",
       "      <td>...</td>\n",
       "      <td>...</td>\n",
       "      <td>...</td>\n",
       "      <td>...</td>\n",
       "    </tr>\n",
       "    <tr>\n",
       "      <th>401080</th>\n",
       "      <td>2</td>\n",
       "      <td>0</td>\n",
       "      <td>20.0</td>\n",
       "      <td>1</td>\n",
       "      <td>0</td>\n",
       "      <td>0</td>\n",
       "      <td>1</td>\n",
       "      <td>1</td>\n",
       "      <td>0</td>\n",
       "      <td>0</td>\n",
       "      <td>...</td>\n",
       "      <td>0</td>\n",
       "      <td>0</td>\n",
       "      <td>1</td>\n",
       "      <td>0</td>\n",
       "      <td>0</td>\n",
       "      <td>0</td>\n",
       "      <td>0</td>\n",
       "      <td>0</td>\n",
       "      <td>0</td>\n",
       "      <td>1</td>\n",
       "    </tr>\n",
       "    <tr>\n",
       "      <th>401081</th>\n",
       "      <td>4</td>\n",
       "      <td>0</td>\n",
       "      <td>50.0</td>\n",
       "      <td>0</td>\n",
       "      <td>0</td>\n",
       "      <td>1</td>\n",
       "      <td>0</td>\n",
       "      <td>0</td>\n",
       "      <td>0</td>\n",
       "      <td>0</td>\n",
       "      <td>...</td>\n",
       "      <td>0</td>\n",
       "      <td>0</td>\n",
       "      <td>1</td>\n",
       "      <td>0</td>\n",
       "      <td>0</td>\n",
       "      <td>0</td>\n",
       "      <td>0</td>\n",
       "      <td>0</td>\n",
       "      <td>0</td>\n",
       "      <td>1</td>\n",
       "    </tr>\n",
       "    <tr>\n",
       "      <th>401082</th>\n",
       "      <td>1</td>\n",
       "      <td>0</td>\n",
       "      <td>20.0</td>\n",
       "      <td>0</td>\n",
       "      <td>0</td>\n",
       "      <td>1</td>\n",
       "      <td>1</td>\n",
       "      <td>1</td>\n",
       "      <td>0</td>\n",
       "      <td>0</td>\n",
       "      <td>...</td>\n",
       "      <td>0</td>\n",
       "      <td>0</td>\n",
       "      <td>0</td>\n",
       "      <td>0</td>\n",
       "      <td>0</td>\n",
       "      <td>0</td>\n",
       "      <td>0</td>\n",
       "      <td>0</td>\n",
       "      <td>0</td>\n",
       "      <td>1</td>\n",
       "    </tr>\n",
       "    <tr>\n",
       "      <th>401083</th>\n",
       "      <td>4</td>\n",
       "      <td>0</td>\n",
       "      <td>21.0</td>\n",
       "      <td>0</td>\n",
       "      <td>0</td>\n",
       "      <td>1</td>\n",
       "      <td>1</td>\n",
       "      <td>0</td>\n",
       "      <td>0</td>\n",
       "      <td>0</td>\n",
       "      <td>...</td>\n",
       "      <td>0</td>\n",
       "      <td>0</td>\n",
       "      <td>0</td>\n",
       "      <td>0</td>\n",
       "      <td>0</td>\n",
       "      <td>0</td>\n",
       "      <td>0</td>\n",
       "      <td>0</td>\n",
       "      <td>0</td>\n",
       "      <td>1</td>\n",
       "    </tr>\n",
       "    <tr>\n",
       "      <th>401084</th>\n",
       "      <td>4</td>\n",
       "      <td>0</td>\n",
       "      <td>27.0</td>\n",
       "      <td>1</td>\n",
       "      <td>0</td>\n",
       "      <td>0</td>\n",
       "      <td>0</td>\n",
       "      <td>0</td>\n",
       "      <td>0</td>\n",
       "      <td>0</td>\n",
       "      <td>...</td>\n",
       "      <td>0</td>\n",
       "      <td>0</td>\n",
       "      <td>1</td>\n",
       "      <td>0</td>\n",
       "      <td>0</td>\n",
       "      <td>0</td>\n",
       "      <td>0</td>\n",
       "      <td>0</td>\n",
       "      <td>0</td>\n",
       "      <td>1</td>\n",
       "    </tr>\n",
       "  </tbody>\n",
       "</table>\n",
       "<p>401085 rows × 25 columns</p>\n",
       "</div>"
      ],
      "text/plain": [
       "        date  conversion   age  Ads  Direct  SEO  Mobile  F  Argentina  \\\n",
       "0          4           0  21.0    1       0    0       0  0          0   \n",
       "1          3           0  22.0    1       0    0       1  1          0   \n",
       "2          0           0  19.0    1       0    0       0  0          0   \n",
       "3          3           0  22.0    0       1    0       1  1          0   \n",
       "4          4           0  35.0    0       0    1       1  0          0   \n",
       "...      ...         ...   ...  ...     ...  ...     ... ..        ...   \n",
       "401080     2           0  20.0    1       0    0       1  1          0   \n",
       "401081     4           0  50.0    0       0    1       0  0          0   \n",
       "401082     1           0  20.0    0       0    1       1  1          0   \n",
       "401083     4           0  21.0    0       0    1       1  0          0   \n",
       "401084     4           0  27.0    1       0    0       0  0          0   \n",
       "\n",
       "        Bolivia  ...  Guatemala  Honduras  Mexico  Nicaragua  Panama  \\\n",
       "0             0  ...          0         0       1          0       0   \n",
       "1             0  ...          0         0       1          0       0   \n",
       "2             0  ...          0         0       1          0       0   \n",
       "3             0  ...          0         0       0          0       0   \n",
       "4             0  ...          0         0       1          0       0   \n",
       "...         ...  ...        ...       ...     ...        ...     ...   \n",
       "401080        0  ...          0         0       1          0       0   \n",
       "401081        0  ...          0         0       1          0       0   \n",
       "401082        0  ...          0         0       0          0       0   \n",
       "401083        0  ...          0         0       0          0       0   \n",
       "401084        0  ...          0         0       1          0       0   \n",
       "\n",
       "        Paraguay  Peru  Uruguay  Venezuela  ES  \n",
       "0              0     0        0          0   1  \n",
       "1              0     0        0          0   0  \n",
       "2              0     0        0          0   1  \n",
       "3              0     0        0          1   1  \n",
       "4              0     0        0          0   0  \n",
       "...          ...   ...      ...        ...  ..  \n",
       "401080         0     0        0          0   1  \n",
       "401081         0     0        0          0   1  \n",
       "401082         0     0        0          0   1  \n",
       "401083         0     0        0          0   1  \n",
       "401084         0     0        0          0   1  \n",
       "\n",
       "[401085 rows x 25 columns]"
      ]
     },
     "execution_count": 18,
     "metadata": {},
     "output_type": "execute_result"
    }
   ],
   "source": [
    "x"
   ]
  },
  {
   "cell_type": "code",
   "execution_count": 19,
   "id": "84c072e3",
   "metadata": {},
   "outputs": [],
   "source": [
    "from sklearn import ensemble,  metrics\n",
    "RANDOM_STATE = 123"
   ]
  },
  {
   "cell_type": "code",
   "execution_count": 20,
   "id": "2828c6a4",
   "metadata": {},
   "outputs": [],
   "source": [
    "# RF Modeling\n",
    "Forest = ensemble.RandomForestClassifier(\n",
    "    n_estimators = 100, oob_score = True, \n",
    "    random_state = RANDOM_STATE, \n",
    "    criterion = \"entropy\",\n",
    "    max_depth = 10\n",
    ")\n",
    "forest_fit = Forest.fit(x, y)\n",
    "pred = Forest.predict(x)\n"
   ]
  },
  {
   "cell_type": "code",
   "execution_count": 21,
   "id": "4e0158ca",
   "metadata": {},
   "outputs": [
    {
     "name": "stdout",
     "output_type": "stream",
     "text": [
      "Train Acc = 57.71%. \n",
      "Oob Score = 53.93%. \n"
     ]
    }
   ],
   "source": [
    "# Score\n",
    "print(f\"Train Acc = {100*metrics.accuracy_score(y,  pred):.2f}%. \")\n",
    "print(f\"Oob Score = {100*forest_fit.oob_score_:.2f}%. \")"
   ]
  },
  {
   "cell_type": "code",
   "execution_count": 22,
   "id": "99a9a4d6",
   "metadata": {},
   "outputs": [
    {
     "data": {
      "text/plain": [
       "<AxesSubplot:>"
      ]
     },
     "execution_count": 22,
     "metadata": {},
     "output_type": "execute_result"
    },
    {
     "data": {
      "image/png": "[encoded data removed]",
      "text/plain": [
       "<Figure size 640x480 with 1 Axes>"
      ]
     },
     "metadata": {},
     "output_type": "display_data"
    }
   ],
   "source": [
    "df_importance = pd.DataFrame(index = Forest.feature_names_in_, columns = [\"importance\"],\n",
    "             data = Forest.feature_importances_)\n",
    "df_importance.sort_values(\"importance\", ascending = False).plot.bar()"
   ]
  },
  {
   "cell_type": "markdown",
   "id": "559c2f20",
   "metadata": {},
   "source": [
    "# Further Check"
   ]
  },
  {
   "cell_type": "code",
   "execution_count": 23,
   "id": "fb3d72df",
   "metadata": {},
   "outputs": [
    {
     "data": {
      "text/plain": [
       "<AxesSubplot:xlabel='country'>"
      ]
     },
     "execution_count": 23,
     "metadata": {},
     "output_type": "execute_result"
    },
    {
     "data": {
      "image/png": "[encoded data removed]",
      "text/plain": [
       "<Figure size 640x480 with 1 Axes>"
      ]
     },
     "metadata": {},
     "output_type": "display_data"
    }
   ],
   "source": [
    "# Check test rate amoung countries\n",
    "df_all.groupby(\"country\")[\"test\"].mean().plot.bar()"
   ]
  },
  {
   "cell_type": "code",
   "execution_count": 24,
   "id": "e01ff0a0",
   "metadata": {},
   "outputs": [
    {
     "name": "stdout",
     "output_type": "stream",
     "text": [
      "Test Rate in Uruguay : \n",
      "89.96%\n",
      "Test Rate in Argentina : \n",
      "79.98%\n"
     ]
    }
   ],
   "source": [
    "print(\"Test Rate in Uruguay : \")\n",
    "print(f\"{100* df_all[df_all['country'] == 'Uruguay']['test'].sum()/len(df_all[df_all['country'] == 'Uruguay']):.2f}%\")\n",
    "print(\"Test Rate in Argentina : \")\n",
    "print(f\"{100* df_all[df_all['country'] == 'Argentina']['test'].sum()/len(df_all[df_all['country'] == 'Argentina']):.2f}%\")"
   ]
  },
  {
   "cell_type": "code",
   "execution_count": 25,
   "id": "d7c879ac",
   "metadata": {
    "scrolled": true
   },
   "outputs": [
    {
     "data": {
      "text/plain": [
       "Ttest_indResult(statistic=-0.31810128971456436, pvalue=0.7504082947797941)"
      ]
     },
     "execution_count": 25,
     "metadata": {},
     "output_type": "execute_result"
    }
   ],
   "source": [
    "# Ttest without Abnorma Countries\n",
    "_df = df_all[~df_all.country.isin([\"Spain\", \"Argentina\", \"Uruguay\"])]\n",
    "scipy.stats.ttest_ind(_df[_df[\"test\"] == 0][\"conversion\"], _df[_df[\"test\"] == 1][\"conversion\"])"
   ]
  },
  {
   "cell_type": "code",
   "execution_count": 26,
   "id": "23631d95",
   "metadata": {},
   "outputs": [
    {
     "data": {
      "text/plain": [
       "<bound method Axes.bar of <AxesSubplot:xlabel='age'>>"
      ]
     },
     "execution_count": 26,
     "metadata": {},
     "output_type": "execute_result"
    },
    {
     "data": {
      "image/png": "[encoded data removed]",
      "text/plain": [
       "<Figure size 640x480 with 1 Axes>"
      ]
     },
     "metadata": {},
     "output_type": "display_data"
    }
   ],
   "source": [
    "# Check Age\n",
    "df_dropSpan.groupby(\"age\")[\"test\"].mean().plot().bar"
   ]
  },
  {
   "cell_type": "code",
   "execution_count": 27,
   "id": "22344e8b",
   "metadata": {},
   "outputs": [
    {
     "name": "stdout",
     "output_type": "stream",
     "text": [
      "177\n"
     ]
    }
   ],
   "source": [
    "print(len(df_dropSpan[df_dropSpan[\"age\"]>55]))"
   ]
  },
  {
   "cell_type": "code",
   "execution_count": 28,
   "id": "0aa5ca68",
   "metadata": {},
   "outputs": [],
   "source": [
    "df_abnormal = df_all[df_all.country.isin([\"Argentina\", \"Uruguay\"])]\n",
    "\n",
    "#report = ProfileReport(df_abnormal.drop(\"user_id\", axis = 1))\n",
    "#report.to_file(\"df_abnormal.html\")"
   ]
  }
 ],
 "metadata": {
  "kernelspec": {
   "display_name": "Python 3 (ipykernel)",
   "language": "python",
   "name": "python3"
  },
  "language_info": {
   "codemirror_mode": {
    "name": "ipython",
    "version": 3
   },
   "file_extension": ".py",
   "mimetype": "text/x-python",
   "name": "python",
   "nbconvert_exporter": "python",
   "pygments_lexer": "ipython3",
   "version": "3.9.13"
  }
 },
 "nbformat": 4,
 "nbformat_minor": 5
}
