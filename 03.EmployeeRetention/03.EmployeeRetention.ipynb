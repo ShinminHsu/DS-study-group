{
 "cells": [
  {
   "cell_type": "code",
   "execution_count": 1,
   "metadata": {},
   "outputs": [],
   "source": [
    "import warnings\n",
    "warnings.filterwarnings(\"ignore\")\n",
    "import pandas as pd\n",
    "import numpy as np\n",
    "import matplotlib.pyplot as plt\n",
    "import seaborn as sns"
   ]
  },
  {
   "cell_type": "code",
   "execution_count": 2,
   "metadata": {},
   "outputs": [],
   "source": [
    "df = pd.read_csv(\"./data/employee_retention.csv\",)"
   ]
  },
  {
   "cell_type": "code",
   "execution_count": 3,
   "metadata": {},
   "outputs": [
    {
     "name": "stdout",
     "output_type": "stream",
     "text": [
      "(24702, 7)\n"
     ]
    },
    {
     "data": {
      "text/html": [
       "<div>\n",
       "<style scoped>\n",
       "    .dataframe tbody tr th:only-of-type {\n",
       "        vertical-align: middle;\n",
       "    }\n",
       "\n",
       "    .dataframe tbody tr th {\n",
       "        vertical-align: top;\n",
       "    }\n",
       "\n",
       "    .dataframe thead th {\n",
       "        text-align: right;\n",
       "    }\n",
       "</style>\n",
       "<table border=\"1\" class=\"dataframe\">\n",
       "  <thead>\n",
       "    <tr style=\"text-align: right;\">\n",
       "      <th></th>\n",
       "      <th>employee_id</th>\n",
       "      <th>company_id</th>\n",
       "      <th>dept</th>\n",
       "      <th>seniority</th>\n",
       "      <th>salary</th>\n",
       "      <th>join_date</th>\n",
       "      <th>quit_date</th>\n",
       "    </tr>\n",
       "  </thead>\n",
       "  <tbody>\n",
       "    <tr>\n",
       "      <th>0</th>\n",
       "      <td>13021.0</td>\n",
       "      <td>7</td>\n",
       "      <td>customer_service</td>\n",
       "      <td>28</td>\n",
       "      <td>89000.0</td>\n",
       "      <td>2014-03-24</td>\n",
       "      <td>2015-10-30</td>\n",
       "    </tr>\n",
       "    <tr>\n",
       "      <th>1</th>\n",
       "      <td>825355.0</td>\n",
       "      <td>7</td>\n",
       "      <td>marketing</td>\n",
       "      <td>20</td>\n",
       "      <td>183000.0</td>\n",
       "      <td>2013-04-29</td>\n",
       "      <td>2014-04-04</td>\n",
       "    </tr>\n",
       "    <tr>\n",
       "      <th>2</th>\n",
       "      <td>927315.0</td>\n",
       "      <td>4</td>\n",
       "      <td>marketing</td>\n",
       "      <td>14</td>\n",
       "      <td>101000.0</td>\n",
       "      <td>2014-10-13</td>\n",
       "      <td>NaN</td>\n",
       "    </tr>\n",
       "    <tr>\n",
       "      <th>3</th>\n",
       "      <td>662910.0</td>\n",
       "      <td>7</td>\n",
       "      <td>customer_service</td>\n",
       "      <td>20</td>\n",
       "      <td>115000.0</td>\n",
       "      <td>2012-05-14</td>\n",
       "      <td>2013-06-07</td>\n",
       "    </tr>\n",
       "    <tr>\n",
       "      <th>4</th>\n",
       "      <td>256971.0</td>\n",
       "      <td>2</td>\n",
       "      <td>data_science</td>\n",
       "      <td>23</td>\n",
       "      <td>276000.0</td>\n",
       "      <td>2011-10-17</td>\n",
       "      <td>2014-08-22</td>\n",
       "    </tr>\n",
       "  </tbody>\n",
       "</table>\n",
       "</div>"
      ],
      "text/plain": [
       "   employee_id  company_id              dept  seniority    salary   join_date  \\\n",
       "0      13021.0           7  customer_service         28   89000.0  2014-03-24   \n",
       "1     825355.0           7         marketing         20  183000.0  2013-04-29   \n",
       "2     927315.0           4         marketing         14  101000.0  2014-10-13   \n",
       "3     662910.0           7  customer_service         20  115000.0  2012-05-14   \n",
       "4     256971.0           2      data_science         23  276000.0  2011-10-17   \n",
       "\n",
       "    quit_date  \n",
       "0  2015-10-30  \n",
       "1  2014-04-04  \n",
       "2         NaN  \n",
       "3  2013-06-07  \n",
       "4  2014-08-22  "
      ]
     },
     "execution_count": 3,
     "metadata": {},
     "output_type": "execute_result"
    }
   ],
   "source": [
    "print(df.shape)\n",
    "df.head()"
   ]
  },
  {
   "cell_type": "code",
   "execution_count": 4,
   "metadata": {},
   "outputs": [
    {
     "name": "stdout",
     "output_type": "stream",
     "text": [
      "員工id都只有一個： True\n"
     ]
    }
   ],
   "source": [
    "# 看看員工id是不是都只有一個\n",
    "print(\"員工id都只有一個：\",len(df[\"employee_id\"].unique()) == df.shape[0])"
   ]
  },
  {
   "cell_type": "code",
   "execution_count": 5,
   "metadata": {},
   "outputs": [
    {
     "data": {
      "text/html": [
       "<div>\n",
       "<style scoped>\n",
       "    .dataframe tbody tr th:only-of-type {\n",
       "        vertical-align: middle;\n",
       "    }\n",
       "\n",
       "    .dataframe tbody tr th {\n",
       "        vertical-align: top;\n",
       "    }\n",
       "\n",
       "    .dataframe thead th {\n",
       "        text-align: right;\n",
       "    }\n",
       "</style>\n",
       "<table border=\"1\" class=\"dataframe\">\n",
       "  <thead>\n",
       "    <tr style=\"text-align: right;\">\n",
       "      <th></th>\n",
       "      <th>employee_id</th>\n",
       "      <th>company_id</th>\n",
       "      <th>seniority</th>\n",
       "      <th>salary</th>\n",
       "    </tr>\n",
       "  </thead>\n",
       "  <tbody>\n",
       "    <tr>\n",
       "      <th>count</th>\n",
       "      <td>24702.000000</td>\n",
       "      <td>24702.000000</td>\n",
       "      <td>24702.000000</td>\n",
       "      <td>24702.000000</td>\n",
       "    </tr>\n",
       "    <tr>\n",
       "      <th>mean</th>\n",
       "      <td>501604.403530</td>\n",
       "      <td>3.426969</td>\n",
       "      <td>14.127803</td>\n",
       "      <td>138183.345478</td>\n",
       "    </tr>\n",
       "    <tr>\n",
       "      <th>std</th>\n",
       "      <td>288909.026101</td>\n",
       "      <td>2.700011</td>\n",
       "      <td>8.089520</td>\n",
       "      <td>76058.184573</td>\n",
       "    </tr>\n",
       "    <tr>\n",
       "      <th>min</th>\n",
       "      <td>36.000000</td>\n",
       "      <td>1.000000</td>\n",
       "      <td>1.000000</td>\n",
       "      <td>17000.000000</td>\n",
       "    </tr>\n",
       "    <tr>\n",
       "      <th>25%</th>\n",
       "      <td>250133.750000</td>\n",
       "      <td>1.000000</td>\n",
       "      <td>7.000000</td>\n",
       "      <td>79000.000000</td>\n",
       "    </tr>\n",
       "    <tr>\n",
       "      <th>50%</th>\n",
       "      <td>500793.000000</td>\n",
       "      <td>2.000000</td>\n",
       "      <td>14.000000</td>\n",
       "      <td>123000.000000</td>\n",
       "    </tr>\n",
       "    <tr>\n",
       "      <th>75%</th>\n",
       "      <td>753137.250000</td>\n",
       "      <td>5.000000</td>\n",
       "      <td>21.000000</td>\n",
       "      <td>187000.000000</td>\n",
       "    </tr>\n",
       "    <tr>\n",
       "      <th>max</th>\n",
       "      <td>999969.000000</td>\n",
       "      <td>12.000000</td>\n",
       "      <td>99.000000</td>\n",
       "      <td>408000.000000</td>\n",
       "    </tr>\n",
       "  </tbody>\n",
       "</table>\n",
       "</div>"
      ],
      "text/plain": [
       "         employee_id    company_id     seniority         salary\n",
       "count   24702.000000  24702.000000  24702.000000   24702.000000\n",
       "mean   501604.403530      3.426969     14.127803  138183.345478\n",
       "std    288909.026101      2.700011      8.089520   76058.184573\n",
       "min        36.000000      1.000000      1.000000   17000.000000\n",
       "25%    250133.750000      1.000000      7.000000   79000.000000\n",
       "50%    500793.000000      2.000000     14.000000  123000.000000\n",
       "75%    753137.250000      5.000000     21.000000  187000.000000\n",
       "max    999969.000000     12.000000     99.000000  408000.000000"
      ]
     },
     "execution_count": 5,
     "metadata": {},
     "output_type": "execute_result"
    }
   ],
   "source": [
    "# 年資99的有點怪\n",
    "df.describe()"
   ]
  },
  {
   "cell_type": "code",
   "execution_count": 6,
   "metadata": {},
   "outputs": [
    {
     "data": {
      "text/plain": [
       "24701    99\n",
       "24700    98\n",
       "11717    29\n",
       "12013    29\n",
       "647      29\n",
       "         ..\n",
       "13181     1\n",
       "13201     1\n",
       "13210     1\n",
       "5063      1\n",
       "10922     1\n",
       "Name: seniority, Length: 24702, dtype: int64"
      ]
     },
     "execution_count": 6,
     "metadata": {},
     "output_type": "execute_result"
    }
   ],
   "source": [
    "# 明顯要刪掉年資99, 98的\n",
    "df[\"seniority\"].sort_values(ascending=False)"
   ]
  },
  {
   "cell_type": "code",
   "execution_count": 7,
   "metadata": {},
   "outputs": [],
   "source": [
    "# 刪除年資99,98的兩筆\n",
    "df=df.loc[df[\"seniority\"]<98]"
   ]
  },
  {
   "cell_type": "code",
   "execution_count": 8,
   "metadata": {},
   "outputs": [
    {
     "data": {
      "text/plain": [
       "<matplotlib.axes._subplots.AxesSubplot at 0x7fe7737276a0>"
      ]
     },
     "execution_count": 8,
     "metadata": {},
     "output_type": "execute_result"
    },
    {
     "data": {
      "image/png": "[encoded data removed]",
      "text/plain": [
       "<Figure size 432x288 with 1 Axes>"
      ]
     },
     "metadata": {
      "needs_background": "light"
     },
     "output_type": "display_data"
    }
   ],
   "source": [
    "# 薪水沒有看起來非常不合理的\n",
    "df.boxplot(column=[\"salary\"])"
   ]
  },
  {
   "cell_type": "code",
   "execution_count": 9,
   "metadata": {},
   "outputs": [
    {
     "name": "stdout",
     "output_type": "stream",
     "text": [
      "======= join date =======\n",
      "2011-01-24\n",
      "2015-12-10\n",
      "======= quit date =======\n",
      "2011-10-13 00:00:00\n",
      "2015-12-09 00:00:00\n"
     ]
    }
   ],
   "source": [
    "# 檢查日期看起來沒有不合理的\n",
    "print(\"======= join date =======\")\n",
    "print(df[\"join_date\"].min())\n",
    "print(df[\"join_date\"].max())\n",
    "print(\"======= quit date =======\")\n",
    "print(pd.to_datetime(df[\"quit_date\"]).min())\n",
    "print(pd.to_datetime(df[\"quit_date\"]).max())"
   ]
  },
  {
   "cell_type": "markdown",
   "metadata": {},
   "source": [
    "### 1. Estimate headcount"
   ]
  },
  {
   "cell_type": "code",
   "execution_count": 11,
   "metadata": {},
   "outputs": [],
   "source": [
    "# 創造config table\n",
    "company_df = pd.DataFrame({\"company_id\":sorted(df[\"company_id\"].unique())})          \n",
    "hc_df = pd.DataFrame()\n",
    "hc_df[\"date\"] = pd.date_range(start=\"2011-01-24\",end=\"2015-12-13\")\n",
    "hc_df = hc_df.merge(company_df,how=\"cross\")"
   ]
  },
  {
   "cell_type": "code",
   "execution_count": 12,
   "metadata": {},
   "outputs": [
    {
     "data": {
      "text/html": [
       "<div>\n",
       "<style scoped>\n",
       "    .dataframe tbody tr th:only-of-type {\n",
       "        vertical-align: middle;\n",
       "    }\n",
       "\n",
       "    .dataframe tbody tr th {\n",
       "        vertical-align: top;\n",
       "    }\n",
       "\n",
       "    .dataframe thead th {\n",
       "        text-align: right;\n",
       "    }\n",
       "</style>\n",
       "<table border=\"1\" class=\"dataframe\">\n",
       "  <thead>\n",
       "    <tr style=\"text-align: right;\">\n",
       "      <th></th>\n",
       "      <th>join_date</th>\n",
       "      <th>company_id</th>\n",
       "      <th>n_join</th>\n",
       "    </tr>\n",
       "  </thead>\n",
       "  <tbody>\n",
       "    <tr>\n",
       "      <th>0</th>\n",
       "      <td>2011-01-24</td>\n",
       "      <td>1</td>\n",
       "      <td>25</td>\n",
       "    </tr>\n",
       "    <tr>\n",
       "      <th>1</th>\n",
       "      <td>2011-01-24</td>\n",
       "      <td>2</td>\n",
       "      <td>17</td>\n",
       "    </tr>\n",
       "    <tr>\n",
       "      <th>2</th>\n",
       "      <td>2011-01-24</td>\n",
       "      <td>3</td>\n",
       "      <td>9</td>\n",
       "    </tr>\n",
       "    <tr>\n",
       "      <th>3</th>\n",
       "      <td>2011-01-24</td>\n",
       "      <td>4</td>\n",
       "      <td>12</td>\n",
       "    </tr>\n",
       "    <tr>\n",
       "      <th>4</th>\n",
       "      <td>2011-01-24</td>\n",
       "      <td>5</td>\n",
       "      <td>5</td>\n",
       "    </tr>\n",
       "  </tbody>\n",
       "</table>\n",
       "</div>"
      ],
      "text/plain": [
       "   join_date  company_id  n_join\n",
       "0 2011-01-24           1      25\n",
       "1 2011-01-24           2      17\n",
       "2 2011-01-24           3       9\n",
       "3 2011-01-24           4      12\n",
       "4 2011-01-24           5       5"
      ]
     },
     "execution_count": 12,
     "metadata": {},
     "output_type": "execute_result"
    }
   ],
   "source": [
    "# 整理join資料\n",
    "join_df = pd.DataFrame(df.groupby([\"join_date\",\"company_id\"]).size()).reset_index().rename(columns={0:'n_join'})\n",
    "join_df[\"join_date\"] = pd.to_datetime(join_df[\"join_date\"])\n",
    "join_df.head()"
   ]
  },
  {
   "cell_type": "code",
   "execution_count": 13,
   "metadata": {},
   "outputs": [
    {
     "data": {
      "text/html": [
       "<div>\n",
       "<style scoped>\n",
       "    .dataframe tbody tr th:only-of-type {\n",
       "        vertical-align: middle;\n",
       "    }\n",
       "\n",
       "    .dataframe tbody tr th {\n",
       "        vertical-align: top;\n",
       "    }\n",
       "\n",
       "    .dataframe thead th {\n",
       "        text-align: right;\n",
       "    }\n",
       "</style>\n",
       "<table border=\"1\" class=\"dataframe\">\n",
       "  <thead>\n",
       "    <tr style=\"text-align: right;\">\n",
       "      <th></th>\n",
       "      <th>quit_date</th>\n",
       "      <th>company_id</th>\n",
       "      <th>n_quit</th>\n",
       "    </tr>\n",
       "  </thead>\n",
       "  <tbody>\n",
       "    <tr>\n",
       "      <th>0</th>\n",
       "      <td>2011-10-13</td>\n",
       "      <td>6</td>\n",
       "      <td>1</td>\n",
       "    </tr>\n",
       "    <tr>\n",
       "      <th>1</th>\n",
       "      <td>2011-10-14</td>\n",
       "      <td>10</td>\n",
       "      <td>1</td>\n",
       "    </tr>\n",
       "    <tr>\n",
       "      <th>2</th>\n",
       "      <td>2011-10-21</td>\n",
       "      <td>1</td>\n",
       "      <td>1</td>\n",
       "    </tr>\n",
       "    <tr>\n",
       "      <th>3</th>\n",
       "      <td>2011-10-28</td>\n",
       "      <td>4</td>\n",
       "      <td>1</td>\n",
       "    </tr>\n",
       "    <tr>\n",
       "      <th>4</th>\n",
       "      <td>2011-11-11</td>\n",
       "      <td>1</td>\n",
       "      <td>1</td>\n",
       "    </tr>\n",
       "  </tbody>\n",
       "</table>\n",
       "</div>"
      ],
      "text/plain": [
       "   quit_date  company_id  n_quit\n",
       "0 2011-10-13           6       1\n",
       "1 2011-10-14          10       1\n",
       "2 2011-10-21           1       1\n",
       "3 2011-10-28           4       1\n",
       "4 2011-11-11           1       1"
      ]
     },
     "execution_count": 13,
     "metadata": {},
     "output_type": "execute_result"
    }
   ],
   "source": [
    "# 整理quit資料\n",
    "quit_df = pd.DataFrame(df.groupby([\"quit_date\",\"company_id\"]).size()).reset_index().rename(columns={0:'n_quit'})\n",
    "quit_df[\"quit_date\"] = pd.to_datetime(quit_df[\"quit_date\"])\n",
    "quit_df.head()"
   ]
  },
  {
   "cell_type": "code",
   "execution_count": 14,
   "metadata": {},
   "outputs": [
    {
     "data": {
      "text/html": [
       "<div>\n",
       "<style scoped>\n",
       "    .dataframe tbody tr th:only-of-type {\n",
       "        vertical-align: middle;\n",
       "    }\n",
       "\n",
       "    .dataframe tbody tr th {\n",
       "        vertical-align: top;\n",
       "    }\n",
       "\n",
       "    .dataframe thead th {\n",
       "        text-align: right;\n",
       "    }\n",
       "</style>\n",
       "<table border=\"1\" class=\"dataframe\">\n",
       "  <thead>\n",
       "    <tr style=\"text-align: right;\">\n",
       "      <th></th>\n",
       "      <th>date</th>\n",
       "      <th>company_id</th>\n",
       "      <th>n_join</th>\n",
       "      <th>n_quit</th>\n",
       "      <th>diff</th>\n",
       "      <th>headcount</th>\n",
       "    </tr>\n",
       "  </thead>\n",
       "  <tbody>\n",
       "    <tr>\n",
       "      <th>0</th>\n",
       "      <td>2011-01-24</td>\n",
       "      <td>1</td>\n",
       "      <td>25.0</td>\n",
       "      <td>0.0</td>\n",
       "      <td>25.0</td>\n",
       "      <td>25.0</td>\n",
       "    </tr>\n",
       "    <tr>\n",
       "      <th>1</th>\n",
       "      <td>2011-01-24</td>\n",
       "      <td>2</td>\n",
       "      <td>17.0</td>\n",
       "      <td>0.0</td>\n",
       "      <td>17.0</td>\n",
       "      <td>17.0</td>\n",
       "    </tr>\n",
       "    <tr>\n",
       "      <th>2</th>\n",
       "      <td>2011-01-24</td>\n",
       "      <td>3</td>\n",
       "      <td>9.0</td>\n",
       "      <td>0.0</td>\n",
       "      <td>9.0</td>\n",
       "      <td>9.0</td>\n",
       "    </tr>\n",
       "    <tr>\n",
       "      <th>3</th>\n",
       "      <td>2011-01-24</td>\n",
       "      <td>4</td>\n",
       "      <td>12.0</td>\n",
       "      <td>0.0</td>\n",
       "      <td>12.0</td>\n",
       "      <td>12.0</td>\n",
       "    </tr>\n",
       "    <tr>\n",
       "      <th>4</th>\n",
       "      <td>2011-01-24</td>\n",
       "      <td>5</td>\n",
       "      <td>5.0</td>\n",
       "      <td>0.0</td>\n",
       "      <td>5.0</td>\n",
       "      <td>5.0</td>\n",
       "    </tr>\n",
       "    <tr>\n",
       "      <th>...</th>\n",
       "      <td>...</td>\n",
       "      <td>...</td>\n",
       "      <td>...</td>\n",
       "      <td>...</td>\n",
       "      <td>...</td>\n",
       "      <td>...</td>\n",
       "    </tr>\n",
       "    <tr>\n",
       "      <th>21415</th>\n",
       "      <td>2015-12-13</td>\n",
       "      <td>8</td>\n",
       "      <td>0.0</td>\n",
       "      <td>0.0</td>\n",
       "      <td>0.0</td>\n",
       "      <td>468.0</td>\n",
       "    </tr>\n",
       "    <tr>\n",
       "      <th>21416</th>\n",
       "      <td>2015-12-13</td>\n",
       "      <td>9</td>\n",
       "      <td>0.0</td>\n",
       "      <td>0.0</td>\n",
       "      <td>0.0</td>\n",
       "      <td>432.0</td>\n",
       "    </tr>\n",
       "    <tr>\n",
       "      <th>21417</th>\n",
       "      <td>2015-12-13</td>\n",
       "      <td>10</td>\n",
       "      <td>0.0</td>\n",
       "      <td>0.0</td>\n",
       "      <td>0.0</td>\n",
       "      <td>385.0</td>\n",
       "    </tr>\n",
       "    <tr>\n",
       "      <th>21418</th>\n",
       "      <td>2015-12-13</td>\n",
       "      <td>11</td>\n",
       "      <td>0.0</td>\n",
       "      <td>0.0</td>\n",
       "      <td>0.0</td>\n",
       "      <td>4.0</td>\n",
       "    </tr>\n",
       "    <tr>\n",
       "      <th>21419</th>\n",
       "      <td>2015-12-13</td>\n",
       "      <td>12</td>\n",
       "      <td>0.0</td>\n",
       "      <td>0.0</td>\n",
       "      <td>0.0</td>\n",
       "      <td>12.0</td>\n",
       "    </tr>\n",
       "  </tbody>\n",
       "</table>\n",
       "<p>21420 rows × 6 columns</p>\n",
       "</div>"
      ],
      "text/plain": [
       "            date  company_id  n_join  n_quit  diff  headcount\n",
       "0     2011-01-24           1    25.0     0.0  25.0       25.0\n",
       "1     2011-01-24           2    17.0     0.0  17.0       17.0\n",
       "2     2011-01-24           3     9.0     0.0   9.0        9.0\n",
       "3     2011-01-24           4    12.0     0.0  12.0       12.0\n",
       "4     2011-01-24           5     5.0     0.0   5.0        5.0\n",
       "...          ...         ...     ...     ...   ...        ...\n",
       "21415 2015-12-13           8     0.0     0.0   0.0      468.0\n",
       "21416 2015-12-13           9     0.0     0.0   0.0      432.0\n",
       "21417 2015-12-13          10     0.0     0.0   0.0      385.0\n",
       "21418 2015-12-13          11     0.0     0.0   0.0        4.0\n",
       "21419 2015-12-13          12     0.0     0.0   0.0       12.0\n",
       "\n",
       "[21420 rows x 6 columns]"
      ]
     },
     "execution_count": 14,
     "metadata": {},
     "output_type": "execute_result"
    }
   ],
   "source": [
    "# 合併join, quit兩個資料\n",
    "hc_df = pd.merge(hc_df,join_df,left_on=[\"date\",\"company_id\"],right_on=[\"join_date\",\"company_id\"],how=\"left\")\n",
    "hc_df = pd.merge(hc_df,quit_df,left_on=[\"date\",\"company_id\"],right_on=[\"quit_date\",\"company_id\"],how=\"left\")\n",
    "hc_df = hc_df.drop([\"join_date\",\"quit_date\"],axis=1).fillna(0)\n",
    "hc_df[\"diff\"] = hc_df[\"n_join\"] - hc_df[\"n_quit\"]\n",
    "hc_df[\"headcount\"] = hc_df.groupby(['company_id'])['diff'].cumsum()\n",
    "hc_df"
   ]
  },
  {
   "cell_type": "code",
   "execution_count": 15,
   "metadata": {},
   "outputs": [
    {
     "data": {
      "text/html": [
       "<div>\n",
       "<style scoped>\n",
       "    .dataframe tbody tr th:only-of-type {\n",
       "        vertical-align: middle;\n",
       "    }\n",
       "\n",
       "    .dataframe tbody tr th {\n",
       "        vertical-align: top;\n",
       "    }\n",
       "\n",
       "    .dataframe thead th {\n",
       "        text-align: right;\n",
       "    }\n",
       "</style>\n",
       "<table border=\"1\" class=\"dataframe\">\n",
       "  <thead>\n",
       "    <tr style=\"text-align: right;\">\n",
       "      <th></th>\n",
       "      <th>date</th>\n",
       "      <th>company_id</th>\n",
       "      <th>n_join</th>\n",
       "      <th>n_quit</th>\n",
       "      <th>diff</th>\n",
       "      <th>headcount</th>\n",
       "    </tr>\n",
       "  </thead>\n",
       "  <tbody>\n",
       "    <tr>\n",
       "      <th>0</th>\n",
       "      <td>2011-01-24</td>\n",
       "      <td>1</td>\n",
       "      <td>25.0</td>\n",
       "      <td>0.0</td>\n",
       "      <td>25.0</td>\n",
       "      <td>25.0</td>\n",
       "    </tr>\n",
       "    <tr>\n",
       "      <th>12</th>\n",
       "      <td>2011-01-25</td>\n",
       "      <td>1</td>\n",
       "      <td>2.0</td>\n",
       "      <td>0.0</td>\n",
       "      <td>2.0</td>\n",
       "      <td>27.0</td>\n",
       "    </tr>\n",
       "    <tr>\n",
       "      <th>24</th>\n",
       "      <td>2011-01-26</td>\n",
       "      <td>1</td>\n",
       "      <td>2.0</td>\n",
       "      <td>0.0</td>\n",
       "      <td>2.0</td>\n",
       "      <td>29.0</td>\n",
       "    </tr>\n",
       "    <tr>\n",
       "      <th>36</th>\n",
       "      <td>2011-01-27</td>\n",
       "      <td>1</td>\n",
       "      <td>0.0</td>\n",
       "      <td>0.0</td>\n",
       "      <td>0.0</td>\n",
       "      <td>29.0</td>\n",
       "    </tr>\n",
       "    <tr>\n",
       "      <th>48</th>\n",
       "      <td>2011-01-28</td>\n",
       "      <td>1</td>\n",
       "      <td>0.0</td>\n",
       "      <td>0.0</td>\n",
       "      <td>0.0</td>\n",
       "      <td>29.0</td>\n",
       "    </tr>\n",
       "    <tr>\n",
       "      <th>...</th>\n",
       "      <td>...</td>\n",
       "      <td>...</td>\n",
       "      <td>...</td>\n",
       "      <td>...</td>\n",
       "      <td>...</td>\n",
       "      <td>...</td>\n",
       "    </tr>\n",
       "    <tr>\n",
       "      <th>21360</th>\n",
       "      <td>2015-12-09</td>\n",
       "      <td>1</td>\n",
       "      <td>1.0</td>\n",
       "      <td>0.0</td>\n",
       "      <td>1.0</td>\n",
       "      <td>3864.0</td>\n",
       "    </tr>\n",
       "    <tr>\n",
       "      <th>21372</th>\n",
       "      <td>2015-12-10</td>\n",
       "      <td>1</td>\n",
       "      <td>1.0</td>\n",
       "      <td>0.0</td>\n",
       "      <td>1.0</td>\n",
       "      <td>3865.0</td>\n",
       "    </tr>\n",
       "    <tr>\n",
       "      <th>21384</th>\n",
       "      <td>2015-12-11</td>\n",
       "      <td>1</td>\n",
       "      <td>0.0</td>\n",
       "      <td>0.0</td>\n",
       "      <td>0.0</td>\n",
       "      <td>3865.0</td>\n",
       "    </tr>\n",
       "    <tr>\n",
       "      <th>21396</th>\n",
       "      <td>2015-12-12</td>\n",
       "      <td>1</td>\n",
       "      <td>0.0</td>\n",
       "      <td>0.0</td>\n",
       "      <td>0.0</td>\n",
       "      <td>3865.0</td>\n",
       "    </tr>\n",
       "    <tr>\n",
       "      <th>21408</th>\n",
       "      <td>2015-12-13</td>\n",
       "      <td>1</td>\n",
       "      <td>0.0</td>\n",
       "      <td>0.0</td>\n",
       "      <td>0.0</td>\n",
       "      <td>3865.0</td>\n",
       "    </tr>\n",
       "  </tbody>\n",
       "</table>\n",
       "<p>1785 rows × 6 columns</p>\n",
       "</div>"
      ],
      "text/plain": [
       "            date  company_id  n_join  n_quit  diff  headcount\n",
       "0     2011-01-24           1    25.0     0.0  25.0       25.0\n",
       "12    2011-01-25           1     2.0     0.0   2.0       27.0\n",
       "24    2011-01-26           1     2.0     0.0   2.0       29.0\n",
       "36    2011-01-27           1     0.0     0.0   0.0       29.0\n",
       "48    2011-01-28           1     0.0     0.0   0.0       29.0\n",
       "...          ...         ...     ...     ...   ...        ...\n",
       "21360 2015-12-09           1     1.0     0.0   1.0     3864.0\n",
       "21372 2015-12-10           1     1.0     0.0   1.0     3865.0\n",
       "21384 2015-12-11           1     0.0     0.0   0.0     3865.0\n",
       "21396 2015-12-12           1     0.0     0.0   0.0     3865.0\n",
       "21408 2015-12-13           1     0.0     0.0   0.0     3865.0\n",
       "\n",
       "[1785 rows x 6 columns]"
      ]
     },
     "execution_count": 15,
     "metadata": {},
     "output_type": "execute_result"
    }
   ],
   "source": [
    "hc_df.loc[hc_df[\"company_id\"]==1]"
   ]
  },
  {
   "cell_type": "markdown",
   "metadata": {},
   "source": [
    "### 2. Why employee churn?"
   ]
  },
  {
   "cell_type": "markdown",
   "metadata": {},
   "source": [
    "survival analysis\n",
    "- 屬於right-censored資料（只知道停留了多久）\n",
    "- reference: https://scikit-survival.readthedocs.io/en/stable/user_guide/00-introduction.html"
   ]
  },
  {
   "cell_type": "code",
   "execution_count": 16,
   "metadata": {},
   "outputs": [],
   "source": [
    "# 假設資料搜集的時間最後是在2015-12-13\n",
    "df[\"end_date\"] = df[\"quit_date\"]\n",
    "df[\"end_date\"] = df[\"end_date\"].fillna(pd.to_datetime(\"2015-12-13\"))"
   ]
  },
  {
   "cell_type": "code",
   "execution_count": 17,
   "metadata": {},
   "outputs": [
    {
     "data": {
      "text/html": [
       "<div>\n",
       "<style scoped>\n",
       "    .dataframe tbody tr th:only-of-type {\n",
       "        vertical-align: middle;\n",
       "    }\n",
       "\n",
       "    .dataframe tbody tr th {\n",
       "        vertical-align: top;\n",
       "    }\n",
       "\n",
       "    .dataframe thead th {\n",
       "        text-align: right;\n",
       "    }\n",
       "</style>\n",
       "<table border=\"1\" class=\"dataframe\">\n",
       "  <thead>\n",
       "    <tr style=\"text-align: right;\">\n",
       "      <th></th>\n",
       "      <th>employee_id</th>\n",
       "      <th>company_id</th>\n",
       "      <th>dept</th>\n",
       "      <th>seniority</th>\n",
       "      <th>salary</th>\n",
       "      <th>join_date</th>\n",
       "      <th>quit_date</th>\n",
       "      <th>end_date</th>\n",
       "      <th>stay_day</th>\n",
       "      <th>churn</th>\n",
       "    </tr>\n",
       "  </thead>\n",
       "  <tbody>\n",
       "    <tr>\n",
       "      <th>0</th>\n",
       "      <td>13021.0</td>\n",
       "      <td>7</td>\n",
       "      <td>customer_service</td>\n",
       "      <td>28</td>\n",
       "      <td>89000.0</td>\n",
       "      <td>2014-03-24</td>\n",
       "      <td>2015-10-30</td>\n",
       "      <td>2015-10-30</td>\n",
       "      <td>585.0</td>\n",
       "      <td>True</td>\n",
       "    </tr>\n",
       "    <tr>\n",
       "      <th>1</th>\n",
       "      <td>825355.0</td>\n",
       "      <td>7</td>\n",
       "      <td>marketing</td>\n",
       "      <td>20</td>\n",
       "      <td>183000.0</td>\n",
       "      <td>2013-04-29</td>\n",
       "      <td>2014-04-04</td>\n",
       "      <td>2014-04-04</td>\n",
       "      <td>340.0</td>\n",
       "      <td>True</td>\n",
       "    </tr>\n",
       "    <tr>\n",
       "      <th>2</th>\n",
       "      <td>927315.0</td>\n",
       "      <td>4</td>\n",
       "      <td>marketing</td>\n",
       "      <td>14</td>\n",
       "      <td>101000.0</td>\n",
       "      <td>2014-10-13</td>\n",
       "      <td>NaN</td>\n",
       "      <td>2015-12-13 00:00:00</td>\n",
       "      <td>426.0</td>\n",
       "      <td>False</td>\n",
       "    </tr>\n",
       "    <tr>\n",
       "      <th>3</th>\n",
       "      <td>662910.0</td>\n",
       "      <td>7</td>\n",
       "      <td>customer_service</td>\n",
       "      <td>20</td>\n",
       "      <td>115000.0</td>\n",
       "      <td>2012-05-14</td>\n",
       "      <td>2013-06-07</td>\n",
       "      <td>2013-06-07</td>\n",
       "      <td>389.0</td>\n",
       "      <td>True</td>\n",
       "    </tr>\n",
       "    <tr>\n",
       "      <th>4</th>\n",
       "      <td>256971.0</td>\n",
       "      <td>2</td>\n",
       "      <td>data_science</td>\n",
       "      <td>23</td>\n",
       "      <td>276000.0</td>\n",
       "      <td>2011-10-17</td>\n",
       "      <td>2014-08-22</td>\n",
       "      <td>2014-08-22</td>\n",
       "      <td>1040.0</td>\n",
       "      <td>True</td>\n",
       "    </tr>\n",
       "  </tbody>\n",
       "</table>\n",
       "</div>"
      ],
      "text/plain": [
       "   employee_id  company_id              dept  seniority    salary   join_date  \\\n",
       "0      13021.0           7  customer_service         28   89000.0  2014-03-24   \n",
       "1     825355.0           7         marketing         20  183000.0  2013-04-29   \n",
       "2     927315.0           4         marketing         14  101000.0  2014-10-13   \n",
       "3     662910.0           7  customer_service         20  115000.0  2012-05-14   \n",
       "4     256971.0           2      data_science         23  276000.0  2011-10-17   \n",
       "\n",
       "    quit_date             end_date  stay_day  churn  \n",
       "0  2015-10-30           2015-10-30     585.0   True  \n",
       "1  2014-04-04           2014-04-04     340.0   True  \n",
       "2         NaN  2015-12-13 00:00:00     426.0  False  \n",
       "3  2013-06-07           2013-06-07     389.0   True  \n",
       "4  2014-08-22           2014-08-22    1040.0   True  "
      ]
     },
     "execution_count": 17,
     "metadata": {},
     "output_type": "execute_result"
    }
   ],
   "source": [
    "# 留存的時間，還有right censored資料label\n",
    "df[\"stay_day\"] = (pd.to_datetime(df[\"end_date\"])-pd.to_datetime(df[\"join_date\"])).astype('timedelta64[D]')\n",
    "df['churn'] = df.apply(lambda x: False if pd.isnull(x['quit_date']) else True, axis=1)\n",
    "df.head()"
   ]
  },
  {
   "cell_type": "markdown",
   "metadata": {},
   "source": [
    "1. 每個分析公司的存活率曲線都差不多，不會有公司特別容易異動\n",
    "\n",
    "（除了company11, company12較少資料，曲線算出來比較不平緩）\n",
    "-> 正式的應該要用logrank test(?)去檢定曲線之間的差異"
   ]
  },
  {
   "cell_type": "code",
   "execution_count": 18,
   "metadata": {},
   "outputs": [
    {
     "data": {
      "text/plain": [
       "<matplotlib.legend.Legend at 0x7fe773d03f60>"
      ]
     },
     "execution_count": 18,
     "metadata": {},
     "output_type": "execute_result"
    },
    {
     "data": {
      "image/png": "[encoded data removed]",
      "text/plain": [
       "<Figure size 432x288 with 1 Axes>"
      ]
     },
     "metadata": {
      "needs_background": "light"
     },
     "output_type": "display_data"
    }
   ],
   "source": [
    "%matplotlib inline\n",
    "import matplotlib.pyplot as plt\n",
    "from sksurv.nonparametric import kaplan_meier_estimator\n",
    "\n",
    "for company in sorted(df[\"company_id\"].unique()):\n",
    "    time, survival_prob = kaplan_meier_estimator(df.loc[df[\"company_id\"]==company][\"churn\"], df.loc[df[\"company_id\"]==company][\"stay_day\"])\n",
    "    plt.step(time, survival_prob, where=\"post\", label=\"Company = %s\"% company)\n",
    "\n",
    "plt.ylabel(\"est. probability of survival $\\hat{S}(t)$\")\n",
    "plt.xlabel(\"time $t$\")\n",
    "plt.legend(loc=\"best\", bbox_to_anchor=(1.1, 1.05))"
   ]
  },
  {
   "cell_type": "code",
   "execution_count": 19,
   "metadata": {},
   "outputs": [
    {
     "data": {
      "text/plain": [
       "company_id\n",
       "1     8485\n",
       "2     4222\n",
       "3     2749\n",
       "4     2062\n",
       "5     1755\n",
       "6     1291\n",
       "7     1224\n",
       "8     1047\n",
       "9      961\n",
       "10     864\n",
       "11      16\n",
       "12      24\n",
       "dtype: int64"
      ]
     },
     "execution_count": 19,
     "metadata": {},
     "output_type": "execute_result"
    }
   ],
   "source": [
    "df.groupby([\"company_id\"]).size()"
   ]
  },
  {
   "cell_type": "markdown",
   "metadata": {},
   "source": [
    "- 從圖來看data science和engineer部門的存活率更高一些，sales、marketing的存活率較低。"
   ]
  },
  {
   "cell_type": "code",
   "execution_count": 20,
   "metadata": {},
   "outputs": [
    {
     "data": {
      "text/plain": [
       "<matplotlib.legend.Legend at 0x7fe7738d1240>"
      ]
     },
     "execution_count": 20,
     "metadata": {},
     "output_type": "execute_result"
    },
    {
     "data": {
      "image/png": "[encoded data removed]",
      "text/plain": [
       "<Figure size 432x288 with 1 Axes>"
      ]
     },
     "metadata": {
      "needs_background": "light"
     },
     "output_type": "display_data"
    }
   ],
   "source": [
    "%matplotlib inline\n",
    "import matplotlib.pyplot as plt\n",
    "from sksurv.nonparametric import kaplan_meier_estimator\n",
    "\n",
    "for dept in sorted(df[\"dept\"].unique()):\n",
    "    time, survival_prob = kaplan_meier_estimator(df.loc[df[\"dept\"]==dept][\"churn\"], df.loc[df[\"dept\"]==dept][\"stay_day\"])\n",
    "    plt.step(time, survival_prob, where=\"post\", label=\"Dept. = %s\"% dept)\n",
    "\n",
    "plt.ylabel(\"est. probability of survival $\\hat{S}(t)$\")\n",
    "plt.xlabel(\"time $t$\")\n",
    "plt.legend(loc=\"best\", bbox_to_anchor=(1.1, 1.05))"
   ]
  },
  {
   "cell_type": "markdown",
   "metadata": {},
   "source": [
    "### Multivariate Survival Models\n",
    "- Cox’s proportional hazard’s model"
   ]
  },
  {
   "cell_type": "code",
   "execution_count": 21,
   "metadata": {},
   "outputs": [
    {
     "data": {
      "text/html": [
       "<div>\n",
       "<style scoped>\n",
       "    .dataframe tbody tr th:only-of-type {\n",
       "        vertical-align: middle;\n",
       "    }\n",
       "\n",
       "    .dataframe tbody tr th {\n",
       "        vertical-align: top;\n",
       "    }\n",
       "\n",
       "    .dataframe thead th {\n",
       "        text-align: right;\n",
       "    }\n",
       "</style>\n",
       "<table border=\"1\" class=\"dataframe\">\n",
       "  <thead>\n",
       "    <tr style=\"text-align: right;\">\n",
       "      <th></th>\n",
       "      <th>employee_id</th>\n",
       "      <th>seniority</th>\n",
       "      <th>salary</th>\n",
       "      <th>stay_day</th>\n",
       "      <th>churn</th>\n",
       "      <th>company_id_10</th>\n",
       "      <th>company_id_11</th>\n",
       "      <th>company_id_12</th>\n",
       "      <th>company_id_2</th>\n",
       "      <th>company_id_3</th>\n",
       "      <th>...</th>\n",
       "      <th>company_id_5</th>\n",
       "      <th>company_id_6</th>\n",
       "      <th>company_id_7</th>\n",
       "      <th>company_id_8</th>\n",
       "      <th>company_id_9</th>\n",
       "      <th>dept_data_science</th>\n",
       "      <th>dept_design</th>\n",
       "      <th>dept_engineer</th>\n",
       "      <th>dept_marketing</th>\n",
       "      <th>dept_sales</th>\n",
       "    </tr>\n",
       "  </thead>\n",
       "  <tbody>\n",
       "    <tr>\n",
       "      <th>0</th>\n",
       "      <td>13021.0</td>\n",
       "      <td>28</td>\n",
       "      <td>89000.0</td>\n",
       "      <td>585.0</td>\n",
       "      <td>True</td>\n",
       "      <td>0</td>\n",
       "      <td>0</td>\n",
       "      <td>0</td>\n",
       "      <td>0</td>\n",
       "      <td>0</td>\n",
       "      <td>...</td>\n",
       "      <td>0</td>\n",
       "      <td>0</td>\n",
       "      <td>1</td>\n",
       "      <td>0</td>\n",
       "      <td>0</td>\n",
       "      <td>0</td>\n",
       "      <td>0</td>\n",
       "      <td>0</td>\n",
       "      <td>0</td>\n",
       "      <td>0</td>\n",
       "    </tr>\n",
       "    <tr>\n",
       "      <th>1</th>\n",
       "      <td>825355.0</td>\n",
       "      <td>20</td>\n",
       "      <td>183000.0</td>\n",
       "      <td>340.0</td>\n",
       "      <td>True</td>\n",
       "      <td>0</td>\n",
       "      <td>0</td>\n",
       "      <td>0</td>\n",
       "      <td>0</td>\n",
       "      <td>0</td>\n",
       "      <td>...</td>\n",
       "      <td>0</td>\n",
       "      <td>0</td>\n",
       "      <td>1</td>\n",
       "      <td>0</td>\n",
       "      <td>0</td>\n",
       "      <td>0</td>\n",
       "      <td>0</td>\n",
       "      <td>0</td>\n",
       "      <td>1</td>\n",
       "      <td>0</td>\n",
       "    </tr>\n",
       "    <tr>\n",
       "      <th>2</th>\n",
       "      <td>927315.0</td>\n",
       "      <td>14</td>\n",
       "      <td>101000.0</td>\n",
       "      <td>426.0</td>\n",
       "      <td>False</td>\n",
       "      <td>0</td>\n",
       "      <td>0</td>\n",
       "      <td>0</td>\n",
       "      <td>0</td>\n",
       "      <td>0</td>\n",
       "      <td>...</td>\n",
       "      <td>0</td>\n",
       "      <td>0</td>\n",
       "      <td>0</td>\n",
       "      <td>0</td>\n",
       "      <td>0</td>\n",
       "      <td>0</td>\n",
       "      <td>0</td>\n",
       "      <td>0</td>\n",
       "      <td>1</td>\n",
       "      <td>0</td>\n",
       "    </tr>\n",
       "    <tr>\n",
       "      <th>3</th>\n",
       "      <td>662910.0</td>\n",
       "      <td>20</td>\n",
       "      <td>115000.0</td>\n",
       "      <td>389.0</td>\n",
       "      <td>True</td>\n",
       "      <td>0</td>\n",
       "      <td>0</td>\n",
       "      <td>0</td>\n",
       "      <td>0</td>\n",
       "      <td>0</td>\n",
       "      <td>...</td>\n",
       "      <td>0</td>\n",
       "      <td>0</td>\n",
       "      <td>1</td>\n",
       "      <td>0</td>\n",
       "      <td>0</td>\n",
       "      <td>0</td>\n",
       "      <td>0</td>\n",
       "      <td>0</td>\n",
       "      <td>0</td>\n",
       "      <td>0</td>\n",
       "    </tr>\n",
       "    <tr>\n",
       "      <th>4</th>\n",
       "      <td>256971.0</td>\n",
       "      <td>23</td>\n",
       "      <td>276000.0</td>\n",
       "      <td>1040.0</td>\n",
       "      <td>True</td>\n",
       "      <td>0</td>\n",
       "      <td>0</td>\n",
       "      <td>0</td>\n",
       "      <td>1</td>\n",
       "      <td>0</td>\n",
       "      <td>...</td>\n",
       "      <td>0</td>\n",
       "      <td>0</td>\n",
       "      <td>0</td>\n",
       "      <td>0</td>\n",
       "      <td>0</td>\n",
       "      <td>1</td>\n",
       "      <td>0</td>\n",
       "      <td>0</td>\n",
       "      <td>0</td>\n",
       "      <td>0</td>\n",
       "    </tr>\n",
       "  </tbody>\n",
       "</table>\n",
       "<p>5 rows × 21 columns</p>\n",
       "</div>"
      ],
      "text/plain": [
       "   employee_id  seniority    salary  stay_day  churn  company_id_10  \\\n",
       "0      13021.0         28   89000.0     585.0   True              0   \n",
       "1     825355.0         20  183000.0     340.0   True              0   \n",
       "2     927315.0         14  101000.0     426.0  False              0   \n",
       "3     662910.0         20  115000.0     389.0   True              0   \n",
       "4     256971.0         23  276000.0    1040.0   True              0   \n",
       "\n",
       "   company_id_11  company_id_12  company_id_2  company_id_3  ...  \\\n",
       "0              0              0             0             0  ...   \n",
       "1              0              0             0             0  ...   \n",
       "2              0              0             0             0  ...   \n",
       "3              0              0             0             0  ...   \n",
       "4              0              0             1             0  ...   \n",
       "\n",
       "   company_id_5  company_id_6  company_id_7  company_id_8  company_id_9  \\\n",
       "0             0             0             1             0             0   \n",
       "1             0             0             1             0             0   \n",
       "2             0             0             0             0             0   \n",
       "3             0             0             1             0             0   \n",
       "4             0             0             0             0             0   \n",
       "\n",
       "   dept_data_science  dept_design  dept_engineer  dept_marketing  dept_sales  \n",
       "0                  0            0              0               0           0  \n",
       "1                  0            0              0               1           0  \n",
       "2                  0            0              0               1           0  \n",
       "3                  0            0              0               0           0  \n",
       "4                  1            0              0               0           0  \n",
       "\n",
       "[5 rows x 21 columns]"
      ]
     },
     "execution_count": 21,
     "metadata": {},
     "output_type": "execute_result"
    }
   ],
   "source": [
    "from sksurv.preprocessing import OneHotEncoder\n",
    "df[\"company_id\"]= df[\"company_id\"].astype(str)\n",
    "# df[\"join_month\"]= pd.to_datetime(df[\"join_date\"]).dt.month.astype(str)\n",
    "cox_df = pd.get_dummies(df.drop([\"join_date\",\"quit_date\",\"end_date\"],axis=1), drop_first=True)\n",
    "cox_df.head()"
   ]
  },
  {
   "cell_type": "code",
   "execution_count": 22,
   "metadata": {},
   "outputs": [
    {
     "data": {
      "text/plain": [
       "array([( True, 585.), ( True, 340.), (False, 426.), ..., (False, 298.),\n",
       "       (False,  48.), ( True, 780.)],\n",
       "      dtype=[('Status', '?'), ('Survival_in_days', '<f8')])"
      ]
     },
     "execution_count": 22,
     "metadata": {},
     "output_type": "execute_result"
    }
   ],
   "source": [
    "# convert datatype\n",
    "data_y = df[['churn', 'stay_day']].to_numpy()\n",
    "aux = [(e1,e2) for e1,e2 in data_y]\n",
    "\n",
    "#Structured array\n",
    "data_y = np.array(aux, dtype=[('Status', '?'), ('Survival_in_days', '<f8')])\n",
    "data_y"
   ]
  },
  {
   "cell_type": "code",
   "execution_count": 23,
   "metadata": {},
   "outputs": [],
   "source": [
    "data_x = cox_df.drop([\"employee_id\",\"churn\",\"stay_day\"],axis=1)"
   ]
  },
  {
   "cell_type": "code",
   "execution_count": 24,
   "metadata": {},
   "outputs": [
    {
     "data": {
      "text/plain": [
       "CoxPHSurvivalAnalysis()"
      ]
     },
     "execution_count": 24,
     "metadata": {},
     "output_type": "execute_result"
    }
   ],
   "source": [
    "from sklearn import set_config\n",
    "from sksurv.linear_model import CoxPHSurvivalAnalysis\n",
    "\n",
    "set_config(display=\"text\")  # displays text representation of estimators\n",
    "\n",
    "estimator = CoxPHSurvivalAnalysis()\n",
    "estimator.fit(data_x, data_y)"
   ]
  },
  {
   "cell_type": "markdown",
   "metadata": {},
   "source": [
    "company11的影響力較大（但資料也較少）、在sales、marketing中也比較會流動。"
   ]
  },
  {
   "cell_type": "code",
   "execution_count": 26,
   "metadata": {},
   "outputs": [
    {
     "data": {
      "text/plain": [
       "company_id_11         0.2036134572\n",
       "dept_sales            0.1574481857\n",
       "dept_marketing        0.1115131710\n",
       "dept_design           0.0884408683\n",
       "dept_data_science     0.0511554932\n",
       "dept_engineer         0.0241412067\n",
       "company_id_4          0.0155677383\n",
       "seniority             0.0102437211\n",
       "company_id_12         0.0081288559\n",
       "company_id_3          0.0039337721\n",
       "company_id_2         -0.0562321300\n",
       "company_id_7         -0.0297722015\n",
       "company_id_9         -0.0261502610\n",
       "company_id_5         -0.0201183094\n",
       "company_id_6         -0.0158309917\n",
       "company_id_8         -0.0089667124\n",
       "company_id_10        -0.0036062258\n",
       "salary               -0.0000017939\n",
       "dtype: object"
      ]
     },
     "execution_count": 26,
     "metadata": {},
     "output_type": "execute_result"
    }
   ],
   "source": [
    "# 為log hazard ratio.\n",
    "pd.Series(list(map('{:.10f}'.format,estimator.coef_)), index=data_x.columns).sort_values(ascending=False)"
   ]
  },
  {
   "cell_type": "markdown",
   "metadata": {},
   "source": [
    "### Performance of Survival analysis\n",
    "- 計算model performance(c-index)幾乎是random的（c-index可以想像成是AUC），整體模型表現偏低，fit的並不好\n",
    "\n",
    "```estimator.score(data_x, data_y)```"
   ]
  },
  {
   "cell_type": "code",
   "execution_count": 27,
   "metadata": {},
   "outputs": [
    {
     "data": {
      "text/plain": [
       "0.5348077076473194"
      ]
     },
     "execution_count": 27,
     "metadata": {},
     "output_type": "execute_result"
    }
   ],
   "source": [
    "from sksurv.metrics import concordance_index_censored\n",
    "\n",
    "prediction = estimator.predict(data_x)\n",
    "result = concordance_index_censored(data_y[\"Status\"], data_y[\"Survival_in_days\"], prediction)\n",
    "result[0]"
   ]
  },
  {
   "cell_type": "markdown",
   "metadata": {},
   "source": [
    "### Feature Selection\n",
    "- 單一變項放進去fit，去看c-index，幾乎也都沒什麼效果"
   ]
  },
  {
   "cell_type": "code",
   "execution_count": 28,
   "metadata": {},
   "outputs": [
    {
     "data": {
      "text/plain": [
       "salary               0.516117\n",
       "dept_engineer        0.515455\n",
       "dept_data_science    0.509932\n",
       "dept_sales           0.508912\n",
       "company_id_2         0.506516\n",
       "dept_marketing       0.504441\n",
       "company_id_4         0.502579\n",
       "company_id_3         0.501908\n",
       "company_id_8         0.501432\n",
       "company_id_6         0.501108\n",
       "company_id_5         0.500832\n",
       "company_id_10        0.500783\n",
       "dept_design          0.500619\n",
       "company_id_7         0.500496\n",
       "company_id_11        0.500108\n",
       "company_id_9         0.500106\n",
       "company_id_12        0.500094\n",
       "seniority            0.499724\n",
       "dtype: float64"
      ]
     },
     "execution_count": 28,
     "metadata": {},
     "output_type": "execute_result"
    }
   ],
   "source": [
    "def fit_and_score_features(X, y):\n",
    "    n_features = X.shape[1]\n",
    "    scores = np.empty(n_features)\n",
    "    m = CoxPHSurvivalAnalysis()\n",
    "    for j in range(n_features):\n",
    "        Xj = X[:, j:j+1]\n",
    "        m.fit(Xj, y)\n",
    "        scores[j] = m.score(Xj, y)\n",
    "    return scores\n",
    "\n",
    "scores = fit_and_score_features(data_x.values, data_y)\n",
    "pd.Series(scores, index=data_x.columns).sort_values(ascending=False)"
   ]
  },
  {
   "cell_type": "markdown",
   "metadata": {},
   "source": [
    "### 外部因素（月份）"
   ]
  },
  {
   "cell_type": "code",
   "execution_count": 47,
   "metadata": {},
   "outputs": [
    {
     "data": {
      "text/plain": [
       "<matplotlib.axes._subplots.AxesSubplot at 0x7fe74974b908>"
      ]
     },
     "execution_count": 47,
     "metadata": {},
     "output_type": "execute_result"
    },
    {
     "data": {
      "image/png": "[encoded data removed]",
      "text/plain": [
       "<Figure size 432x288 with 1 Axes>"
      ]
     },
     "metadata": {
      "needs_background": "light"
     },
     "output_type": "display_data"
    }
   ],
   "source": [
    "# 12月和2月離職的人少\n",
    "pd.to_datetime(df[\"quit_date\"]).dt.month.value_counts().sort_values().reset_index()[\"quit_date\"].plot(ylim=(0,1500))"
   ]
  },
  {
   "cell_type": "code",
   "execution_count": null,
   "metadata": {},
   "outputs": [],
   "source": []
  },
  {
   "cell_type": "code",
   "execution_count": 260,
   "metadata": {},
   "outputs": [
    {
     "data": {
      "image/png": "[encoded data removed]",
      "text/plain": [
       "<Figure size 432x288 with 1 Axes>"
      ]
     },
     "metadata": {
      "needs_background": "light"
     },
     "output_type": "display_data"
    }
   ],
   "source": [
    "# 大約半年後離職就開始攀升，每隔一年有一個峰 -> 有可能\n",
    "sns.distplot(df['stay_day']/365.5)\n",
    "plt.show()"
   ]
  },
  {
   "cell_type": "markdown",
   "metadata": {},
   "source": [
    "### Summary:\n",
    "- 從留存率曲線來看，data science、engineer的部門留存率比較高一些。但從survival analysis中，整體model幾乎fit的不太好，c-index約在0.53。而從Feature Selection的角度看，無法看出company、seniority、salary對留存的影響，或許留存的內部因素沒有完全被捕捉（如：組織氣氛、薪資漲幅、工作壓力），或是更容易受到外在因素（如：離職月份）的影響。"
   ]
  },
  {
   "cell_type": "code",
   "execution_count": 261,
   "metadata": {},
   "outputs": [
    {
     "data": {
      "text/html": [
       "<div>\n",
       "<style scoped>\n",
       "    .dataframe tbody tr th:only-of-type {\n",
       "        vertical-align: middle;\n",
       "    }\n",
       "\n",
       "    .dataframe tbody tr th {\n",
       "        vertical-align: top;\n",
       "    }\n",
       "\n",
       "    .dataframe thead th {\n",
       "        text-align: right;\n",
       "    }\n",
       "</style>\n",
       "<table border=\"1\" class=\"dataframe\">\n",
       "  <thead>\n",
       "    <tr style=\"text-align: right;\">\n",
       "      <th></th>\n",
       "      <th>employee_id</th>\n",
       "      <th>company_id</th>\n",
       "      <th>dept</th>\n",
       "      <th>seniority</th>\n",
       "      <th>salary</th>\n",
       "      <th>join_date</th>\n",
       "      <th>quit_date</th>\n",
       "      <th>end_date</th>\n",
       "      <th>stay_day</th>\n",
       "      <th>right_censored</th>\n",
       "      <th>join_month</th>\n",
       "    </tr>\n",
       "  </thead>\n",
       "  <tbody>\n",
       "    <tr>\n",
       "      <th>0</th>\n",
       "      <td>13021.0</td>\n",
       "      <td>7</td>\n",
       "      <td>customer_service</td>\n",
       "      <td>28</td>\n",
       "      <td>89000.0</td>\n",
       "      <td>2014-03-24</td>\n",
       "      <td>2015-10-30</td>\n",
       "      <td>2015-10-30</td>\n",
       "      <td>585.0</td>\n",
       "      <td>False</td>\n",
       "      <td>3</td>\n",
       "    </tr>\n",
       "    <tr>\n",
       "      <th>1</th>\n",
       "      <td>825355.0</td>\n",
       "      <td>7</td>\n",
       "      <td>marketing</td>\n",
       "      <td>20</td>\n",
       "      <td>183000.0</td>\n",
       "      <td>2013-04-29</td>\n",
       "      <td>2014-04-04</td>\n",
       "      <td>2014-04-04</td>\n",
       "      <td>340.0</td>\n",
       "      <td>False</td>\n",
       "      <td>4</td>\n",
       "    </tr>\n",
       "    <tr>\n",
       "      <th>2</th>\n",
       "      <td>927315.0</td>\n",
       "      <td>4</td>\n",
       "      <td>marketing</td>\n",
       "      <td>14</td>\n",
       "      <td>101000.0</td>\n",
       "      <td>2014-10-13</td>\n",
       "      <td>NaN</td>\n",
       "      <td>2015-12-13 00:00:00</td>\n",
       "      <td>426.0</td>\n",
       "      <td>True</td>\n",
       "      <td>10</td>\n",
       "    </tr>\n",
       "    <tr>\n",
       "      <th>3</th>\n",
       "      <td>662910.0</td>\n",
       "      <td>7</td>\n",
       "      <td>customer_service</td>\n",
       "      <td>20</td>\n",
       "      <td>115000.0</td>\n",
       "      <td>2012-05-14</td>\n",
       "      <td>2013-06-07</td>\n",
       "      <td>2013-06-07</td>\n",
       "      <td>389.0</td>\n",
       "      <td>False</td>\n",
       "      <td>5</td>\n",
       "    </tr>\n",
       "    <tr>\n",
       "      <th>4</th>\n",
       "      <td>256971.0</td>\n",
       "      <td>2</td>\n",
       "      <td>data_science</td>\n",
       "      <td>23</td>\n",
       "      <td>276000.0</td>\n",
       "      <td>2011-10-17</td>\n",
       "      <td>2014-08-22</td>\n",
       "      <td>2014-08-22</td>\n",
       "      <td>1040.0</td>\n",
       "      <td>False</td>\n",
       "      <td>10</td>\n",
       "    </tr>\n",
       "    <tr>\n",
       "      <th>...</th>\n",
       "      <td>...</td>\n",
       "      <td>...</td>\n",
       "      <td>...</td>\n",
       "      <td>...</td>\n",
       "      <td>...</td>\n",
       "      <td>...</td>\n",
       "      <td>...</td>\n",
       "      <td>...</td>\n",
       "      <td>...</td>\n",
       "      <td>...</td>\n",
       "      <td>...</td>\n",
       "    </tr>\n",
       "    <tr>\n",
       "      <th>24695</th>\n",
       "      <td>63273.0</td>\n",
       "      <td>1</td>\n",
       "      <td>data_science</td>\n",
       "      <td>5</td>\n",
       "      <td>172000.0</td>\n",
       "      <td>2012-05-01</td>\n",
       "      <td>2015-06-26</td>\n",
       "      <td>2015-06-26</td>\n",
       "      <td>1151.0</td>\n",
       "      <td>False</td>\n",
       "      <td>5</td>\n",
       "    </tr>\n",
       "    <tr>\n",
       "      <th>24696</th>\n",
       "      <td>94644.0</td>\n",
       "      <td>6</td>\n",
       "      <td>marketing</td>\n",
       "      <td>7</td>\n",
       "      <td>88000.0</td>\n",
       "      <td>2012-01-26</td>\n",
       "      <td>2013-02-01</td>\n",
       "      <td>2013-02-01</td>\n",
       "      <td>372.0</td>\n",
       "      <td>False</td>\n",
       "      <td>1</td>\n",
       "    </tr>\n",
       "    <tr>\n",
       "      <th>24697</th>\n",
       "      <td>549847.0</td>\n",
       "      <td>3</td>\n",
       "      <td>customer_service</td>\n",
       "      <td>16</td>\n",
       "      <td>97000.0</td>\n",
       "      <td>2015-02-18</td>\n",
       "      <td>NaN</td>\n",
       "      <td>2015-12-13 00:00:00</td>\n",
       "      <td>298.0</td>\n",
       "      <td>True</td>\n",
       "      <td>2</td>\n",
       "    </tr>\n",
       "    <tr>\n",
       "      <th>24698</th>\n",
       "      <td>590087.0</td>\n",
       "      <td>4</td>\n",
       "      <td>engineer</td>\n",
       "      <td>10</td>\n",
       "      <td>160000.0</td>\n",
       "      <td>2015-10-26</td>\n",
       "      <td>NaN</td>\n",
       "      <td>2015-12-13 00:00:00</td>\n",
       "      <td>48.0</td>\n",
       "      <td>True</td>\n",
       "      <td>10</td>\n",
       "    </tr>\n",
       "    <tr>\n",
       "      <th>24699</th>\n",
       "      <td>777612.0</td>\n",
       "      <td>4</td>\n",
       "      <td>customer_service</td>\n",
       "      <td>11</td>\n",
       "      <td>67000.0</td>\n",
       "      <td>2013-09-03</td>\n",
       "      <td>2015-10-23</td>\n",
       "      <td>2015-10-23</td>\n",
       "      <td>780.0</td>\n",
       "      <td>False</td>\n",
       "      <td>9</td>\n",
       "    </tr>\n",
       "  </tbody>\n",
       "</table>\n",
       "<p>24700 rows × 11 columns</p>\n",
       "</div>"
      ],
      "text/plain": [
       "       employee_id company_id              dept  seniority    salary  \\\n",
       "0          13021.0          7  customer_service         28   89000.0   \n",
       "1         825355.0          7         marketing         20  183000.0   \n",
       "2         927315.0          4         marketing         14  101000.0   \n",
       "3         662910.0          7  customer_service         20  115000.0   \n",
       "4         256971.0          2      data_science         23  276000.0   \n",
       "...            ...        ...               ...        ...       ...   \n",
       "24695      63273.0          1      data_science          5  172000.0   \n",
       "24696      94644.0          6         marketing          7   88000.0   \n",
       "24697     549847.0          3  customer_service         16   97000.0   \n",
       "24698     590087.0          4          engineer         10  160000.0   \n",
       "24699     777612.0          4  customer_service         11   67000.0   \n",
       "\n",
       "        join_date   quit_date             end_date  stay_day  right_censored  \\\n",
       "0      2014-03-24  2015-10-30           2015-10-30     585.0           False   \n",
       "1      2013-04-29  2014-04-04           2014-04-04     340.0           False   \n",
       "2      2014-10-13         NaN  2015-12-13 00:00:00     426.0            True   \n",
       "3      2012-05-14  2013-06-07           2013-06-07     389.0           False   \n",
       "4      2011-10-17  2014-08-22           2014-08-22    1040.0           False   \n",
       "...           ...         ...                  ...       ...             ...   \n",
       "24695  2012-05-01  2015-06-26           2015-06-26    1151.0           False   \n",
       "24696  2012-01-26  2013-02-01           2013-02-01     372.0           False   \n",
       "24697  2015-02-18         NaN  2015-12-13 00:00:00     298.0            True   \n",
       "24698  2015-10-26         NaN  2015-12-13 00:00:00      48.0            True   \n",
       "24699  2013-09-03  2015-10-23           2015-10-23     780.0           False   \n",
       "\n",
       "      join_month  \n",
       "0              3  \n",
       "1              4  \n",
       "2             10  \n",
       "3              5  \n",
       "4             10  \n",
       "...          ...  \n",
       "24695          5  \n",
       "24696          1  \n",
       "24697          2  \n",
       "24698         10  \n",
       "24699          9  \n",
       "\n",
       "[24700 rows x 11 columns]"
      ]
     },
     "execution_count": 261,
     "metadata": {},
     "output_type": "execute_result"
    }
   ],
   "source": [
    "df[\"quick_turnover\"] = df"
   ]
  },
  {
   "cell_type": "markdown",
   "metadata": {},
   "source": [
    "### 3. If you could add to this data set just one variable that could help explain employee churn, what would that be?\n",
    "\n",
    "- 通勤時間\n",
    "- 工時\n",
    "- 薪資漲幅"
   ]
  },
  {
   "cell_type": "code",
   "execution_count": null,
   "metadata": {},
   "outputs": [],
   "source": []
  }
 ],
 "metadata": {
  "kernelspec": {
   "display_name": "Python 3",
   "language": "python",
   "name": "python3"
  },
  "language_info": {
   "codemirror_mode": {
    "name": "ipython",
    "version": 3
   },
   "file_extension": ".py",
   "mimetype": "text/x-python",
   "name": "python",
   "nbconvert_exporter": "python",
   "pygments_lexer": "ipython3",
   "version": "3.7.3"
  }
 },
 "nbformat": 4,
 "nbformat_minor": 2
}
