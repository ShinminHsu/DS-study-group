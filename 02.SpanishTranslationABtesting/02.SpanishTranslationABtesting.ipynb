{
 "cells": [
  {
   "cell_type": "markdown",
   "metadata": {},
   "source": [
    "## 02.Spanish Translation A/B Test"
   ]
  },
  {
   "cell_type": "code",
   "execution_count": 1,
   "metadata": {},
   "outputs": [
    {
     "name": "stderr",
     "output_type": "stream",
     "text": [
      "/Users/tylin/anaconda3/lib/python3.7/site-packages/pandas/compat/_optional.py:138: UserWarning: Pandas requires version '2.7.0' or newer of 'numexpr' (version '2.6.9' currently installed).\n",
      "  warnings.warn(msg, UserWarning)\n"
     ]
    }
   ],
   "source": [
    "import pandas as pd\n",
    "import matplotlib.pyplot as plt\n",
    "import seaborn as sns"
   ]
  },
  {
   "cell_type": "code",
   "execution_count": 2,
   "metadata": {},
   "outputs": [],
   "source": [
    "test_df = pd.read_csv(\"./data/test_table.csv\")\n",
    "user_df = pd.read_csv(\"./data/user_table.csv\")"
   ]
  },
  {
   "cell_type": "code",
   "execution_count": 3,
   "metadata": {},
   "outputs": [
    {
     "data": {
      "text/html": [
       "<div>\n",
       "<style scoped>\n",
       "    .dataframe tbody tr th:only-of-type {\n",
       "        vertical-align: middle;\n",
       "    }\n",
       "\n",
       "    .dataframe tbody tr th {\n",
       "        vertical-align: top;\n",
       "    }\n",
       "\n",
       "    .dataframe thead th {\n",
       "        text-align: right;\n",
       "    }\n",
       "</style>\n",
       "<table border=\"1\" class=\"dataframe\">\n",
       "  <thead>\n",
       "    <tr style=\"text-align: right;\">\n",
       "      <th></th>\n",
       "      <th>user_id</th>\n",
       "      <th>date</th>\n",
       "      <th>source</th>\n",
       "      <th>device</th>\n",
       "      <th>browser_language</th>\n",
       "      <th>ads_channel</th>\n",
       "      <th>browser</th>\n",
       "      <th>conversion</th>\n",
       "      <th>test</th>\n",
       "    </tr>\n",
       "  </thead>\n",
       "  <tbody>\n",
       "    <tr>\n",
       "      <th>0</th>\n",
       "      <td>315281</td>\n",
       "      <td>2015-12-03</td>\n",
       "      <td>Direct</td>\n",
       "      <td>Web</td>\n",
       "      <td>ES</td>\n",
       "      <td>NaN</td>\n",
       "      <td>IE</td>\n",
       "      <td>1</td>\n",
       "      <td>0</td>\n",
       "    </tr>\n",
       "    <tr>\n",
       "      <th>1</th>\n",
       "      <td>497851</td>\n",
       "      <td>2015-12-04</td>\n",
       "      <td>Ads</td>\n",
       "      <td>Web</td>\n",
       "      <td>ES</td>\n",
       "      <td>Google</td>\n",
       "      <td>IE</td>\n",
       "      <td>0</td>\n",
       "      <td>1</td>\n",
       "    </tr>\n",
       "    <tr>\n",
       "      <th>2</th>\n",
       "      <td>848402</td>\n",
       "      <td>2015-12-04</td>\n",
       "      <td>Ads</td>\n",
       "      <td>Web</td>\n",
       "      <td>ES</td>\n",
       "      <td>Facebook</td>\n",
       "      <td>Chrome</td>\n",
       "      <td>0</td>\n",
       "      <td>0</td>\n",
       "    </tr>\n",
       "    <tr>\n",
       "      <th>3</th>\n",
       "      <td>290051</td>\n",
       "      <td>2015-12-03</td>\n",
       "      <td>Ads</td>\n",
       "      <td>Mobile</td>\n",
       "      <td>Other</td>\n",
       "      <td>Facebook</td>\n",
       "      <td>Android_App</td>\n",
       "      <td>0</td>\n",
       "      <td>1</td>\n",
       "    </tr>\n",
       "    <tr>\n",
       "      <th>4</th>\n",
       "      <td>548435</td>\n",
       "      <td>2015-11-30</td>\n",
       "      <td>Ads</td>\n",
       "      <td>Web</td>\n",
       "      <td>ES</td>\n",
       "      <td>Google</td>\n",
       "      <td>FireFox</td>\n",
       "      <td>0</td>\n",
       "      <td>1</td>\n",
       "    </tr>\n",
       "  </tbody>\n",
       "</table>\n",
       "</div>"
      ],
      "text/plain": [
       "   user_id        date  source  device browser_language ads_channel  \\\n",
       "0   315281  2015-12-03  Direct     Web               ES         NaN   \n",
       "1   497851  2015-12-04     Ads     Web               ES      Google   \n",
       "2   848402  2015-12-04     Ads     Web               ES    Facebook   \n",
       "3   290051  2015-12-03     Ads  Mobile            Other    Facebook   \n",
       "4   548435  2015-11-30     Ads     Web               ES      Google   \n",
       "\n",
       "       browser  conversion  test  \n",
       "0           IE           1     0  \n",
       "1           IE           0     1  \n",
       "2       Chrome           0     0  \n",
       "3  Android_App           0     1  \n",
       "4      FireFox           0     1  "
      ]
     },
     "execution_count": 3,
     "metadata": {},
     "output_type": "execute_result"
    }
   ],
   "source": [
    "test_df.head()"
   ]
  },
  {
   "cell_type": "code",
   "execution_count": 4,
   "metadata": {},
   "outputs": [
    {
     "data": {
      "text/html": [
       "<div>\n",
       "<style scoped>\n",
       "    .dataframe tbody tr th:only-of-type {\n",
       "        vertical-align: middle;\n",
       "    }\n",
       "\n",
       "    .dataframe tbody tr th {\n",
       "        vertical-align: top;\n",
       "    }\n",
       "\n",
       "    .dataframe thead th {\n",
       "        text-align: right;\n",
       "    }\n",
       "</style>\n",
       "<table border=\"1\" class=\"dataframe\">\n",
       "  <thead>\n",
       "    <tr style=\"text-align: right;\">\n",
       "      <th></th>\n",
       "      <th>user_id</th>\n",
       "      <th>sex</th>\n",
       "      <th>age</th>\n",
       "      <th>country</th>\n",
       "    </tr>\n",
       "  </thead>\n",
       "  <tbody>\n",
       "    <tr>\n",
       "      <th>0</th>\n",
       "      <td>765821</td>\n",
       "      <td>M</td>\n",
       "      <td>20</td>\n",
       "      <td>Mexico</td>\n",
       "    </tr>\n",
       "    <tr>\n",
       "      <th>1</th>\n",
       "      <td>343561</td>\n",
       "      <td>F</td>\n",
       "      <td>27</td>\n",
       "      <td>Nicaragua</td>\n",
       "    </tr>\n",
       "    <tr>\n",
       "      <th>2</th>\n",
       "      <td>118744</td>\n",
       "      <td>M</td>\n",
       "      <td>23</td>\n",
       "      <td>Colombia</td>\n",
       "    </tr>\n",
       "    <tr>\n",
       "      <th>3</th>\n",
       "      <td>987753</td>\n",
       "      <td>F</td>\n",
       "      <td>27</td>\n",
       "      <td>Venezuela</td>\n",
       "    </tr>\n",
       "    <tr>\n",
       "      <th>4</th>\n",
       "      <td>554597</td>\n",
       "      <td>F</td>\n",
       "      <td>20</td>\n",
       "      <td>Spain</td>\n",
       "    </tr>\n",
       "  </tbody>\n",
       "</table>\n",
       "</div>"
      ],
      "text/plain": [
       "   user_id sex  age    country\n",
       "0   765821   M   20     Mexico\n",
       "1   343561   F   27  Nicaragua\n",
       "2   118744   M   23   Colombia\n",
       "3   987753   F   27  Venezuela\n",
       "4   554597   F   20      Spain"
      ]
     },
     "execution_count": 4,
     "metadata": {},
     "output_type": "execute_result"
    }
   ],
   "source": [
    "user_df.head()"
   ]
  },
  {
   "cell_type": "code",
   "execution_count": 5,
   "metadata": {},
   "outputs": [
    {
     "data": {
      "text/plain": [
       "user_id    0.0\n",
       "sex        0.0\n",
       "age        0.0\n",
       "country    0.0\n",
       "dtype: float64"
      ]
     },
     "execution_count": 5,
     "metadata": {},
     "output_type": "execute_result"
    }
   ],
   "source": [
    "user_df.isna().sum()/user_df.shape[0]"
   ]
  },
  {
   "cell_type": "code",
   "execution_count": 6,
   "metadata": {},
   "outputs": [],
   "source": [
    "data_df = test_df.merge(user_df, how=\"left\")"
   ]
  },
  {
   "cell_type": "code",
   "execution_count": 7,
   "metadata": {},
   "outputs": [
    {
     "name": "stdout",
     "output_type": "stream",
     "text": [
      "no user_id: 454\n"
     ]
    }
   ],
   "source": [
    "print(\"no user_id:\",data_df.loc[data_df[\"sex\"].isna()].shape[0])"
   ]
  },
  {
   "cell_type": "code",
   "execution_count": 8,
   "metadata": {},
   "outputs": [
    {
     "data": {
      "text/plain": [
       "user_id             0.000000\n",
       "date                0.000000\n",
       "source              0.000000\n",
       "device              0.000000\n",
       "browser_language    0.000000\n",
       "ads_channel         0.598790\n",
       "browser             0.000000\n",
       "conversion          0.000000\n",
       "test                0.000000\n",
       "sex                 0.001001\n",
       "age                 0.001001\n",
       "country             0.001001\n",
       "dtype: float64"
      ]
     },
     "execution_count": 8,
     "metadata": {},
     "output_type": "execute_result"
    }
   ],
   "source": [
    "data_df.isna().sum()/data_df.shape[0]"
   ]
  },
  {
   "cell_type": "code",
   "execution_count": 9,
   "metadata": {},
   "outputs": [
    {
     "data": {
      "text/plain": [
       "array(['Spain', 'Mexico', 'Venezuela', 'Bolivia', 'Colombia', 'Uruguay',\n",
       "       'El Salvador', 'Nicaragua', 'Peru', 'Costa Rica', 'Chile',\n",
       "       'Argentina', 'Ecuador', 'Guatemala', 'Honduras', 'Paraguay',\n",
       "       'Panama', nan], dtype=object)"
      ]
     },
     "execution_count": 9,
     "metadata": {},
     "output_type": "execute_result"
    }
   ],
   "source": [
    "data_df[\"country\"].unique()\n",
    "# Spanish: Spain, Mexico, Venezuela, Bolivia, Colombia, Uruguay, El Salvador, Nicaragua, Peru\n",
    "# Costa Rica, Chile, Argentina, Ecuador, Guatemala, Honduras, Paraguay, Panama\n"
   ]
  },
  {
   "cell_type": "markdown",
   "metadata": {},
   "source": [
    "#### 資料前處理\n",
    "- 西班牙地區的轉換率特別高，又已經是localization了(test=1)，之後分析會將西班牙地區的資料拿掉避免bias"
   ]
  },
  {
   "cell_type": "code",
   "execution_count": 10,
   "metadata": {},
   "outputs": [
    {
     "data": {
      "text/plain": [
       "country\n",
       "Spain          0.079719\n",
       "Costa Rica     0.053494\n",
       "Nicaragua      0.053399\n",
       "Colombia       0.051332\n",
       "El Salvador    0.050765\n",
       "Mexico         0.050341\n",
       "Peru           0.050258\n",
       "Chile          0.049704\n",
       "Venezuela      0.049666\n",
       "Guatemala      0.049653\n",
       "Honduras       0.049253\n",
       "Ecuador        0.049072\n",
       "Paraguay       0.048863\n",
       "Bolivia        0.048634\n",
       "Panama         0.048089\n",
       "Argentina      0.013994\n",
       "Uruguay        0.012821\n",
       "Name: conversion, dtype: float64"
      ]
     },
     "execution_count": 10,
     "metadata": {},
     "output_type": "execute_result"
    }
   ],
   "source": [
    "data_df.groupby(\"country\").mean()[\"conversion\"].sort_values(ascending=False)"
   ]
  },
  {
   "cell_type": "code",
   "execution_count": 11,
   "metadata": {},
   "outputs": [],
   "source": [
    "# 移除西班牙地區\n",
    "ab_df = data_df.loc[data_df[\"country\"]!=\"Spain\"]"
   ]
  },
  {
   "cell_type": "markdown",
   "metadata": {},
   "source": [
    "## 1. Conﬁrm that the test is actually negative. That is, it appears that the old version of the site with just one translation across Spain and LatAm performs better\n",
    "- A/B testing的確有差異，且是non-localization轉換率(48% vs. 43%)比較好"
   ]
  },
  {
   "cell_type": "code",
   "execution_count": 12,
   "metadata": {},
   "outputs": [],
   "source": [
    "from scipy.stats import chi2_contingency\n",
    "from itertools import combinations"
   ]
  },
  {
   "cell_type": "code",
   "execution_count": 13,
   "metadata": {},
   "outputs": [
    {
     "name": "stdout",
     "output_type": "stream",
     "text": [
      "Omnibus test (p-value): 0.0000\n",
      "----------------------------------\n",
      "test\n",
      "0    0.048330\n",
      "1    0.043425\n",
      "Name: conversion, dtype: float64\n"
     ]
    }
   ],
   "source": [
    "contingency = pd.crosstab(index=ab_df[\"test\"],columns=ab_df[\"conversion\"])\n",
    "chi2, p, dof, ex = chi2_contingency(contingency, correction=True)\n",
    "print(f\"Omnibus test (p-value): {p:.4f}\")\n",
    "print(\"----------------------------------\")\n",
    "print(ab_df.groupby([\"test\"]).mean()[\"conversion\"])"
   ]
  },
  {
   "cell_type": "markdown",
   "metadata": {},
   "source": [
    "## 2. Explain why that might be happening. Are the localized translations really worse?"
   ]
  },
  {
   "cell_type": "markdown",
   "metadata": {},
   "source": [
    "### 2-1 各地區的localization對轉換率\n",
    "- hypothesis: 各地區翻譯的效果不同，導致不同國家應該有不同轉換率\n",
    "- non-localization比較好：Argentina, Bolivia, Colombia, Ecuador, El Salvador, Guatemala, Honduras,Venezuela \n",
    "- localization後比較好：Chile, Costa Rica, Mexico, Nicaragua, Panama, Paraguay, Peru, Uruguay\n",
    "- Summary: Localization的效果好不好，要看是哪個國家而定。"
   ]
  },
  {
   "cell_type": "code",
   "execution_count": 14,
   "metadata": {},
   "outputs": [
    {
     "data": {
      "text/plain": [
       "<matplotlib.axes._subplots.AxesSubplot at 0x7fd4073f6470>"
      ]
     },
     "execution_count": 14,
     "metadata": {},
     "output_type": "execute_result"
    },
    {
     "data": {
      "image/png": "[encoded data removed]",
      "text/plain": [
       "<Figure size 432x288 with 1 Axes>"
      ]
     },
     "metadata": {
      "needs_background": "light"
     },
     "output_type": "display_data"
    }
   ],
   "source": [
    "plot_data = ab_df[[\"test\",\"country\",\"conversion\"]].groupby([\"country\",\"test\"]).mean().reset_index()\n",
    "plt.xticks(rotation=90)\n",
    "\n",
    "sns.barplot(data=plot_data, x='country',y='conversion', hue='test')"
   ]
  },
  {
   "cell_type": "markdown",
   "metadata": {},
   "source": [
    "### 2-2 檢驗兩組的人口組成是否相近\n",
    "1. source -> 相近\n",
    "2. device -> 相近\n",
    "3. browser language -> 相近\n",
    "4. ads channel -> 相近\n",
    "5. browser -> 相近\n",
    "6. sex -> 相近\n",
    "7. age -> loc年齡更輕\n",
    "8. country -> loc vs. non-loc. 有差異\n",
    "\n",
    "Summary: 兩組人口組成有差異，可能導致最終結果的偏差\n",
    "- non-loc > loc: Ecuador(0.043 vs. 0.036), Mexico(0.345 vs. 0.298) -> 兩者剛好都是轉換率高的國家\n",
    "- loc > non-loc: Argentina(0.05 vs 0.17) , Uruguay (0.002 vs. 0.017) -> 兩者剛好都是轉換率低的國家\n",
    "\n",
    "-> 移除掉上面四個國家之後，兩者(loc vs. non-loc)轉換率就沒有顯著性差異了"
   ]
  },
  {
   "cell_type": "code",
   "execution_count": 15,
   "metadata": {},
   "outputs": [
    {
     "name": "stdout",
     "output_type": "stream",
     "text": [
      "Omnibus test (p-value): 0.3405\n"
     ]
    }
   ],
   "source": [
    "# 1. source\n",
    "contingency = pd.crosstab(index=ab_df[\"source\"],columns=ab_df[\"test\"])\n",
    "chi2, p, dof, ex = chi2_contingency(contingency, correction=True)\n",
    "print(f\"Omnibus test (p-value): {p:.4f}\")"
   ]
  },
  {
   "cell_type": "code",
   "execution_count": 16,
   "metadata": {},
   "outputs": [
    {
     "name": "stdout",
     "output_type": "stream",
     "text": [
      "Omnibus test (p-value): 0.2645\n"
     ]
    }
   ],
   "source": [
    "# 2. device\n",
    "contingency = pd.crosstab(index=ab_df[\"device\"],columns=ab_df[\"test\"])\n",
    "chi2, p, dof, ex = chi2_contingency(contingency, correction=True)\n",
    "print(f\"Omnibus test (p-value): {p:.4f}\")"
   ]
  },
  {
   "cell_type": "code",
   "execution_count": 17,
   "metadata": {},
   "outputs": [
    {
     "name": "stdout",
     "output_type": "stream",
     "text": [
      "Omnibus test (p-value): 0.5400\n"
     ]
    }
   ],
   "source": [
    "# 3. browser language\n",
    "contingency = pd.crosstab(index=ab_df[\"browser_language\"],columns=ab_df[\"test\"])\n",
    "chi2, p, dof, ex = chi2_contingency(contingency, correction=True)\n",
    "print(f\"Omnibus test (p-value): {p:.4f}\")"
   ]
  },
  {
   "cell_type": "code",
   "execution_count": 18,
   "metadata": {},
   "outputs": [
    {
     "name": "stdout",
     "output_type": "stream",
     "text": [
      "Omnibus test (p-value): 0.6690\n"
     ]
    }
   ],
   "source": [
    "# 4. ads channel \n",
    "contingency = pd.crosstab(index=ab_df[\"ads_channel\"],columns=ab_df[\"test\"])\n",
    "chi2, p, dof, ex = chi2_contingency(contingency, correction=True)\n",
    "print(f\"Omnibus test (p-value): {p:.4f}\")"
   ]
  },
  {
   "cell_type": "code",
   "execution_count": 19,
   "metadata": {},
   "outputs": [
    {
     "name": "stdout",
     "output_type": "stream",
     "text": [
      "Omnibus test (p-value): 0.0206\n"
     ]
    },
    {
     "data": {
      "text/html": [
       "<div>\n",
       "<style scoped>\n",
       "    .dataframe tbody tr th:only-of-type {\n",
       "        vertical-align: middle;\n",
       "    }\n",
       "\n",
       "    .dataframe tbody tr th {\n",
       "        vertical-align: top;\n",
       "    }\n",
       "\n",
       "    .dataframe thead th {\n",
       "        text-align: right;\n",
       "    }\n",
       "</style>\n",
       "<table border=\"1\" class=\"dataframe\">\n",
       "  <thead>\n",
       "    <tr style=\"text-align: right;\">\n",
       "      <th>test</th>\n",
       "      <th>0</th>\n",
       "      <th>1</th>\n",
       "    </tr>\n",
       "    <tr>\n",
       "      <th>browser</th>\n",
       "      <th></th>\n",
       "      <th></th>\n",
       "    </tr>\n",
       "  </thead>\n",
       "  <tbody>\n",
       "    <tr>\n",
       "      <th>Android_App</th>\n",
       "      <td>0.341255</td>\n",
       "      <td>0.343504</td>\n",
       "    </tr>\n",
       "    <tr>\n",
       "      <th>Chrome</th>\n",
       "      <td>0.223302</td>\n",
       "      <td>0.225953</td>\n",
       "    </tr>\n",
       "    <tr>\n",
       "      <th>FireFox</th>\n",
       "      <td>0.089741</td>\n",
       "      <td>0.089720</td>\n",
       "    </tr>\n",
       "    <tr>\n",
       "      <th>IE</th>\n",
       "      <td>0.136961</td>\n",
       "      <td>0.135400</td>\n",
       "    </tr>\n",
       "    <tr>\n",
       "      <th>Iphone_App</th>\n",
       "      <td>0.103112</td>\n",
       "      <td>0.102624</td>\n",
       "    </tr>\n",
       "    <tr>\n",
       "      <th>Opera</th>\n",
       "      <td>0.013451</td>\n",
       "      <td>0.013367</td>\n",
       "    </tr>\n",
       "    <tr>\n",
       "      <th>Safari</th>\n",
       "      <td>0.092177</td>\n",
       "      <td>0.089433</td>\n",
       "    </tr>\n",
       "  </tbody>\n",
       "</table>\n",
       "</div>"
      ],
      "text/plain": [
       "test                0         1\n",
       "browser                        \n",
       "Android_App  0.341255  0.343504\n",
       "Chrome       0.223302  0.225953\n",
       "FireFox      0.089741  0.089720\n",
       "IE           0.136961  0.135400\n",
       "Iphone_App   0.103112  0.102624\n",
       "Opera        0.013451  0.013367\n",
       "Safari       0.092177  0.089433"
      ]
     },
     "execution_count": 19,
     "metadata": {},
     "output_type": "execute_result"
    }
   ],
   "source": [
    "# 5. browser\n",
    "contingency = pd.crosstab(index=ab_df[\"browser\"],columns=ab_df[\"test\"])\n",
    "chi2, p, dof, ex = chi2_contingency(contingency, correction=True)\n",
    "print(f\"Omnibus test (p-value): {p:.4f}\")\n",
    "contingency/contingency.sum()"
   ]
  },
  {
   "cell_type": "code",
   "execution_count": 20,
   "metadata": {},
   "outputs": [
    {
     "name": "stdout",
     "output_type": "stream",
     "text": [
      "Omnibus test (p-value): 0.6816\n"
     ]
    },
    {
     "data": {
      "text/html": [
       "<div>\n",
       "<style scoped>\n",
       "    .dataframe tbody tr th:only-of-type {\n",
       "        vertical-align: middle;\n",
       "    }\n",
       "\n",
       "    .dataframe tbody tr th {\n",
       "        vertical-align: top;\n",
       "    }\n",
       "\n",
       "    .dataframe thead th {\n",
       "        text-align: right;\n",
       "    }\n",
       "</style>\n",
       "<table border=\"1\" class=\"dataframe\">\n",
       "  <thead>\n",
       "    <tr style=\"text-align: right;\">\n",
       "      <th>test</th>\n",
       "      <th>0</th>\n",
       "      <th>1</th>\n",
       "    </tr>\n",
       "    <tr>\n",
       "      <th>sex</th>\n",
       "      <th></th>\n",
       "      <th></th>\n",
       "    </tr>\n",
       "  </thead>\n",
       "  <tbody>\n",
       "    <tr>\n",
       "      <th>F</th>\n",
       "      <td>0.416036</td>\n",
       "      <td>0.416681</td>\n",
       "    </tr>\n",
       "    <tr>\n",
       "      <th>M</th>\n",
       "      <td>0.583964</td>\n",
       "      <td>0.583319</td>\n",
       "    </tr>\n",
       "  </tbody>\n",
       "</table>\n",
       "</div>"
      ],
      "text/plain": [
       "test         0         1\n",
       "sex                     \n",
       "F     0.416036  0.416681\n",
       "M     0.583964  0.583319"
      ]
     },
     "execution_count": 20,
     "metadata": {},
     "output_type": "execute_result"
    }
   ],
   "source": [
    "# 6. sex\n",
    "contingency = pd.crosstab(index=ab_df[\"sex\"],columns=ab_df[\"test\"])\n",
    "chi2, p, dof, ex = chi2_contingency(contingency, correction=True)\n",
    "print(f\"Omnibus test (p-value): {p:.4f}\")\n",
    "contingency/contingency.sum()"
   ]
  },
  {
   "cell_type": "code",
   "execution_count": 21,
   "metadata": {},
   "outputs": [
    {
     "name": "stderr",
     "output_type": "stream",
     "text": [
      "/Users/tylin/anaconda3/lib/python3.7/site-packages/numpy/lib/histograms.py:839: RuntimeWarning: invalid value encountered in greater_equal\n",
      "  keep = (tmp_a >= first_edge)\n",
      "/Users/tylin/anaconda3/lib/python3.7/site-packages/numpy/lib/histograms.py:840: RuntimeWarning: invalid value encountered in less_equal\n",
      "  keep &= (tmp_a <= last_edge)\n"
     ]
    },
    {
     "data": {
      "image/png": "[encoded data removed]",
      "text/plain": [
       "<Figure size 432x288 with 1 Axes>"
      ]
     },
     "metadata": {
      "needs_background": "light"
     },
     "output_type": "display_data"
    }
   ],
   "source": [
    "# 7. age\n",
    "# plotting first histogram\n",
    "plt.hist(ab_df.loc[ab_df[\"test\"]==1, \"age\"], label='localization', alpha=.7)\n",
    "# plotting second histogram\n",
    "plt.hist(ab_df.loc[ab_df[\"test\"]==0, \"age\"], label='non-localization', alpha=0.7)\n",
    "plt.legend()\n",
    " \n",
    "# Showing the plot using plt.show()\n",
    "plt.show()"
   ]
  },
  {
   "cell_type": "code",
   "execution_count": 22,
   "metadata": {},
   "outputs": [
    {
     "name": "stdout",
     "output_type": "stream",
     "text": [
      "Omnibus test (p-value): 0.0000\n"
     ]
    },
    {
     "data": {
      "text/html": [
       "<div>\n",
       "<style scoped>\n",
       "    .dataframe tbody tr th:only-of-type {\n",
       "        vertical-align: middle;\n",
       "    }\n",
       "\n",
       "    .dataframe tbody tr th {\n",
       "        vertical-align: top;\n",
       "    }\n",
       "\n",
       "    .dataframe thead th {\n",
       "        text-align: right;\n",
       "    }\n",
       "</style>\n",
       "<table border=\"1\" class=\"dataframe\">\n",
       "  <thead>\n",
       "    <tr style=\"text-align: right;\">\n",
       "      <th>test</th>\n",
       "      <th>0</th>\n",
       "      <th>1</th>\n",
       "    </tr>\n",
       "    <tr>\n",
       "      <th>country</th>\n",
       "      <th></th>\n",
       "      <th></th>\n",
       "    </tr>\n",
       "  </thead>\n",
       "  <tbody>\n",
       "    <tr>\n",
       "      <th>Argentina</th>\n",
       "      <td>0.050488</td>\n",
       "      <td>0.173223</td>\n",
       "    </tr>\n",
       "    <tr>\n",
       "      <th>Bolivia</th>\n",
       "      <td>0.029950</td>\n",
       "      <td>0.025833</td>\n",
       "    </tr>\n",
       "    <tr>\n",
       "      <th>Chile</th>\n",
       "      <td>0.053170</td>\n",
       "      <td>0.045807</td>\n",
       "    </tr>\n",
       "    <tr>\n",
       "      <th>Colombia</th>\n",
       "      <td>0.146176</td>\n",
       "      <td>0.125001</td>\n",
       "    </tr>\n",
       "    <tr>\n",
       "      <th>Costa Rica</th>\n",
       "      <td>0.014354</td>\n",
       "      <td>0.012277</td>\n",
       "    </tr>\n",
       "    <tr>\n",
       "      <th>Ecuador</th>\n",
       "      <td>0.043365</td>\n",
       "      <td>0.036422</td>\n",
       "    </tr>\n",
       "    <tr>\n",
       "      <th>El Salvador</th>\n",
       "      <td>0.022168</td>\n",
       "      <td>0.018848</td>\n",
       "    </tr>\n",
       "    <tr>\n",
       "      <th>Guatemala</th>\n",
       "      <td>0.041131</td>\n",
       "      <td>0.034772</td>\n",
       "    </tr>\n",
       "    <tr>\n",
       "      <th>Honduras</th>\n",
       "      <td>0.023533</td>\n",
       "      <td>0.019497</td>\n",
       "    </tr>\n",
       "    <tr>\n",
       "      <th>Mexico</th>\n",
       "      <td>0.346493</td>\n",
       "      <td>0.297881</td>\n",
       "    </tr>\n",
       "    <tr>\n",
       "      <th>Nicaragua</th>\n",
       "      <td>0.018450</td>\n",
       "      <td>0.015312</td>\n",
       "    </tr>\n",
       "    <tr>\n",
       "      <th>Panama</th>\n",
       "      <td>0.010609</td>\n",
       "      <td>0.009199</td>\n",
       "    </tr>\n",
       "    <tr>\n",
       "      <th>Paraguay</th>\n",
       "      <td>0.019697</td>\n",
       "      <td>0.017134</td>\n",
       "    </tr>\n",
       "    <tr>\n",
       "      <th>Peru</th>\n",
       "      <td>0.091031</td>\n",
       "      <td>0.077845</td>\n",
       "    </tr>\n",
       "    <tr>\n",
       "      <th>Uruguay</th>\n",
       "      <td>0.002239</td>\n",
       "      <td>0.017236</td>\n",
       "    </tr>\n",
       "    <tr>\n",
       "      <th>Venezuela</th>\n",
       "      <td>0.087145</td>\n",
       "      <td>0.073711</td>\n",
       "    </tr>\n",
       "  </tbody>\n",
       "</table>\n",
       "</div>"
      ],
      "text/plain": [
       "test                0         1\n",
       "country                        \n",
       "Argentina    0.050488  0.173223\n",
       "Bolivia      0.029950  0.025833\n",
       "Chile        0.053170  0.045807\n",
       "Colombia     0.146176  0.125001\n",
       "Costa Rica   0.014354  0.012277\n",
       "Ecuador      0.043365  0.036422\n",
       "El Salvador  0.022168  0.018848\n",
       "Guatemala    0.041131  0.034772\n",
       "Honduras     0.023533  0.019497\n",
       "Mexico       0.346493  0.297881\n",
       "Nicaragua    0.018450  0.015312\n",
       "Panama       0.010609  0.009199\n",
       "Paraguay     0.019697  0.017134\n",
       "Peru         0.091031  0.077845\n",
       "Uruguay      0.002239  0.017236\n",
       "Venezuela    0.087145  0.073711"
      ]
     },
     "execution_count": 22,
     "metadata": {},
     "output_type": "execute_result"
    }
   ],
   "source": [
    "# 6. country\n",
    "contingency = pd.crosstab(index=ab_df[\"country\"],columns=ab_df[\"test\"])\n",
    "chi2, p, dof, ex = chi2_contingency(contingency, correction=True)\n",
    "print(f\"Omnibus test (p-value): {p:.4f}\")\n",
    "(contingency/contingency.sum())\n"
   ]
  },
  {
   "cell_type": "markdown",
   "metadata": {},
   "source": [
    "### 不平衡的國家組別"
   ]
  },
  {
   "cell_type": "code",
   "execution_count": 23,
   "metadata": {},
   "outputs": [],
   "source": [
    "unblance_country =[\"Argentina\",\"Ecuador\",\"Mexico\",\"Uruguay\"]"
   ]
  },
  {
   "cell_type": "code",
   "execution_count": 24,
   "metadata": {},
   "outputs": [
    {
     "data": {
      "text/plain": [
       "country\n",
       "Argentina    0.013994\n",
       "Ecuador      0.049072\n",
       "Mexico       0.050341\n",
       "Uruguay      0.012821\n",
       "Name: conversion, dtype: float64"
      ]
     },
     "execution_count": 24,
     "metadata": {},
     "output_type": "execute_result"
    }
   ],
   "source": [
    "ab_df.loc[ab_df[\"country\"].isin(unblance_country)].groupby([\"country\"]).agg(\"mean\")[\"conversion\"]"
   ]
  },
  {
   "cell_type": "code",
   "execution_count": 25,
   "metadata": {},
   "outputs": [
    {
     "name": "stdout",
     "output_type": "stream",
     "text": [
      "Omnibus test (p-value): 0.5106\n",
      "----------------------------------\n",
      "test\n",
      "0    0.050695\n",
      "1    0.050052\n",
      "Name: conversion, dtype: float64\n"
     ]
    }
   ],
   "source": [
    "clean_df = ab_df.loc[~ab_df[\"country\"].isin([\"Argentina\",\"Ecuador\",\"Mexico\",\"Uruguay\"])]\n",
    "contingency = pd.crosstab(index=clean_df[\"test\"],columns=ab_df[\"conversion\"])\n",
    "chi2, p, dof, ex = chi2_contingency(contingency, correction=True)\n",
    "print(f\"Omnibus test (p-value): {p:.4f}\")\n",
    "print(\"----------------------------------\")\n",
    "print(clean_df.groupby([\"test\"]).mean()[\"conversion\"])"
   ]
  },
  {
   "cell_type": "markdown",
   "metadata": {},
   "source": [
    "## 3. If you identiﬁed what was wrong, design an algorithm that would return FALSE if the same problem is happening in the future and TRUE if everything is good and the results can be trusted.\n",
    "- We should check the distribution of two groups first"
   ]
  },
  {
   "cell_type": "code",
   "execution_count": 46,
   "metadata": {},
   "outputs": [],
   "source": [
    "def check_dist(df, cat_cols, group):\n",
    "    problem_col = []\n",
    "    for cat_col in cat_cols:\n",
    "        contingency = pd.crosstab(index=df[cat_col],columns=df[group])\n",
    "        chi2, p, dof, ex = chi2_contingency(contingency, correction=True)\n",
    "        if p < (0.05/len(cat_cols)):\n",
    "            problem_col.append(cat_col)\n",
    "            \n",
    "    return (True if len(problem_col)==0 else False, problem_col)"
   ]
  },
  {
   "cell_type": "code",
   "execution_count": 48,
   "metadata": {},
   "outputs": [
    {
     "name": "stdout",
     "output_type": "stream",
     "text": [
      "country\n"
     ]
    }
   ],
   "source": [
    "# usage\n",
    "trust, prob_cols = check_dist(ab_df, [\"source\", \"device\", \"browser_language\", \"ads_channel\", \"browser\", \"sex\", \"country\"], \"test\")\n",
    "if not trust:\n",
    "    for col in prob_cols:\n",
    "        print(col)"
   ]
  },
  {
   "cell_type": "code",
   "execution_count": null,
   "metadata": {},
   "outputs": [],
   "source": []
  }
 ],
 "metadata": {
  "kernelspec": {
   "display_name": "Python 3",
   "language": "python",
   "name": "python3"
  },
  "language_info": {
   "codemirror_mode": {
    "name": "ipython",
    "version": 3
   },
   "file_extension": ".py",
   "mimetype": "text/x-python",
   "name": "python",
   "nbconvert_exporter": "python",
   "pygments_lexer": "ipython3",
   "version": "3.7.3"
  }
 },
 "nbformat": 4,
 "nbformat_minor": 2
}
