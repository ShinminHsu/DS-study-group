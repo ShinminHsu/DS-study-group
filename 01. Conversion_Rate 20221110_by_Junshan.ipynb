{
 "cells": [
  {
   "cell_type": "markdown",
   "metadata": {},
   "source": [
    "#### Goal\n",
    "\n",
    "The goal of this challenge is to build a model that predicts conversion rate and, based on the\n",
    "model, come up with ideas to improve revenue.\n",
    "\n",
    "---------\n",
    "#### Challenge Description\n",
    "\n",
    "Your project is to:\n",
    "- Predict conversion rate\n",
    "- Come up with recommendations for the product team and the marketing team to improve conversion rate\n"
   ]
  },
  {
   "cell_type": "markdown",
   "metadata": {},
   "source": [
    "資料集說明\n",
    "- country : user country based on the IP address\n",
    "- age : user age. \n",
    "- new_user : whether the user created the account during this session or had already an account and simply came back to the site\n",
    "- source : marketing channel source\n",
    "   - Ads: came to the site by clicking on an advertisement\n",
    "   - Seo: came to the site by clicking on search results\n",
    "   - Direct: came to the site by directly typing the URL on the browser\n",
    "- total_pages_visited: number of total pages visited during the session. This is a proxy for time spent on site and engagement during the session.\n",
    "- converted: this is our label. 1 means they converted within the session, 0 means they left\n",
    "without buying anything. The company goal is to increase conversion rate: # conversions\n",
    "/ total sessions.\n",
    "\n",
    "\n",
    "\n"
   ]
  },
  {
   "cell_type": "code",
   "execution_count": 1,
   "metadata": {},
   "outputs": [
    {
     "name": "stderr",
     "output_type": "stream",
     "text": [
      "C:\\Users\\user\\Anaconda3\\envs\\ml_test\\lib\\site-packages\\numpy\\_distributor_init.py:32: UserWarning: loaded more than 1 DLL from .libs:\n",
      "C:\\Users\\user\\Anaconda3\\envs\\ml_test\\lib\\site-packages\\numpy\\.libs\\libopenblas.TXA6YQSD3GCQQC22GEQ54J2UDCXDXHWN.gfortran-win_amd64.dll\n",
      "C:\\Users\\user\\Anaconda3\\envs\\ml_test\\lib\\site-packages\\numpy\\.libs\\libopenblas.WCDJNK7YVMPZQ2ME2ZZHJJRJ3JIKNDB7.gfortran-win_amd64.dll\n",
      "  stacklevel=1)\n"
     ]
    }
   ],
   "source": [
    "\n",
    "import matplotlib.pyplot as plt\n",
    "%matplotlib inline\n",
    "import pandas as pd\n",
    "import numpy as np\n",
    "import copy\n",
    "import seaborn as sns\n",
    "from sklearn.preprocessing import LabelEncoder, MinMaxScaler\n",
    "from sklearn.ensemble import RandomForestClassifier , GradientBoostingClassifier\n",
    "from sklearn.linear_model import LogisticRegressionCV\n",
    "import warnings\n",
    "from IPython.display import display\n",
    "from sklearn.model_selection import train_test_split, KFold, GridSearchCV ,cross_val_score\n",
    "\n",
    "from sklearn.metrics import confusion_matrix, roc_auc_score, accuracy_score ,classification_report\n",
    "from sklearn.metrics import roc_curve , auc, f1_score , recall_score , precision_score\n",
    "warnings.filterwarnings('ignore')\n"
   ]
  },
  {
   "cell_type": "code",
   "execution_count": 2,
   "metadata": {},
   "outputs": [
    {
     "name": "stdout",
     "output_type": "stream",
     "text": [
      "<class 'pandas.core.frame.DataFrame'>\n",
      "RangeIndex: 316200 entries, 0 to 316199\n",
      "Data columns (total 6 columns):\n",
      " #   Column               Non-Null Count   Dtype \n",
      "---  ------               --------------   ----- \n",
      " 0   country              316200 non-null  object\n",
      " 1   age                  316200 non-null  int64 \n",
      " 2   new_user             316200 non-null  int64 \n",
      " 3   source               316200 non-null  object\n",
      " 4   total_pages_visited  316200 non-null  int64 \n",
      " 5   converted            316200 non-null  int64 \n",
      "dtypes: int64(4), object(2)\n",
      "memory usage: 14.5+ MB\n"
     ]
    }
   ],
   "source": [
    "df = pd.read_csv('./data/conversion_data.csv')\n",
    "df.info()"
   ]
  },
  {
   "cell_type": "code",
   "execution_count": 3,
   "metadata": {},
   "outputs": [
    {
     "data": {
      "text/html": [
       "<div>\n",
       "<style scoped>\n",
       "    .dataframe tbody tr th:only-of-type {\n",
       "        vertical-align: middle;\n",
       "    }\n",
       "\n",
       "    .dataframe tbody tr th {\n",
       "        vertical-align: top;\n",
       "    }\n",
       "\n",
       "    .dataframe thead th {\n",
       "        text-align: right;\n",
       "    }\n",
       "</style>\n",
       "<table border=\"1\" class=\"dataframe\">\n",
       "  <thead>\n",
       "    <tr style=\"text-align: right;\">\n",
       "      <th></th>\n",
       "      <th>country</th>\n",
       "      <th>age</th>\n",
       "      <th>new_user</th>\n",
       "      <th>source</th>\n",
       "      <th>total_pages_visited</th>\n",
       "      <th>converted</th>\n",
       "    </tr>\n",
       "  </thead>\n",
       "  <tbody>\n",
       "    <tr>\n",
       "      <th>0</th>\n",
       "      <td>UK</td>\n",
       "      <td>25</td>\n",
       "      <td>1</td>\n",
       "      <td>Ads</td>\n",
       "      <td>1</td>\n",
       "      <td>0</td>\n",
       "    </tr>\n",
       "    <tr>\n",
       "      <th>1</th>\n",
       "      <td>US</td>\n",
       "      <td>23</td>\n",
       "      <td>1</td>\n",
       "      <td>Seo</td>\n",
       "      <td>5</td>\n",
       "      <td>0</td>\n",
       "    </tr>\n",
       "    <tr>\n",
       "      <th>2</th>\n",
       "      <td>US</td>\n",
       "      <td>28</td>\n",
       "      <td>1</td>\n",
       "      <td>Seo</td>\n",
       "      <td>4</td>\n",
       "      <td>0</td>\n",
       "    </tr>\n",
       "    <tr>\n",
       "      <th>3</th>\n",
       "      <td>China</td>\n",
       "      <td>39</td>\n",
       "      <td>1</td>\n",
       "      <td>Seo</td>\n",
       "      <td>5</td>\n",
       "      <td>0</td>\n",
       "    </tr>\n",
       "    <tr>\n",
       "      <th>4</th>\n",
       "      <td>US</td>\n",
       "      <td>30</td>\n",
       "      <td>1</td>\n",
       "      <td>Seo</td>\n",
       "      <td>6</td>\n",
       "      <td>0</td>\n",
       "    </tr>\n",
       "  </tbody>\n",
       "</table>\n",
       "</div>"
      ],
      "text/plain": [
       "  country  age  new_user source  total_pages_visited  converted\n",
       "0      UK   25         1    Ads                    1          0\n",
       "1      US   23         1    Seo                    5          0\n",
       "2      US   28         1    Seo                    4          0\n",
       "3   China   39         1    Seo                    5          0\n",
       "4      US   30         1    Seo                    6          0"
      ]
     },
     "execution_count": 3,
     "metadata": {},
     "output_type": "execute_result"
    }
   ],
   "source": [
    "df.head()"
   ]
  },
  {
   "cell_type": "code",
   "execution_count": 4,
   "metadata": {},
   "outputs": [
    {
     "data": {
      "text/html": [
       "<div>\n",
       "<style scoped>\n",
       "    .dataframe tbody tr th:only-of-type {\n",
       "        vertical-align: middle;\n",
       "    }\n",
       "\n",
       "    .dataframe tbody tr th {\n",
       "        vertical-align: top;\n",
       "    }\n",
       "\n",
       "    .dataframe thead th {\n",
       "        text-align: right;\n",
       "    }\n",
       "</style>\n",
       "<table border=\"1\" class=\"dataframe\">\n",
       "  <thead>\n",
       "    <tr style=\"text-align: right;\">\n",
       "      <th></th>\n",
       "      <th>age</th>\n",
       "      <th>new_user</th>\n",
       "      <th>total_pages_visited</th>\n",
       "      <th>converted</th>\n",
       "    </tr>\n",
       "  </thead>\n",
       "  <tbody>\n",
       "    <tr>\n",
       "      <th>count</th>\n",
       "      <td>316200.000000</td>\n",
       "      <td>316200.000000</td>\n",
       "      <td>316200.000000</td>\n",
       "      <td>316200.000000</td>\n",
       "    </tr>\n",
       "    <tr>\n",
       "      <th>mean</th>\n",
       "      <td>30.569858</td>\n",
       "      <td>0.685465</td>\n",
       "      <td>4.872966</td>\n",
       "      <td>0.032258</td>\n",
       "    </tr>\n",
       "    <tr>\n",
       "      <th>std</th>\n",
       "      <td>8.271802</td>\n",
       "      <td>0.464331</td>\n",
       "      <td>3.341104</td>\n",
       "      <td>0.176685</td>\n",
       "    </tr>\n",
       "    <tr>\n",
       "      <th>min</th>\n",
       "      <td>17.000000</td>\n",
       "      <td>0.000000</td>\n",
       "      <td>1.000000</td>\n",
       "      <td>0.000000</td>\n",
       "    </tr>\n",
       "    <tr>\n",
       "      <th>25%</th>\n",
       "      <td>24.000000</td>\n",
       "      <td>0.000000</td>\n",
       "      <td>2.000000</td>\n",
       "      <td>0.000000</td>\n",
       "    </tr>\n",
       "    <tr>\n",
       "      <th>50%</th>\n",
       "      <td>30.000000</td>\n",
       "      <td>1.000000</td>\n",
       "      <td>4.000000</td>\n",
       "      <td>0.000000</td>\n",
       "    </tr>\n",
       "    <tr>\n",
       "      <th>75%</th>\n",
       "      <td>36.000000</td>\n",
       "      <td>1.000000</td>\n",
       "      <td>7.000000</td>\n",
       "      <td>0.000000</td>\n",
       "    </tr>\n",
       "    <tr>\n",
       "      <th>max</th>\n",
       "      <td>123.000000</td>\n",
       "      <td>1.000000</td>\n",
       "      <td>29.000000</td>\n",
       "      <td>1.000000</td>\n",
       "    </tr>\n",
       "  </tbody>\n",
       "</table>\n",
       "</div>"
      ],
      "text/plain": [
       "                 age       new_user  total_pages_visited      converted\n",
       "count  316200.000000  316200.000000        316200.000000  316200.000000\n",
       "mean       30.569858       0.685465             4.872966       0.032258\n",
       "std         8.271802       0.464331             3.341104       0.176685\n",
       "min        17.000000       0.000000             1.000000       0.000000\n",
       "25%        24.000000       0.000000             2.000000       0.000000\n",
       "50%        30.000000       1.000000             4.000000       0.000000\n",
       "75%        36.000000       1.000000             7.000000       0.000000\n",
       "max       123.000000       1.000000            29.000000       1.000000"
      ]
     },
     "execution_count": 4,
     "metadata": {},
     "output_type": "execute_result"
    }
   ],
   "source": [
    "## 描述性統計 \n",
    "df.describe()"
   ]
  },
  {
   "cell_type": "code",
   "execution_count": 5,
   "metadata": {},
   "outputs": [
    {
     "name": "stdout",
     "output_type": "stream",
     "text": [
      "4 df Number Features : ['age', 'new_user', 'total_pages_visited', 'converted']\n",
      "\n",
      "2 df Object Features : ['country', 'source']\n",
      "\n"
     ]
    }
   ],
   "source": [
    "## 確認 DataFrame的  .dtypes(欄位類型), .columns(欄位名稱) \n",
    "numeric_columns = []\n",
    "object_columns = []\n",
    "\n",
    "\n",
    "for dtype, feature in zip(df.dtypes, df.columns):\n",
    "    if dtype == 'float64' or dtype == 'int64':\n",
    "        numeric_columns.append(feature)\n",
    "    else:\n",
    "        object_columns.append(feature)\n",
    "\n",
    "\n",
    "print(f'{len(numeric_columns)} df Number Features : {numeric_columns}\\n')\n",
    "print(f'{len(object_columns)} df Object Features : {object_columns}\\n')"
   ]
  },
  {
   "cell_type": "code",
   "execution_count": 6,
   "metadata": {},
   "outputs": [
    {
     "name": "stdout",
     "output_type": "stream",
     "text": [
      "特徵           去重複後的計算量     內容\n",
      "country                  4\t ['China', 'Germany', 'UK', 'US']\n",
      "age                     60\t [17, 18, 19, 20, 21, 22]\n",
      "new_user                 2\t [0, 1]\n",
      "source                   3\t ['Ads', 'Direct', 'Seo']\n",
      "total_pages_visited     29\t [1, 2, 3, 4, 5, 6]\n",
      "converted                2\t [0, 1]\n"
     ]
    }
   ],
   "source": [
    "## 看各欄位的元素\n",
    "print('特徵', '         ', '去重複後的計算量','   ', '內容')\n",
    "for column in df.columns:\n",
    "    uniques = sorted(df[column].unique())\n",
    "    print('{0:20s} {1:5d}\\t'.format(column, len(uniques)), uniques[:6])"
   ]
  },
  {
   "cell_type": "code",
   "execution_count": 7,
   "metadata": {},
   "outputs": [
    {
     "data": {
      "text/plain": [
       "0    306000\n",
       "1     10200\n",
       "Name: converted, dtype: int64"
      ]
     },
     "execution_count": 7,
     "metadata": {},
     "output_type": "execute_result"
    }
   ],
   "source": [
    "## converted 的個別出現次數\n",
    "df.loc[:,'converted'].value_counts()"
   ]
  },
  {
   "cell_type": "markdown",
   "metadata": {},
   "source": [
    "### 從描述性統計\n",
    "1.可以看到age的最大值是123,明顯跟現實有點出入\n",
    "\n",
    "2.整體用戶年紀很年輕\n",
    "\n",
    "3.轉換率= 完成轉換次數/訪客數量*100% = 10200/306000 *100% = 3.33%\n",
    "\n",
    "------\n",
    "###### 轉換率補充知識: https://reurl.cc/ymmvza"
   ]
  },
  {
   "cell_type": "markdown",
   "metadata": {},
   "source": [
    "### 處理異常值"
   ]
  },
  {
   "cell_type": "code",
   "execution_count": 8,
   "metadata": {},
   "outputs": [
    {
     "data": {
      "text/plain": [
       "age\n",
       "17      7597\n",
       "18      8466\n",
       "19      9349\n",
       "20     10156\n",
       "21     10966\n",
       "22     11701\n",
       "23     12336\n",
       "24     12960\n",
       "25     13460\n",
       "26     13931\n",
       "27     14084\n",
       "28     14341\n",
       "29     14158\n",
       "30     14346\n",
       "31     13692\n",
       "32     13507\n",
       "33     12631\n",
       "34     12108\n",
       "35     11471\n",
       "36     10779\n",
       "37      9761\n",
       "38      8970\n",
       "39      8202\n",
       "40      7148\n",
       "41      6401\n",
       "42      5588\n",
       "43      4904\n",
       "44      4224\n",
       "45      3634\n",
       "46      2994\n",
       "47      2504\n",
       "48      2121\n",
       "49      1629\n",
       "50      1356\n",
       "51      1093\n",
       "52       935\n",
       "53       627\n",
       "54       520\n",
       "55       394\n",
       "56       286\n",
       "57       247\n",
       "58       165\n",
       "59       127\n",
       "60        94\n",
       "61        71\n",
       "62        59\n",
       "63        35\n",
       "64        27\n",
       "65        15\n",
       "66         9\n",
       "67         5\n",
       "68         5\n",
       "69         3\n",
       "70         2\n",
       "72         1\n",
       "73         1\n",
       "77         1\n",
       "79         1\n",
       "111        1\n",
       "123        1\n",
       "Name: age, dtype: int64"
      ]
     },
     "execution_count": 8,
     "metadata": {},
     "output_type": "execute_result"
    }
   ],
   "source": [
    "## 各個 age 的出現次數\n",
    "df.groupby('age')['age'].count()"
   ]
  },
  {
   "cell_type": "code",
   "execution_count": 9,
   "metadata": {},
   "outputs": [
    {
     "data": {
      "text/html": [
       "<div>\n",
       "<style scoped>\n",
       "    .dataframe tbody tr th:only-of-type {\n",
       "        vertical-align: middle;\n",
       "    }\n",
       "\n",
       "    .dataframe tbody tr th {\n",
       "        vertical-align: top;\n",
       "    }\n",
       "\n",
       "    .dataframe thead th {\n",
       "        text-align: right;\n",
       "    }\n",
       "</style>\n",
       "<table border=\"1\" class=\"dataframe\">\n",
       "  <thead>\n",
       "    <tr style=\"text-align: right;\">\n",
       "      <th></th>\n",
       "      <th>age</th>\n",
       "      <th>new_user</th>\n",
       "      <th>total_pages_visited</th>\n",
       "      <th>converted</th>\n",
       "    </tr>\n",
       "  </thead>\n",
       "  <tbody>\n",
       "    <tr>\n",
       "      <th>count</th>\n",
       "      <td>316198.000000</td>\n",
       "      <td>316198.000000</td>\n",
       "      <td>316198.000000</td>\n",
       "      <td>316198.000000</td>\n",
       "    </tr>\n",
       "    <tr>\n",
       "      <th>mean</th>\n",
       "      <td>30.569311</td>\n",
       "      <td>0.685469</td>\n",
       "      <td>4.872918</td>\n",
       "      <td>0.032252</td>\n",
       "    </tr>\n",
       "    <tr>\n",
       "      <th>std</th>\n",
       "      <td>8.268958</td>\n",
       "      <td>0.464329</td>\n",
       "      <td>3.341053</td>\n",
       "      <td>0.176669</td>\n",
       "    </tr>\n",
       "    <tr>\n",
       "      <th>min</th>\n",
       "      <td>17.000000</td>\n",
       "      <td>0.000000</td>\n",
       "      <td>1.000000</td>\n",
       "      <td>0.000000</td>\n",
       "    </tr>\n",
       "    <tr>\n",
       "      <th>25%</th>\n",
       "      <td>24.000000</td>\n",
       "      <td>0.000000</td>\n",
       "      <td>2.000000</td>\n",
       "      <td>0.000000</td>\n",
       "    </tr>\n",
       "    <tr>\n",
       "      <th>50%</th>\n",
       "      <td>30.000000</td>\n",
       "      <td>1.000000</td>\n",
       "      <td>4.000000</td>\n",
       "      <td>0.000000</td>\n",
       "    </tr>\n",
       "    <tr>\n",
       "      <th>75%</th>\n",
       "      <td>36.000000</td>\n",
       "      <td>1.000000</td>\n",
       "      <td>7.000000</td>\n",
       "      <td>0.000000</td>\n",
       "    </tr>\n",
       "    <tr>\n",
       "      <th>max</th>\n",
       "      <td>79.000000</td>\n",
       "      <td>1.000000</td>\n",
       "      <td>29.000000</td>\n",
       "      <td>1.000000</td>\n",
       "    </tr>\n",
       "  </tbody>\n",
       "</table>\n",
       "</div>"
      ],
      "text/plain": [
       "                 age       new_user  total_pages_visited      converted\n",
       "count  316198.000000  316198.000000        316198.000000  316198.000000\n",
       "mean       30.569311       0.685469             4.872918       0.032252\n",
       "std         8.268958       0.464329             3.341053       0.176669\n",
       "min        17.000000       0.000000             1.000000       0.000000\n",
       "25%        24.000000       0.000000             2.000000       0.000000\n",
       "50%        30.000000       1.000000             4.000000       0.000000\n",
       "75%        36.000000       1.000000             7.000000       0.000000\n",
       "max        79.000000       1.000000            29.000000       1.000000"
      ]
     },
     "execution_count": 9,
     "metadata": {},
     "output_type": "execute_result"
    }
   ],
   "source": [
    "## age<100 描述性統計 \n",
    "df_under100 = df[df['age'] <100]\n",
    "df_under100.describe()\n"
   ]
  },
  {
   "cell_type": "code",
   "execution_count": 10,
   "metadata": {},
   "outputs": [
    {
     "data": {
      "image/png": "[encoded data removed]",
      "text/plain": [
       "<Figure size 1080x2160 with 4 Axes>"
      ]
     },
     "metadata": {
      "needs_background": "light"
     },
     "output_type": "display_data"
    }
   ],
   "source": [
    "## 將訓練資料集的每個特徵值畫出直方圖看資料分布  x軸出現次數  y軸是數據\n",
    "fig_cols = 2\n",
    "fig_rows = len(numeric_columns)\n",
    "\n",
    "plt.figure(figsize=(15,30))\n",
    "for i,col in enumerate (numeric_columns):\n",
    "    plt.subplot(fig_rows,fig_cols,i+1)\n",
    "    df[col].hist( color = \"skyblue\",bins=20)\n",
    "    plt.title(str(col))\n",
    "plt.show()"
   ]
  },
  {
   "cell_type": "code",
   "execution_count": 11,
   "metadata": {},
   "outputs": [
    {
     "data": {
      "image/png": "[encoded data removed]",
      "text/plain": [
       "<Figure size 432x288 with 1 Axes>"
      ]
     },
     "metadata": {
      "needs_background": "light"
     },
     "output_type": "display_data"
    },
    {
     "data": {
      "image/png": "[encoded data removed]",
      "text/plain": [
       "<Figure size 432x288 with 1 Axes>"
      ]
     },
     "metadata": {
      "needs_background": "light"
     },
     "output_type": "display_data"
    },
    {
     "data": {
      "image/png": "[encoded data removed]",
      "text/plain": [
       "<Figure size 432x288 with 1 Axes>"
      ]
     },
     "metadata": {
      "needs_background": "light"
     },
     "output_type": "display_data"
    },
    {
     "data": {
      "image/png": "[encoded data removed]",
      "text/plain": [
       "<Figure size 432x288 with 1 Axes>"
      ]
     },
     "metadata": {
      "needs_background": "light"
     },
     "output_type": "display_data"
    }
   ],
   "source": [
    "## 逐筆畫出盒形圖\n",
    "\n",
    "for col in numeric_columns:\n",
    "    #print(col)\n",
    "    df.boxplot(column = str(col))\n",
    "    plt.show()"
   ]
  },
  {
   "cell_type": "markdown",
   "metadata": {},
   "source": [
    "### 查看數值型欄位相關係數"
   ]
  },
  {
   "cell_type": "code",
   "execution_count": 12,
   "metadata": {},
   "outputs": [
    {
     "data": {
      "text/plain": [
       "<function matplotlib.pyplot.show(*args, **kw)>"
      ]
     },
     "execution_count": 12,
     "metadata": {},
     "output_type": "execute_result"
    },
    {
     "data": {
      "image/png": "[encoded data removed]",
      "text/plain": [
       "<Figure size 792x504 with 2 Axes>"
      ]
     },
     "metadata": {
      "needs_background": "light"
     },
     "output_type": "display_data"
    }
   ],
   "source": [
    "plt.figure(figsize=(11,7))\n",
    "sns.heatmap(df.corr(),annot=True)\n",
    "plt.show"
   ]
  },
  {
   "cell_type": "code",
   "execution_count": 13,
   "metadata": {},
   "outputs": [
    {
     "name": "stdout",
     "output_type": "stream",
     "text": [
      "偏態(Skewness): 0.52, 峰度(Kurtosis): -0.03\n"
     ]
    },
    {
     "data": {
      "image/png": "[encoded data removed]",
      "text/plain": [
       "<Figure size 432x288 with 1 Axes>"
      ]
     },
     "metadata": {
      "needs_background": "light"
     },
     "output_type": "display_data"
    }
   ],
   "source": [
    "## 看age欄位的skewness 與 kurtosis\n",
    "skewness = round(df['age'].skew(), 2)\n",
    "kurtosis = round(df['age'].kurt(), 2)\n",
    "print(f\"偏態(Skewness): {skewness}, 峰度(Kurtosis): {kurtosis}\")\n",
    "\n",
    "## 繪製分布圖\n",
    "sns.histplot(df['age'], kde=True)\n",
    "plt.show()"
   ]
  },
  {
   "cell_type": "code",
   "execution_count": 14,
   "metadata": {},
   "outputs": [
    {
     "name": "stdout",
     "output_type": "stream",
     "text": [
      "取log調整後偏態(Skewness): -0.04, 取log調整後峰度(Kurtosis): -0.65\n"
     ]
    },
    {
     "data": {
      "image/png": "[encoded data removed]",
      "text/plain": [
       "<Figure size 432x288 with 1 Axes>"
      ]
     },
     "metadata": {
      "needs_background": "light"
     },
     "output_type": "display_data"
    },
    {
     "data": {
      "text/plain": [
       "count    316200.000000\n",
       "mean          3.418070\n",
       "std           0.262247\n",
       "min           2.890372\n",
       "25%           3.218876\n",
       "50%           3.433987\n",
       "75%           3.610918\n",
       "max           4.820282\n",
       "Name: age, dtype: float64"
      ]
     },
     "execution_count": 14,
     "metadata": {},
     "output_type": "execute_result"
    }
   ],
   "source": [
    "## 針對 age欄位做 對數轉換 (注意:資料不能有0或負數) \n",
    "log1p_data = np.log1p(df['age'])\n",
    "# skewness 與 kurtosis\n",
    "skewness = round(log1p_data.skew(), 2)\n",
    "kurtosis = round(log1p_data.kurt(), 2)\n",
    "print(f\"取log調整後偏態(Skewness): {skewness}, 取log調整後峰度(Kurtosis): {kurtosis}\")\n",
    "\n",
    "# 繪製分布圖\n",
    "sns.histplot(log1p_data, kde=True)\n",
    "plt.show()\n",
    "log1p_data.describe()"
   ]
  },
  {
   "cell_type": "code",
   "execution_count": 15,
   "metadata": {},
   "outputs": [
    {
     "name": "stdout",
     "output_type": "stream",
     "text": [
      "平方根轉換後偏態(Skewness): 0.22, 平方根轉換後峰度(Kurtosis): -0.49\n"
     ]
    },
    {
     "data": {
      "image/png": "[encoded data removed]",
      "text/plain": [
       "<Figure size 432x288 with 1 Axes>"
      ]
     },
     "metadata": {
      "needs_background": "light"
     },
     "output_type": "display_data"
    },
    {
     "data": {
      "text/plain": [
       "count    316200.000000\n",
       "mean          5.479064\n",
       "std           0.741430\n",
       "min           4.123106\n",
       "25%           4.898979\n",
       "50%           5.477226\n",
       "75%           6.000000\n",
       "max          11.090537\n",
       "Name: age, dtype: float64"
      ]
     },
     "execution_count": 15,
     "metadata": {},
     "output_type": "execute_result"
    }
   ],
   "source": [
    "## 針對 age欄位做 平方根轉換  (注意:資料不能有負數) \n",
    "sqrt_data = (df['age'])**(1/2)\n",
    "# skewness 與 kurtosis\n",
    "skewness = round(sqrt_data.skew(), 2)\n",
    "kurtosis = round(sqrt_data.kurt(), 2)\n",
    "print(f\"平方根轉換後偏態(Skewness): {skewness}, 平方根轉換後峰度(Kurtosis): {kurtosis}\")\n",
    "\n",
    "# 繪製分布圖\n",
    "sns.histplot(sqrt_data, kde=True)\n",
    "plt.show()\n",
    "sqrt_data.describe()"
   ]
  },
  {
   "cell_type": "code",
   "execution_count": 16,
   "metadata": {},
   "outputs": [
    {
     "name": "stdout",
     "output_type": "stream",
     "text": [
      "Shape Of The Before Ouliers:  (316200,)\n",
      "Shape Of The After Ouliers:  (314130,)\n"
     ]
    }
   ],
   "source": [
    "## 透過boxplot 將所有特徵超出1.5倍IQR的概念將這些Outlier排除\n",
    "print (\"Shape Of The Before Ouliers: \",df['age'].shape)\n",
    "n=1.5\n",
    "#IQR = Q3-Q1\n",
    "IQR = np.percentile(df['age'],75) - np.percentile(df['age'],25)\n",
    "# outlier = Q3 + n*IQR \n",
    "transform_data = df[df['age']< np.percentile(df['age'],75)+n*IQR]\n",
    "# outlier = Q1 - n*IQR \n",
    "transform_data = transform_data[transform_data['age'] > np.percentile(transform_data['age'],25)-n*IQR]['age']\n",
    "print (\"Shape Of The After Ouliers: \",transform_data.shape)\n",
    "\n",
    "## 會排除掉2070筆資料"
   ]
  },
  {
   "cell_type": "code",
   "execution_count": 17,
   "metadata": {},
   "outputs": [
    {
     "name": "stdout",
     "output_type": "stream",
     "text": [
      "偏態(Skewness): 0.39, 峰度(Kurtosis): -0.48\n"
     ]
    },
    {
     "data": {
      "image/png": "[encoded data removed]",
      "text/plain": [
       "<Figure size 432x288 with 1 Axes>"
      ]
     },
     "metadata": {
      "needs_background": "light"
     },
     "output_type": "display_data"
    }
   ],
   "source": [
    "## 看age欄位的skewness 與 kurtosis\n",
    "skewness = round(transform_data.skew(), 2)\n",
    "kurtosis = round(transform_data.kurt(), 2)\n",
    "print(f\"偏態(Skewness): {skewness}, 峰度(Kurtosis): {kurtosis}\")\n",
    "\n",
    "## 繪製分布圖\n",
    "sns.histplot(transform_data, kde=True)\n",
    "plt.show()"
   ]
  },
  {
   "cell_type": "code",
   "execution_count": 18,
   "metadata": {},
   "outputs": [
    {
     "data": {
      "text/plain": [
       "count    314130.000000\n",
       "mean         30.396947\n",
       "std           8.014096\n",
       "min          17.000000\n",
       "25%          24.000000\n",
       "50%          30.000000\n",
       "75%          36.000000\n",
       "max          53.000000\n",
       "Name: age, dtype: float64"
      ]
     },
     "execution_count": 18,
     "metadata": {},
     "output_type": "execute_result"
    }
   ],
   "source": [
    "transform_data.describe()"
   ]
  },
  {
   "cell_type": "markdown",
   "metadata": {},
   "source": [
    "### 先測試看看用boxplot 排除離群值的age對模型的影響"
   ]
  },
  {
   "cell_type": "code",
   "execution_count": 19,
   "metadata": {},
   "outputs": [],
   "source": [
    "#df_clean_age =  df[(df['age'] <= 90)] \n",
    "df_clean_age =  df[(df['age'] <= 53)] "
   ]
  },
  {
   "cell_type": "code",
   "execution_count": 20,
   "metadata": {},
   "outputs": [
    {
     "data": {
      "text/plain": [
       "0    303941\n",
       "1     10189\n",
       "Name: converted, dtype: int64"
      ]
     },
     "execution_count": 20,
     "metadata": {},
     "output_type": "execute_result"
    }
   ],
   "source": [
    "## converted 的個別出現次數\n",
    "df_clean_age.loc[:,'converted'].value_counts()"
   ]
  },
  {
   "cell_type": "code",
   "execution_count": 21,
   "metadata": {},
   "outputs": [
    {
     "name": "stdout",
     "output_type": "stream",
     "text": [
      "偏態(Skewness): 0.39, 峰度(Kurtosis): -0.48\n"
     ]
    },
    {
     "data": {
      "image/png": "[encoded data removed]",
      "text/plain": [
       "<Figure size 432x288 with 1 Axes>"
      ]
     },
     "metadata": {
      "needs_background": "light"
     },
     "output_type": "display_data"
    }
   ],
   "source": [
    "## 看age欄位的skewness 與 kurtosis\n",
    "skewness = round(df_clean_age ['age'].skew(), 2)\n",
    "kurtosis = round(df_clean_age ['age'].kurt(), 2)\n",
    "print(f\"偏態(Skewness): {skewness}, 峰度(Kurtosis): {kurtosis}\")\n",
    "\n",
    "## 繪製分布圖\n",
    "sns.histplot(df_clean_age ['age'], kde=True)\n",
    "plt.show()"
   ]
  },
  {
   "cell_type": "markdown",
   "metadata": {},
   "source": [
    "## 探索性數據分析"
   ]
  },
  {
   "cell_type": "code",
   "execution_count": 22,
   "metadata": {},
   "outputs": [
    {
     "data": {
      "image/png": "[encoded data removed]",
      "text/plain": [
       "<Figure size 432x288 with 1 Axes>"
      ]
     },
     "metadata": {
      "needs_background": "light"
     },
     "output_type": "display_data"
    }
   ],
   "source": [
    "country_type = df_clean_age['country'].value_counts()\n",
    "\n",
    "fig, ax = plt.subplots(figsize=(6, 4))\n",
    "\n",
    "x_axis = country_type.index.tolist()\n",
    "y_axis = country_type.values.tolist()\n",
    "\n",
    "g = sns.barplot(x = x_axis, y = y_axis)\n",
    "\n",
    "plt.title('customer & country')\n",
    "plt.ylabel('count of customer', fontsize = 14)\n",
    "plt.xlabel('country_type', fontsize = 14)\n",
    "for p in g.patches:\n",
    "    h, w, x = p.get_height(), p.get_width(), p.get_x()\n",
    "    xy = (x + w / 2., h*0.75)\n",
    "    s = f'{h:0.0f}'\n",
    "    ax.annotate(s=s , xy=xy , ha='center', va='center')\n",
    "\n",
    "plt.show()"
   ]
  },
  {
   "cell_type": "code",
   "execution_count": 23,
   "metadata": {},
   "outputs": [
    {
     "data": {
      "image/png": "[encoded data removed]",
      "text/plain": [
       "<Figure size 432x288 with 1 Axes>"
      ]
     },
     "metadata": {
      "needs_background": "light"
     },
     "output_type": "display_data"
    }
   ],
   "source": [
    "source_type = df_clean_age['source'].value_counts()\n",
    "\n",
    "fig, ax = plt.subplots(figsize=(6, 4))\n",
    "\n",
    "x_axis = source_type.index.tolist()\n",
    "y_axis = source_type.values.tolist()\n",
    "\n",
    "g = sns.barplot(x = x_axis, y = y_axis)\n",
    "\n",
    "\n",
    "plt.title('customer & source')\n",
    "plt.ylabel('count of customer', fontsize = 14)\n",
    "plt.xlabel('source_type', fontsize = 14)\n",
    "for p in g.patches:\n",
    "    h, w, x = p.get_height(), p.get_width(), p.get_x()\n",
    "    xy = (x + w / 2., h*0.75)\n",
    "    s = f'{h:0.0f}'\n",
    "    ax.annotate(s=s, xy=xy, ha='center', va='center')\n",
    "\n",
    "plt.show()\n",
    "## 流量  SEO > ADS >Direct"
   ]
  },
  {
   "cell_type": "code",
   "execution_count": 24,
   "metadata": {},
   "outputs": [
    {
     "data": {
      "image/png": "[encoded data removed]",
      "text/plain": [
       "<Figure size 432x288 with 1 Axes>"
      ]
     },
     "metadata": {
      "needs_background": "light"
     },
     "output_type": "display_data"
    }
   ],
   "source": [
    "customer_type = df_clean_age['new_user'].value_counts()\n",
    "\n",
    "fig, ax = plt.subplots(figsize=(6, 4))\n",
    "\n",
    "x_axis = customer_type.index.tolist()\n",
    "y_axis = customer_type.values.tolist()\n",
    "\n",
    "g = sns.barplot(x = x_axis, y = y_axis)\n",
    "\n",
    "\n",
    "plt.title('customer status')\n",
    "plt.ylabel('count of customer', fontsize = 14)\n",
    "plt.xlabel('0: old_user, 1: new_user', fontsize = 14)\n",
    "for p in g.patches:\n",
    "    h, w, x = p.get_height(), p.get_width(), p.get_x()\n",
    "    xy = (x + w / 2., h*0.75)\n",
    "    s = f'{h:0.0f}'\n",
    "    ax.annotate(s=s, xy=xy, ha='center', va='center')\n",
    "\n",
    "plt.show()\n",
    "## 新客數 > 舊客數"
   ]
  },
  {
   "cell_type": "markdown",
   "metadata": {},
   "source": [
    "### Country 與轉換的關係"
   ]
  },
  {
   "cell_type": "code",
   "execution_count": 25,
   "metadata": {},
   "outputs": [
    {
     "data": {
      "text/html": [
       "<div>\n",
       "<style scoped>\n",
       "    .dataframe tbody tr th:only-of-type {\n",
       "        vertical-align: middle;\n",
       "    }\n",
       "\n",
       "    .dataframe tbody tr th {\n",
       "        vertical-align: top;\n",
       "    }\n",
       "\n",
       "    .dataframe thead th {\n",
       "        text-align: right;\n",
       "    }\n",
       "</style>\n",
       "<table border=\"1\" class=\"dataframe\">\n",
       "  <thead>\n",
       "    <tr style=\"text-align: right;\">\n",
       "      <th></th>\n",
       "      <th>country</th>\n",
       "      <th>converted</th>\n",
       "      <th>count</th>\n",
       "    </tr>\n",
       "  </thead>\n",
       "  <tbody>\n",
       "    <tr>\n",
       "      <th>0</th>\n",
       "      <td>China</td>\n",
       "      <td>0</td>\n",
       "      <td>75991</td>\n",
       "    </tr>\n",
       "    <tr>\n",
       "      <th>1</th>\n",
       "      <td>China</td>\n",
       "      <td>1</td>\n",
       "      <td>102</td>\n",
       "    </tr>\n",
       "    <tr>\n",
       "      <th>2</th>\n",
       "      <td>Germany</td>\n",
       "      <td>0</td>\n",
       "      <td>12151</td>\n",
       "    </tr>\n",
       "    <tr>\n",
       "      <th>3</th>\n",
       "      <td>Germany</td>\n",
       "      <td>1</td>\n",
       "      <td>815</td>\n",
       "    </tr>\n",
       "    <tr>\n",
       "      <th>4</th>\n",
       "      <td>UK</td>\n",
       "      <td>0</td>\n",
       "      <td>45618</td>\n",
       "    </tr>\n",
       "    <tr>\n",
       "      <th>5</th>\n",
       "      <td>UK</td>\n",
       "      <td>1</td>\n",
       "      <td>2547</td>\n",
       "    </tr>\n",
       "    <tr>\n",
       "      <th>6</th>\n",
       "      <td>US</td>\n",
       "      <td>0</td>\n",
       "      <td>170181</td>\n",
       "    </tr>\n",
       "    <tr>\n",
       "      <th>7</th>\n",
       "      <td>US</td>\n",
       "      <td>1</td>\n",
       "      <td>6725</td>\n",
       "    </tr>\n",
       "  </tbody>\n",
       "</table>\n",
       "</div>"
      ],
      "text/plain": [
       "   country  converted   count\n",
       "0    China          0   75991\n",
       "1    China          1     102\n",
       "2  Germany          0   12151\n",
       "3  Germany          1     815\n",
       "4       UK          0   45618\n",
       "5       UK          1    2547\n",
       "6       US          0  170181\n",
       "7       US          1    6725"
      ]
     },
     "execution_count": 25,
     "metadata": {},
     "output_type": "execute_result"
    }
   ],
   "source": [
    "## 不同國家的轉換率   ## cr=  convert_rate\n",
    "\n",
    "grouped_country = df_clean_age.groupby(['country', 'converted']).size().reset_index()\n",
    "grouped_country.columns = ['country', 'converted', 'count']\n",
    "\n",
    "grouped_country"
   ]
  },
  {
   "cell_type": "code",
   "execution_count": 26,
   "metadata": {},
   "outputs": [
    {
     "data": {
      "text/html": [
       "<div>\n",
       "<style scoped>\n",
       "    .dataframe tbody tr th:only-of-type {\n",
       "        vertical-align: middle;\n",
       "    }\n",
       "\n",
       "    .dataframe tbody tr th {\n",
       "        vertical-align: top;\n",
       "    }\n",
       "\n",
       "    .dataframe thead th {\n",
       "        text-align: right;\n",
       "    }\n",
       "</style>\n",
       "<table border=\"1\" class=\"dataframe\">\n",
       "  <thead>\n",
       "    <tr style=\"text-align: right;\">\n",
       "      <th></th>\n",
       "      <th>country</th>\n",
       "      <th>convert_rate</th>\n",
       "    </tr>\n",
       "  </thead>\n",
       "  <tbody>\n",
       "    <tr>\n",
       "      <th>0</th>\n",
       "      <td>China</td>\n",
       "      <td>0.001340</td>\n",
       "    </tr>\n",
       "    <tr>\n",
       "      <th>1</th>\n",
       "      <td>Germany</td>\n",
       "      <td>0.062857</td>\n",
       "    </tr>\n",
       "    <tr>\n",
       "      <th>2</th>\n",
       "      <td>UK</td>\n",
       "      <td>0.052881</td>\n",
       "    </tr>\n",
       "    <tr>\n",
       "      <th>3</th>\n",
       "      <td>US</td>\n",
       "      <td>0.038015</td>\n",
       "    </tr>\n",
       "  </tbody>\n",
       "</table>\n",
       "</div>"
      ],
      "text/plain": [
       "   country  convert_rate\n",
       "0    China      0.001340\n",
       "1  Germany      0.062857\n",
       "2       UK      0.052881\n",
       "3       US      0.038015"
      ]
     },
     "execution_count": 26,
     "metadata": {},
     "output_type": "execute_result"
    }
   ],
   "source": [
    "grouped_cr_country = df_clean_age[['country', 'converted']].groupby('country').mean().reset_index()\n",
    "grouped_cr_country.columns = ['country', 'convert_rate']\n",
    "grouped_cr_country.head()\n"
   ]
  },
  {
   "cell_type": "code",
   "execution_count": 27,
   "metadata": {},
   "outputs": [
    {
     "data": {
      "image/png": "[encoded data removed]",
      "text/plain": [
       "<Figure size 720x360 with 2 Axes>"
      ]
     },
     "metadata": {
      "needs_background": "light"
     },
     "output_type": "display_data"
    }
   ],
   "source": [
    "fig, ax = plt.subplots(nrows=1, ncols=2, figsize=(10, 5))\n",
    "\n",
    "sns.barplot(data = grouped_country, x ='country', hue='converted', y = 'count', ax = ax[0])\n",
    "ax[0].set_yscale(\"log\")\n",
    "ax[0].set_title('converted or not between different countries', fontsize=14)\n",
    "\n",
    "sns.barplot(data = grouped_cr_country, x ='country', y = 'convert_rate', ax = ax[1])\n",
    "ax[1].set_title('convert rate between different  countries', fontsize=14)\n",
    "plt.tight_layout()\n",
    "plt.show()"
   ]
  },
  {
   "cell_type": "markdown",
   "metadata": {},
   "source": [
    "### Age與轉換的關係"
   ]
  },
  {
   "cell_type": "code",
   "execution_count": 28,
   "metadata": {},
   "outputs": [
    {
     "data": {
      "text/html": [
       "<div>\n",
       "<style scoped>\n",
       "    .dataframe tbody tr th:only-of-type {\n",
       "        vertical-align: middle;\n",
       "    }\n",
       "\n",
       "    .dataframe tbody tr th {\n",
       "        vertical-align: top;\n",
       "    }\n",
       "\n",
       "    .dataframe thead th {\n",
       "        text-align: right;\n",
       "    }\n",
       "</style>\n",
       "<table border=\"1\" class=\"dataframe\">\n",
       "  <thead>\n",
       "    <tr style=\"text-align: right;\">\n",
       "      <th></th>\n",
       "      <th>age</th>\n",
       "      <th>convert_rate</th>\n",
       "    </tr>\n",
       "  </thead>\n",
       "  <tbody>\n",
       "    <tr>\n",
       "      <th>0</th>\n",
       "      <td>17</td>\n",
       "      <td>0.071607</td>\n",
       "    </tr>\n",
       "    <tr>\n",
       "      <th>1</th>\n",
       "      <td>18</td>\n",
       "      <td>0.066029</td>\n",
       "    </tr>\n",
       "    <tr>\n",
       "      <th>2</th>\n",
       "      <td>19</td>\n",
       "      <td>0.058616</td>\n",
       "    </tr>\n",
       "    <tr>\n",
       "      <th>3</th>\n",
       "      <td>20</td>\n",
       "      <td>0.057109</td>\n",
       "    </tr>\n",
       "    <tr>\n",
       "      <th>4</th>\n",
       "      <td>21</td>\n",
       "      <td>0.053985</td>\n",
       "    </tr>\n",
       "  </tbody>\n",
       "</table>\n",
       "</div>"
      ],
      "text/plain": [
       "   age  convert_rate\n",
       "0   17      0.071607\n",
       "1   18      0.066029\n",
       "2   19      0.058616\n",
       "3   20      0.057109\n",
       "4   21      0.053985"
      ]
     },
     "execution_count": 28,
     "metadata": {},
     "output_type": "execute_result"
    }
   ],
   "source": [
    "## 各年紀的轉換率  ## cr=  convert_rate\n",
    "\n",
    "grouped_age = df_clean_age.groupby(['age', 'converted']).size().reset_index()\n",
    "grouped_age.columns = ['age', 'converted', 'count']\n",
    "\n",
    "grouped_cr_age = df_clean_age[['age', 'converted']].groupby('age').mean().reset_index()\n",
    "grouped_cr_age.columns = ['age', 'convert_rate']\n",
    "\n",
    "grouped_cr_age.head()\n",
    "\n"
   ]
  },
  {
   "cell_type": "code",
   "execution_count": 29,
   "metadata": {},
   "outputs": [
    {
     "data": {
      "image/png": "[encoded data removed]",
      "text/plain": [
       "<Figure size 1080x288 with 2 Axes>"
      ]
     },
     "metadata": {
      "needs_background": "light"
     },
     "output_type": "display_data"
    }
   ],
   "source": [
    "fig, ax = plt.subplots(1, 2, figsize=(15, 4), sharex = True)\n",
    "\n",
    "sns.lineplot(data = grouped_age, x ='age', hue='converted', y = 'count', ax = ax[0])\n",
    "ax[0].set_yscale(\"log\")\n",
    "ax[0].set_title('converted or not between different age')\n",
    "\n",
    "sns.lineplot(data = grouped_cr_age, x ='age', y = 'convert_rate', ax = ax[1])\n",
    "ax[1].set_title('convert rate between different age')\n",
    "\n",
    "plt.show()"
   ]
  },
  {
   "cell_type": "markdown",
   "metadata": {},
   "source": [
    "### New_user與轉換的關係"
   ]
  },
  {
   "cell_type": "code",
   "execution_count": 30,
   "metadata": {},
   "outputs": [
    {
     "data": {
      "text/html": [
       "<div>\n",
       "<style scoped>\n",
       "    .dataframe tbody tr th:only-of-type {\n",
       "        vertical-align: middle;\n",
       "    }\n",
       "\n",
       "    .dataframe tbody tr th {\n",
       "        vertical-align: top;\n",
       "    }\n",
       "\n",
       "    .dataframe thead th {\n",
       "        text-align: right;\n",
       "    }\n",
       "</style>\n",
       "<table border=\"1\" class=\"dataframe\">\n",
       "  <thead>\n",
       "    <tr style=\"text-align: right;\">\n",
       "      <th></th>\n",
       "      <th>new_user</th>\n",
       "      <th>convert_rate</th>\n",
       "    </tr>\n",
       "  </thead>\n",
       "  <tbody>\n",
       "    <tr>\n",
       "      <th>0</th>\n",
       "      <td>0</td>\n",
       "      <td>0.072384</td>\n",
       "    </tr>\n",
       "    <tr>\n",
       "      <th>1</th>\n",
       "      <td>1</td>\n",
       "      <td>0.014097</td>\n",
       "    </tr>\n",
       "  </tbody>\n",
       "</table>\n",
       "</div>"
      ],
      "text/plain": [
       "   new_user  convert_rate\n",
       "0         0      0.072384\n",
       "1         1      0.014097"
      ]
     },
     "execution_count": 30,
     "metadata": {},
     "output_type": "execute_result"
    }
   ],
   "source": [
    "## 新舊用戶的轉換率\n",
    "\n",
    "grouped_user = df_clean_age.groupby(['new_user', 'converted']).size().reset_index()\n",
    "grouped_user.columns = ['new_user', 'converted', 'count']\n",
    "\n",
    "grouped_cr_user = df_clean_age[['new_user', 'converted']].groupby('new_user').mean().reset_index()\n",
    "grouped_cr_user.columns = ['new_user', 'convert_rate']\n",
    "grouped_cr_user.head()"
   ]
  },
  {
   "cell_type": "code",
   "execution_count": 31,
   "metadata": {},
   "outputs": [
    {
     "data": {
      "image/png": "[encoded data removed]",
      "text/plain": [
       "<Figure size 720x360 with 2 Axes>"
      ]
     },
     "metadata": {
      "needs_background": "light"
     },
     "output_type": "display_data"
    }
   ],
   "source": [
    "\n",
    "fig, ax = plt.subplots(nrows=1, ncols=2, figsize=(10, 5))\n",
    "\n",
    "sns.barplot(data = grouped_user, x ='new_user', hue='converted', y = 'count', ax = ax[0])\n",
    "ax[0].set_yscale(\"log\")\n",
    "ax[0].set_title('converted or not between different users', fontsize=14)\n",
    "\n",
    "sns.barplot(data = grouped_cr_user , x ='new_user', y = 'convert_rate', ax = ax[1])\n",
    "ax[1].set_title('convert rate between different users', fontsize=14)\n",
    "plt.tight_layout()\n",
    "plt.show()"
   ]
  },
  {
   "cell_type": "markdown",
   "metadata": {},
   "source": [
    "### Source與轉換的關係"
   ]
  },
  {
   "cell_type": "code",
   "execution_count": 32,
   "metadata": {},
   "outputs": [
    {
     "data": {
      "text/html": [
       "<div>\n",
       "<style scoped>\n",
       "    .dataframe tbody tr th:only-of-type {\n",
       "        vertical-align: middle;\n",
       "    }\n",
       "\n",
       "    .dataframe tbody tr th {\n",
       "        vertical-align: top;\n",
       "    }\n",
       "\n",
       "    .dataframe thead th {\n",
       "        text-align: right;\n",
       "    }\n",
       "</style>\n",
       "<table border=\"1\" class=\"dataframe\">\n",
       "  <thead>\n",
       "    <tr style=\"text-align: right;\">\n",
       "      <th></th>\n",
       "      <th>source</th>\n",
       "      <th>convert_rate</th>\n",
       "    </tr>\n",
       "  </thead>\n",
       "  <tbody>\n",
       "    <tr>\n",
       "      <th>0</th>\n",
       "      <td>Ads</td>\n",
       "      <td>0.034682</td>\n",
       "    </tr>\n",
       "    <tr>\n",
       "      <th>1</th>\n",
       "      <td>Direct</td>\n",
       "      <td>0.028370</td>\n",
       "    </tr>\n",
       "    <tr>\n",
       "      <th>2</th>\n",
       "      <td>Seo</td>\n",
       "      <td>0.033047</td>\n",
       "    </tr>\n",
       "  </tbody>\n",
       "</table>\n",
       "</div>"
      ],
      "text/plain": [
       "   source  convert_rate\n",
       "0     Ads      0.034682\n",
       "1  Direct      0.028370\n",
       "2     Seo      0.033047"
      ]
     },
     "execution_count": 32,
     "metadata": {},
     "output_type": "execute_result"
    }
   ],
   "source": [
    "## Source的轉換率\n",
    "\n",
    "grouped_source = df_clean_age.groupby(['source', 'converted']).size().reset_index()\n",
    "grouped_source.columns = ['source', 'converted', 'count']\n",
    "\n",
    "grouped_cr_source = df_clean_age[['source', 'converted']].groupby('source').mean().reset_index()\n",
    "grouped_cr_source.columns = ['source', 'convert_rate']\n",
    "grouped_cr_source.head()"
   ]
  },
  {
   "cell_type": "code",
   "execution_count": 33,
   "metadata": {},
   "outputs": [
    {
     "data": {
      "image/png": "[encoded data removed]",
      "text/plain": [
       "<Figure size 720x360 with 2 Axes>"
      ]
     },
     "metadata": {
      "needs_background": "light"
     },
     "output_type": "display_data"
    }
   ],
   "source": [
    "\n",
    "fig, ax = plt.subplots(nrows=1, ncols=2, figsize=(10, 5))\n",
    "\n",
    "sns.barplot(data = grouped_source , x='source' , hue='converted', y = 'count', ax = ax[0])\n",
    "ax[0].set_yscale(\"log\")\n",
    "ax[0].set_title('converted or not between different sources', fontsize=14)\n",
    "\n",
    "sns.barplot(data = grouped_cr_source  , x ='source', y = 'convert_rate', ax = ax[1])\n",
    "ax[1].set_title('convert rate between different sources', fontsize=14)\n",
    "plt.tight_layout()\n",
    "plt.show()"
   ]
  },
  {
   "cell_type": "markdown",
   "metadata": {},
   "source": [
    "### Total_pages_visited與轉換的關係"
   ]
  },
  {
   "cell_type": "code",
   "execution_count": 34,
   "metadata": {},
   "outputs": [
    {
     "data": {
      "text/html": [
       "<div>\n",
       "<style scoped>\n",
       "    .dataframe tbody tr th:only-of-type {\n",
       "        vertical-align: middle;\n",
       "    }\n",
       "\n",
       "    .dataframe tbody tr th {\n",
       "        vertical-align: top;\n",
       "    }\n",
       "\n",
       "    .dataframe thead th {\n",
       "        text-align: right;\n",
       "    }\n",
       "</style>\n",
       "<table border=\"1\" class=\"dataframe\">\n",
       "  <thead>\n",
       "    <tr style=\"text-align: right;\">\n",
       "      <th></th>\n",
       "      <th>total_pages_visited</th>\n",
       "      <th>convert_rate</th>\n",
       "    </tr>\n",
       "  </thead>\n",
       "  <tbody>\n",
       "    <tr>\n",
       "      <th>0</th>\n",
       "      <td>1</td>\n",
       "      <td>0.000000</td>\n",
       "    </tr>\n",
       "    <tr>\n",
       "      <th>1</th>\n",
       "      <td>2</td>\n",
       "      <td>0.000229</td>\n",
       "    </tr>\n",
       "    <tr>\n",
       "      <th>2</th>\n",
       "      <td>3</td>\n",
       "      <td>0.000253</td>\n",
       "    </tr>\n",
       "    <tr>\n",
       "      <th>3</th>\n",
       "      <td>4</td>\n",
       "      <td>0.000785</td>\n",
       "    </tr>\n",
       "    <tr>\n",
       "      <th>4</th>\n",
       "      <td>5</td>\n",
       "      <td>0.001580</td>\n",
       "    </tr>\n",
       "  </tbody>\n",
       "</table>\n",
       "</div>"
      ],
      "text/plain": [
       "   total_pages_visited  convert_rate\n",
       "0                    1      0.000000\n",
       "1                    2      0.000229\n",
       "2                    3      0.000253\n",
       "3                    4      0.000785\n",
       "4                    5      0.001580"
      ]
     },
     "execution_count": 34,
     "metadata": {},
     "output_type": "execute_result"
    }
   ],
   "source": [
    "## total_pages_visited的轉換率\n",
    "\n",
    "grouped_pages = df_clean_age.groupby(['total_pages_visited', 'converted']).size().reset_index()\n",
    "grouped_pages.columns = ['total_pages_visited', 'converted', 'count']\n",
    "\n",
    "grouped_cr_pages = df_clean_age[['total_pages_visited', 'converted']].groupby('total_pages_visited').mean().reset_index()\n",
    "grouped_cr_pages.columns = ['total_pages_visited', 'convert_rate']\n",
    "grouped_cr_pages.head()"
   ]
  },
  {
   "cell_type": "code",
   "execution_count": 35,
   "metadata": {},
   "outputs": [
    {
     "data": {
      "image/png": "[encoded data removed]",
      "text/plain": [
       "<Figure size 1080x288 with 2 Axes>"
      ]
     },
     "metadata": {
      "needs_background": "light"
     },
     "output_type": "display_data"
    }
   ],
   "source": [
    "fig, ax = plt.subplots(1, 2, figsize=(15, 4), sharex = True)\n",
    "\n",
    "sns.lineplot(data = grouped_pages, x ='total_pages_visited', hue='converted', y = 'count', ax = ax[0])\n",
    "ax[0].set_yscale(\"log\")\n",
    "ax[0].set_title('converted or not between different page_visited')\n",
    "\n",
    "sns.lineplot(data = grouped_cr_pages, x ='total_pages_visited', y = 'convert_rate', ax = ax[1])\n",
    "ax[1].set_title('convert rate between different page_visited')\n",
    "plt.show()\n"
   ]
  },
  {
   "cell_type": "markdown",
   "metadata": {},
   "source": [
    "## 模型訓練"
   ]
  },
  {
   "cell_type": "code",
   "execution_count": 36,
   "metadata": {},
   "outputs": [
    {
     "data": {
      "text/plain": [
       "Index(['index', 'age', 'new_user', 'total_pages_visited', 'converted',\n",
       "       'country_China', 'country_Germany', 'country_UK', 'country_US',\n",
       "       'source_Ads', 'source_Direct', 'source_Seo'],\n",
       "      dtype='object')"
      ]
     },
     "execution_count": 36,
     "metadata": {},
     "output_type": "execute_result"
    }
   ],
   "source": [
    "## 使用One-Hot編碼將 'country','source'  轉換為數值。\n",
    "\n",
    "dataset= df_clean_age.copy()\n",
    "dataset=pd.get_dummies(dataset, columns=['country','source'], prefix=['country','source'])\n",
    "dataset = dataset.reset_index()\n",
    "dataset.columns"
   ]
  },
  {
   "cell_type": "code",
   "execution_count": 37,
   "metadata": {},
   "outputs": [
    {
     "data": {
      "text/html": [
       "<div>\n",
       "<style scoped>\n",
       "    .dataframe tbody tr th:only-of-type {\n",
       "        vertical-align: middle;\n",
       "    }\n",
       "\n",
       "    .dataframe tbody tr th {\n",
       "        vertical-align: top;\n",
       "    }\n",
       "\n",
       "    .dataframe thead th {\n",
       "        text-align: right;\n",
       "    }\n",
       "</style>\n",
       "<table border=\"1\" class=\"dataframe\">\n",
       "  <thead>\n",
       "    <tr style=\"text-align: right;\">\n",
       "      <th></th>\n",
       "      <th>index</th>\n",
       "      <th>age</th>\n",
       "      <th>new_user</th>\n",
       "      <th>total_pages_visited</th>\n",
       "      <th>converted</th>\n",
       "      <th>country_China</th>\n",
       "      <th>country_Germany</th>\n",
       "      <th>country_UK</th>\n",
       "      <th>country_US</th>\n",
       "      <th>source_Ads</th>\n",
       "      <th>source_Direct</th>\n",
       "      <th>source_Seo</th>\n",
       "    </tr>\n",
       "  </thead>\n",
       "  <tbody>\n",
       "    <tr>\n",
       "      <th>0</th>\n",
       "      <td>0</td>\n",
       "      <td>25</td>\n",
       "      <td>1</td>\n",
       "      <td>1</td>\n",
       "      <td>0</td>\n",
       "      <td>0</td>\n",
       "      <td>0</td>\n",
       "      <td>1</td>\n",
       "      <td>0</td>\n",
       "      <td>1</td>\n",
       "      <td>0</td>\n",
       "      <td>0</td>\n",
       "    </tr>\n",
       "    <tr>\n",
       "      <th>1</th>\n",
       "      <td>1</td>\n",
       "      <td>23</td>\n",
       "      <td>1</td>\n",
       "      <td>5</td>\n",
       "      <td>0</td>\n",
       "      <td>0</td>\n",
       "      <td>0</td>\n",
       "      <td>0</td>\n",
       "      <td>1</td>\n",
       "      <td>0</td>\n",
       "      <td>0</td>\n",
       "      <td>1</td>\n",
       "    </tr>\n",
       "    <tr>\n",
       "      <th>2</th>\n",
       "      <td>2</td>\n",
       "      <td>28</td>\n",
       "      <td>1</td>\n",
       "      <td>4</td>\n",
       "      <td>0</td>\n",
       "      <td>0</td>\n",
       "      <td>0</td>\n",
       "      <td>0</td>\n",
       "      <td>1</td>\n",
       "      <td>0</td>\n",
       "      <td>0</td>\n",
       "      <td>1</td>\n",
       "    </tr>\n",
       "    <tr>\n",
       "      <th>3</th>\n",
       "      <td>3</td>\n",
       "      <td>39</td>\n",
       "      <td>1</td>\n",
       "      <td>5</td>\n",
       "      <td>0</td>\n",
       "      <td>1</td>\n",
       "      <td>0</td>\n",
       "      <td>0</td>\n",
       "      <td>0</td>\n",
       "      <td>0</td>\n",
       "      <td>0</td>\n",
       "      <td>1</td>\n",
       "    </tr>\n",
       "    <tr>\n",
       "      <th>4</th>\n",
       "      <td>4</td>\n",
       "      <td>30</td>\n",
       "      <td>1</td>\n",
       "      <td>6</td>\n",
       "      <td>0</td>\n",
       "      <td>0</td>\n",
       "      <td>0</td>\n",
       "      <td>0</td>\n",
       "      <td>1</td>\n",
       "      <td>0</td>\n",
       "      <td>0</td>\n",
       "      <td>1</td>\n",
       "    </tr>\n",
       "  </tbody>\n",
       "</table>\n",
       "</div>"
      ],
      "text/plain": [
       "   index  age  new_user  total_pages_visited  converted  country_China  \\\n",
       "0      0   25         1                    1          0              0   \n",
       "1      1   23         1                    5          0              0   \n",
       "2      2   28         1                    4          0              0   \n",
       "3      3   39         1                    5          0              1   \n",
       "4      4   30         1                    6          0              0   \n",
       "\n",
       "   country_Germany  country_UK  country_US  source_Ads  source_Direct  \\\n",
       "0                0           1           0           1              0   \n",
       "1                0           0           1           0              0   \n",
       "2                0           0           1           0              0   \n",
       "3                0           0           0           0              0   \n",
       "4                0           0           1           0              0   \n",
       "\n",
       "   source_Seo  \n",
       "0           0  \n",
       "1           1  \n",
       "2           1  \n",
       "3           1  \n",
       "4           1  "
      ]
     },
     "execution_count": 37,
     "metadata": {},
     "output_type": "execute_result"
    }
   ],
   "source": [
    "dataset.head()"
   ]
  },
  {
   "cell_type": "code",
   "execution_count": 38,
   "metadata": {},
   "outputs": [
    {
     "name": "stdout",
     "output_type": "stream",
     "text": [
      "0.032435615827841976\n",
      "0.0324342515155236 0.03243879922325152\n"
     ]
    }
   ],
   "source": [
    "## 將資料集分成 training and  test\n",
    "X_new = dataset[[ 'age', 'new_user', 'total_pages_visited', \n",
    "       'country_China', 'country_Germany', 'country_UK', 'country_US',\n",
    "       'source_Ads', 'source_Direct', 'source_Seo']]\n",
    "y_new = dataset['converted']\n",
    "\n",
    "features = list(X_new.columns)\n",
    "\n",
    "## 將資料分成 7:3 的 training 和 test\n",
    "\n",
    "## 20221122 使用分層抽樣 (stratify) 參數來分割資料 , stratify=y_new\n",
    "X_train, X_test, y_train, y_test = train_test_split(X_new, y_new, test_size=0.3, stratify=y_new) \n",
    "\n",
    "\n",
    "print(y_new.mean())\n",
    "print(y_train.mean(),y_test.mean())\n",
    "## 因為y_train.mean()和y_test.mean()都與y.mean()相似，我們可以說，拆分過程沒有導入任何偏差。"
   ]
  },
  {
   "cell_type": "markdown",
   "metadata": {},
   "source": [
    "## LogisticRegressionCV進行分類"
   ]
  },
  {
   "cell_type": "code",
   "execution_count": 39,
   "metadata": {},
   "outputs": [
    {
     "name": "stderr",
     "output_type": "stream",
     "text": [
      "[Parallel(n_jobs=-1)]: Using backend LokyBackend with 12 concurrent workers.\n",
      "[Parallel(n_jobs=-1)]: Done   5 out of   5 | elapsed:   10.5s finished\n"
     ]
    },
    {
     "name": "stdout",
     "output_type": "stream",
     "text": [
      "訓練集:  0.9860766184575267\n",
      "測試集:  0.9858936915931856\n",
      "              precision    recall  f1-score   support\n",
      "\n",
      "           0       0.99      1.00      0.99     91182\n",
      "           1       0.85      0.68      0.76      3057\n",
      "\n",
      "    accuracy                           0.99     94239\n",
      "   macro avg       0.92      0.84      0.87     94239\n",
      "weighted avg       0.98      0.99      0.98     94239\n",
      "\n"
     ]
    }
   ],
   "source": [
    "\n",
    "'''\n",
    "lrcv  = LogisticRegressionCV(Cs=np.logspace(-3,3,5) ,  dual=False, scoring='roc_auc',  \n",
    "                              max_iter=1000, n_jobs=-1, verbose=1) \n",
    "\n",
    "'''\n",
    "lrcv  = LogisticRegressionCV(Cs=np.logspace(-3,3,10) ,  dual=False, scoring='roc_auc',   \n",
    "                              max_iter=1000, n_jobs=-1, verbose=1)\n",
    " \n",
    "\n",
    "\n",
    "lrcv.fit(X_train,y_train)\n",
    "\n",
    "lrcv.score(X_train,y_train)\n",
    "lrcv.score(X_test,y_test)\n",
    "y_test_predict = lrcv.predict(X_test)\n",
    "\n",
    "\n",
    "## 預測成功的比例\n",
    "print('訓練集: ',lrcv.score(X_train,y_train))\n",
    "print('測試集: ',lrcv.score(X_test,y_test))\n",
    "print(classification_report( y_test, y_test_predict))\n",
    "\n",
    "## scikit-learn的LogisticRegressionCV說明 :   https://scikit-learn.org.cn/view/381.html\n",
    "## Logistic回歸—LogisticRegressionCV實現參數優化: https://reurl.cc/lZDqLd\n",
    "## scoring 各項指標說明 : https://blog.csdn.net/CherDW/article/details/55813071"
   ]
  },
  {
   "cell_type": "markdown",
   "metadata": {},
   "source": [
    "\n",
    "從LogisticRegressionCV的結果來看，\n",
    "模型準確度0.85，但召回率只有0.68～0.7，意味者此模型將３０％～３２％的轉換用戶分類為非轉換用戶。\n",
    "\n",
    "指標評估 :https://www.ycc.idv.tw/confusion-matrix.html"
   ]
  },
  {
   "cell_type": "code",
   "execution_count": 40,
   "metadata": {},
   "outputs": [
    {
     "data": {
      "text/plain": [
       "country_China          2.704957\n",
       "new_user               1.719251\n",
       "country_Germany        1.101842\n",
       "country_UK             0.918462\n",
       "total_pages_visited    0.762377\n",
       "country_US             0.530908\n",
       "source_Direct          0.178229\n",
       "age                    0.072919\n",
       "source_Ads             0.035454\n",
       "source_Seo             0.010969\n",
       "dtype: float64"
      ]
     },
     "execution_count": 40,
     "metadata": {},
     "output_type": "execute_result"
    }
   ],
   "source": [
    "## 查看各特徵的重要性\n",
    "\n",
    "'''\n",
    "feat_importances = pd.DataFrame({\"name\":X_train.columns,\"coef\":lrcv.coef_[0]})\n",
    "feat_importances = feat_importances[['name','coef']]# reorder the columns\n",
    "feat_importances['importances'] = np.abs( feat_importances['coef'] )\n",
    "feat_importances.sort_values(by=\"importances\",inplace=True,ascending=False)\n",
    "feat_importances\n",
    "'''\n",
    "importances = abs(lrcv.coef_[0])\n",
    "feat_importances = pd.Series(importances,index=features)\n",
    "feat_importances.sort_values(ascending=False)\n"
   ]
  },
  {
   "cell_type": "markdown",
   "metadata": {},
   "source": [
    "## GradientBoostingClassifier進行分類"
   ]
  },
  {
   "cell_type": "code",
   "execution_count": 41,
   "metadata": {},
   "outputs": [
    {
     "name": "stdout",
     "output_type": "stream",
     "text": [
      "訓練集:  0.9862113501689473\n",
      "測試集:  0.9855792187947665\n",
      "--------------- \n",
      "\n",
      "f1 score:  0.7531335149863759\n",
      "precision score:  0.8468137254901961\n",
      "recall score:  0.6781157998037292\n",
      "confusion matrix: \n",
      " [[90807   375]\n",
      " [  984  2073]]\n",
      "              precision    recall  f1-score   support\n",
      "\n",
      "           0       0.99      1.00      0.99     91182\n",
      "           1       0.85      0.68      0.75      3057\n",
      "\n",
      "    accuracy                           0.99     94239\n",
      "   macro avg       0.92      0.84      0.87     94239\n",
      "weighted avg       0.98      0.99      0.98     94239\n",
      "\n"
     ]
    }
   ],
   "source": [
    "#建立梯度提升機\n",
    "GBclf = GradientBoostingClassifier()\n",
    "\n",
    "#特徵選擇\n",
    "GBclf.fit(X_train,y_train)\n",
    "\n",
    "y_pred =GBclf.predict(X_test)\n",
    "fpr_xgb, tpr_xgb, _= roc_curve(y_test, y_pred)\n",
    "\n",
    "\n",
    "## 預測成功的比例\n",
    "print('訓練集: ',GBclf.score(X_train,y_train))\n",
    "print('測試集: ',GBclf.score(X_test,y_test))\n",
    "print('--------------- \\n')\n",
    "print('f1 score: ',f1_score(y_test, y_pred))\n",
    "print('precision score: ',precision_score(y_test, y_pred))\n",
    "print('recall score: ',recall_score(y_test, y_pred))\n",
    "\n",
    "print(\"confusion matrix: \\n\", confusion_matrix(y_test,y_pred))\n",
    "print(classification_report(y_test,y_pred))"
   ]
  },
  {
   "cell_type": "code",
   "execution_count": 42,
   "metadata": {},
   "outputs": [
    {
     "data": {
      "text/plain": [
       "total_pages_visited    0.863639\n",
       "new_user               0.057561\n",
       "country_China          0.054014\n",
       "age                    0.022559\n",
       "country_Germany        0.000683\n",
       "country_US             0.000575\n",
       "country_UK             0.000429\n",
       "source_Direct          0.000301\n",
       "source_Ads             0.000210\n",
       "source_Seo             0.000028\n",
       "dtype: float64"
      ]
     },
     "execution_count": 42,
     "metadata": {},
     "output_type": "execute_result"
    }
   ],
   "source": [
    "## 查看各特徵的重要性\n",
    "feats = pd.Series(data=GBclf.feature_importances_, index=features)\n",
    "feats = feats.sort_values(ascending=False)\n",
    "feats"
   ]
  },
  {
   "cell_type": "code",
   "execution_count": null,
   "metadata": {},
   "outputs": [],
   "source": []
  },
  {
   "cell_type": "markdown",
   "metadata": {},
   "source": [
    "## 針對樣本不平均的處理"
   ]
  },
  {
   "cell_type": "code",
   "execution_count": 43,
   "metadata": {},
   "outputs": [
    {
     "name": "stderr",
     "output_type": "stream",
     "text": [
      "Using TensorFlow backend.\n",
      "WARNING: Logging before flag parsing goes to stderr.\n",
      "W1123 13:09:04.887025 28992 __init__.py:308] Limited tf.compat.v2.summary API due to missing TensorBoard installation.\n"
     ]
    },
    {
     "name": "stdout",
     "output_type": "stream",
     "text": [
      "balanced training data:  [0 1] [212759 212759]\n"
     ]
    }
   ],
   "source": [
    "#解決分類樣本數量不平衡的狀況的套件\n",
    "from imblearn.over_sampling import SMOTE\n",
    "#將訓練資料集透過 SMOTE 技術，將不平衡的 converted 調整為 0 : 1  = 1:1  \n",
    "'''\n",
    "sm = SMOTE(random_state=4)\n",
    "train_data,train_Y_res = sm.fit_sample(df_train, train_Y.ravel())\n",
    "train_data_res = pd.DataFrame(train_data_res,columns=df_train.columns)\n",
    "'''\n",
    "sm = SMOTE(random_state=4)\n",
    "X_train, y_train = sm.fit_sample(X_train, y_train)\n",
    "\n",
    "unique, counts = np.unique(y_train, return_counts=True)\n",
    "print(\"balanced training data: \", unique, counts)"
   ]
  },
  {
   "cell_type": "code",
   "execution_count": 44,
   "metadata": {},
   "outputs": [
    {
     "name": "stderr",
     "output_type": "stream",
     "text": [
      "[Parallel(n_jobs=-1)]: Using backend LokyBackend with 12 concurrent workers.\n",
      "[Parallel(n_jobs=-1)]: Done   5 out of   5 | elapsed:   54.6s finished\n"
     ]
    },
    {
     "name": "stdout",
     "output_type": "stream",
     "text": [
      "訓練集:  0.9916288836578374\n",
      "測試集:  0.9850881728941114\n",
      "              precision    recall  f1-score   support\n",
      "\n",
      "           0       1.00      0.95      0.97     91182\n",
      "           1       0.39      0.92      0.55      3057\n",
      "\n",
      "    accuracy                           0.95     94239\n",
      "   macro avg       0.70      0.94      0.76     94239\n",
      "weighted avg       0.98      0.95      0.96     94239\n",
      "\n"
     ]
    }
   ],
   "source": [
    "lrcv  = LogisticRegressionCV(Cs=np.logspace(-3,3,10) ,  dual=False, scoring='roc_auc',   \n",
    "                              max_iter=1000, n_jobs=-1, verbose=1)\n",
    " \n",
    "\n",
    "\n",
    "lrcv.fit(X_train,y_train)\n",
    "\n",
    "lrcv.score(X_train,y_train)\n",
    "lrcv.score(X_test,y_test)\n",
    "y_test_predict = lrcv.predict(X_test)\n",
    "\n",
    "\n",
    "## 預測成功的比例\n",
    "print('訓練集: ',lrcv.score(X_train,y_train))\n",
    "print('測試集: ',lrcv.score(X_test,y_test))\n",
    "print(classification_report( y_test, y_test_predict))"
   ]
  },
  {
   "cell_type": "code",
   "execution_count": 45,
   "metadata": {},
   "outputs": [
    {
     "data": {
      "text/plain": [
       "country_China          15.183342\n",
       "source_Direct          10.843454\n",
       "source_Ads             10.526161\n",
       "country_Germany        10.403415\n",
       "source_Seo             10.391466\n",
       "country_US              9.895072\n",
       "country_UK              9.859488\n",
       "new_user                2.382790\n",
       "total_pages_visited     0.816352\n",
       "age                     0.093207\n",
       "dtype: float64"
      ]
     },
     "execution_count": 45,
     "metadata": {},
     "output_type": "execute_result"
    }
   ],
   "source": [
    "## 查看各特徵的重要性\n",
    "importances = abs(lrcv.coef_[0])\n",
    "feat_importances = pd.Series(importances,index=features)\n",
    "feat_importances.sort_values(ascending=False)\n"
   ]
  },
  {
   "cell_type": "code",
   "execution_count": 46,
   "metadata": {},
   "outputs": [
    {
     "name": "stdout",
     "output_type": "stream",
     "text": [
      "訓練集:  0.9505473328977858\n",
      "測試集:  0.9477817039654496\n",
      "--------------- \n",
      "\n",
      "f1 score:  0.5347452018530774\n",
      "precision score:  0.376063829787234\n",
      "recall score:  0.9250899574746484\n",
      "confusion matrix: \n",
      " [[86490  4692]\n",
      " [  229  2828]]\n",
      "              precision    recall  f1-score   support\n",
      "\n",
      "           0       1.00      0.95      0.97     91182\n",
      "           1       0.38      0.93      0.53      3057\n",
      "\n",
      "    accuracy                           0.95     94239\n",
      "   macro avg       0.69      0.94      0.75     94239\n",
      "weighted avg       0.98      0.95      0.96     94239\n",
      "\n"
     ]
    }
   ],
   "source": [
    "#建立梯度提升機\n",
    "GBclf = GradientBoostingClassifier()\n",
    "\n",
    "#特徵選擇\n",
    "GBclf.fit(X_train,y_train)\n",
    "\n",
    "y_pred =GBclf.predict(X_test)\n",
    "fpr_xgb, tpr_xgb, _= roc_curve(y_test, y_pred)\n",
    "\n",
    "\n",
    "## 預測成功的比例\n",
    "print('訓練集: ',GBclf.score(X_train,y_train))\n",
    "print('測試集: ',GBclf.score(X_test,y_test))\n",
    "print('--------------- \\n')\n",
    "print('f1 score: ',f1_score(y_test, y_pred))\n",
    "print('precision score: ',precision_score(y_test, y_pred))\n",
    "print('recall score: ',recall_score(y_test, y_pred))\n",
    "\n",
    "print(\"confusion matrix: \\n\", confusion_matrix(y_test,y_pred))\n",
    "print(classification_report(y_test,y_pred))"
   ]
  },
  {
   "cell_type": "code",
   "execution_count": 47,
   "metadata": {},
   "outputs": [
    {
     "data": {
      "text/plain": [
       "total_pages_visited    0.904585\n",
       "new_user               0.043647\n",
       "country_China          0.040120\n",
       "age                    0.005513\n",
       "source_Ads             0.003779\n",
       "country_US             0.000942\n",
       "country_UK             0.000528\n",
       "source_Direct          0.000413\n",
       "country_Germany        0.000303\n",
       "source_Seo             0.000171\n",
       "dtype: float64"
      ]
     },
     "execution_count": 47,
     "metadata": {},
     "output_type": "execute_result"
    }
   ],
   "source": [
    "## 查看各特徵的重要性\n",
    "feats = pd.Series(data=GBclf.feature_importances_, index=features)\n",
    "feats = feats.sort_values(ascending=False)\n",
    "feats"
   ]
  },
  {
   "cell_type": "markdown",
   "metadata": {},
   "source": [
    "Precision和Recall同時關注的都是True Positive（都在分子），但是角度不一樣，Precision看的是在預測正向的情形下，實際的「精準度」是多少，而Recall則是看在實際情形為正向的狀況下，預測「能召回多少」實際正向的答案。(引用 如何辨別機器學習模型的好壞？秒懂Confusion Matrix)\n",
    "\n",
    "這意味著數據團隊要去衡量跟注意要用什麼指標去看,例如模型準確率跟Recall或其他指標。調整數據平衡就會導致模型準確度降低。"
   ]
  },
  {
   "cell_type": "markdown",
   "metadata": {},
   "source": [
    "## 結論與建議\n",
    "\n",
    "1. 客戶主要來自美國，但他們的轉化率並不是第一。推測我們的網站很可能來自美國，這裡的人們可能有很多選擇。來自德國的顧客最少，但轉化率最高。轉換率高，建議團隊可以針對德國人去做行銷，吸引更多的德國人。\n",
    "\n",
    "\n",
    "2. 2/3的瀏覽者是新客戶,其餘為回頭客,而回頭客的轉換率是新顧客的近5倍(0.0724 : 0.0141)。因此,留住老客戶非常重要。這邊會需要關注 [客戶留存率]與[客戶流失率]。\n",
    "\n",
    "\n",
    "3. total_pages_visited是影響整個轉換率(或模型)最重要的特徵，這意味著用戶瀏覽我們網站的時間越長，轉化並下單的可能性就越大。但也還是存在著有顧客的total_pages_visited很高(>15),但卻沒下單的情況。推測對方應該還是有很高度的購買意願,因此可以透過email向對方發送提醒或促銷(例如:還有商品在購物車的通知信)。也可以去分析影響這些族群的下單因素(EX:價格或是商品評論 etc.)。\n",
    "\n",
    "\n",
    "4. 被廣告（Ads）吸引的用戶的平均轉化率最高，這意味著我們廣告系統是否能夠精准定位潛在客戶，那麼轉換率會提高很多。\n",
    "\n",
    "\n",
    "\n"
   ]
  },
  {
   "cell_type": "code",
   "execution_count": 48,
   "metadata": {},
   "outputs": [],
   "source": [
    "## 參考\n",
    "## 1. https://github.com/stasi009/TakeHomeDataChallenges\n",
    "## 2. https://github.com/dongzhang84/data_challenges\n",
    "## 3."
   ]
  }
 ],
 "metadata": {
  "kernelspec": {
   "display_name": "Python 3",
   "language": "python",
   "name": "python3"
  },
  "language_info": {
   "codemirror_mode": {
    "name": "ipython",
    "version": 3
   },
   "file_extension": ".py",
   "mimetype": "text/x-python",
   "name": "python",
   "nbconvert_exporter": "python",
   "pygments_lexer": "ipython3",
   "version": "3.6.7"
  }
 },
 "nbformat": 4,
 "nbformat_minor": 2
}
